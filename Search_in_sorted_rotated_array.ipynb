{
 "cells": [
  {
   "cell_type": "code",
   "execution_count": 2,
   "metadata": {},
   "outputs": [
    {
     "name": "stdout",
     "output_type": "stream",
     "text": [
      "2\n"
     ]
    }
   ],
   "source": [
    "#Search the number in sorted and rotated array\n",
    "\n",
    "def search (arr, l, h, key): \n",
    "    if l > h: \n",
    "        return -1\n",
    "      \n",
    "    mid = (l + h) // 2\n",
    "    if arr[mid] == key: \n",
    "        return mid \n",
    "  \n",
    "    # If arr[l...mid] is sorted  \n",
    "    if arr[l] <= arr[mid]: \n",
    "  \n",
    "        # As this subarray is sorted, we can quickly \n",
    "        # check if key lies in half or other half  \n",
    "        if key >= arr[l] and key <= arr[mid]: \n",
    "            return search(arr, l, mid-1, key) \n",
    "        return search(arr, mid+1, h, key) \n",
    "  \n",
    "    # If arr[l..mid] is not sorted, then arr[mid... r] \n",
    "    # must be sorted \n",
    "    if key >= arr[mid] and key <= arr[h]: \n",
    "        return search(a, mid+1, h, key) \n",
    "    return search(arr, l, mid-1, key) \n",
    "  \n",
    "# Driver program \n",
    "arr = [4, 5, 6, 7, 8, 9, 1, 2, 3] \n",
    "key = 6\n",
    "i = search(arr, 0, len(arr)-1, key) \n",
    "if i != -1: \n",
    "    print (\"Index: %d\"%i) \n",
    "else: \n",
    "    print (\"Key not found\") "
   ]
  },
  {
   "cell_type": "code",
   "execution_count": null,
   "metadata": {},
   "outputs": [],
   "source": [
    "def binarySearch (arr, l, r, x): \n",
    "  \n",
    "    # Check base case \n",
    "    if r >= l: \n",
    "  \n",
    "        mid = l + (r - l)/2\n",
    "  \n",
    "        if arr[mid] == x: \n",
    "            return mid \n",
    "          \n",
    "        elif arr[mid] > x: \n",
    "            return binarySearch(arr, l, mid-1, x) \n",
    "  \n",
    "        else: \n",
    "            return binarySearch(arr, mid + 1, r, x) \n",
    "  \n",
    "    else: \n",
    "        return -1\n",
    "  \n",
    "# Test array \n",
    "arr = [ 2, 3, 4, 10, 40 ] \n",
    "x = 10\n",
    "  \n",
    "# Function call \n",
    "result = binarySearch(arr, 0, len(arr)-1, x) \n",
    "  \n",
    "if result != -1: \n",
    "    print \"Element is present at index % d\" % result \n",
    "else: \n",
    "    print \"Element is not present in array\""
   ]
  }
 ],
 "metadata": {
  "kernelspec": {
   "display_name": "Python 3",
   "language": "python",
   "name": "python3"
  },
  "language_info": {
   "codemirror_mode": {
    "name": "ipython",
    "version": 3
   },
   "file_extension": ".py",
   "mimetype": "text/x-python",
   "name": "python",
   "nbconvert_exporter": "python",
   "pygments_lexer": "ipython3",
   "version": "3.7.0"
  }
 },
 "nbformat": 4,
 "nbformat_minor": 2
}
