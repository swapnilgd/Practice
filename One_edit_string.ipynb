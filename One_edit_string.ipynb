{
 "cells": [
  {
   "cell_type": "code",
   "execution_count": 5,
   "metadata": {},
   "outputs": [],
   "source": [
    "def OneEdit(s1,s2):\n",
    "    \n",
    "    m = len(s1)\n",
    "    n = len(s2)\n",
    "    \n",
    "    if m < 1 and m < 1:\n",
    "        return False\n",
    "    \n",
    "    if abs(m-n) > 1:\n",
    "        return False\n",
    "    \n",
    "    i = j = count = 0\n",
    "    \n",
    "    while i < m and j < n:\n",
    "        if s1[i] != s2[j]:\n",
    "            count += 1\n",
    "            if count > 1:\n",
    "                return False\n",
    "            \n",
    "            if m == n:\n",
    "                i += 1\n",
    "                j += 1\n",
    "            elif m >= n:\n",
    "                i += 1\n",
    "            else:\n",
    "                j += 1\n",
    "        else:\n",
    "            i += 1\n",
    "            j += 1\n",
    "    if i < m or j < n:\n",
    "        count += 1\n",
    "    return count == 1\n",
    "        "
   ]
  },
  {
   "cell_type": "code",
   "execution_count": 4,
   "metadata": {},
   "outputs": [
    {
     "data": {
      "text/plain": [
       "True"
      ]
     },
     "execution_count": 4,
     "metadata": {},
     "output_type": "execute_result"
    }
   ],
   "source": [
    "s1 = 'bt'\n",
    "s2 = 'bat'\n",
    "OneEdit(s1,s2)"
   ]
  },
  {
   "cell_type": "code",
   "execution_count": null,
   "metadata": {},
   "outputs": [],
   "source": []
  }
 ],
 "metadata": {
  "kernelspec": {
   "display_name": "Python 3",
   "language": "python",
   "name": "python3"
  },
  "language_info": {
   "codemirror_mode": {
    "name": "ipython",
    "version": 3
   },
   "file_extension": ".py",
   "mimetype": "text/x-python",
   "name": "python",
   "nbconvert_exporter": "python",
   "pygments_lexer": "ipython3",
   "version": "3.7.0"
  }
 },
 "nbformat": 4,
 "nbformat_minor": 2
}
