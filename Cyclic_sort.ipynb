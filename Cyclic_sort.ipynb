{
 "cells": [
  {
   "cell_type": "code",
   "execution_count": 11,
   "metadata": {},
   "outputs": [],
   "source": [
    "def cyclic_sort(arr):\n",
    "    i = 0\n",
    "    \n",
    "    if max(arr) > len(arr):\n",
    "        return \"Invalid input\"\n",
    "    \n",
    "    while i < len(arr):\n",
    "        j = arr[i] - 1\n",
    "        if arr[i] != arr[j]:\n",
    "            arr[i],arr[j] = arr[j],arr[i]\n",
    "        else:\n",
    "            i += 1\n",
    "    return arr"
   ]
  },
  {
   "cell_type": "code",
   "execution_count": 17,
   "metadata": {},
   "outputs": [
    {
     "data": {
      "text/plain": [
       "[1, 2, 3, 4, 5]"
      ]
     },
     "execution_count": 17,
     "metadata": {},
     "output_type": "execute_result"
    }
   ],
   "source": [
    "arr = [3,1,5,4,2]\n",
    "cyclic_sort(arr)"
   ]
  },
  {
   "cell_type": "code",
   "execution_count": 18,
   "metadata": {},
   "outputs": [],
   "source": [
    "def cyclic_sort2(arr):\n",
    "    temp = i = 0\n",
    "    \n",
    "    while i < len(arr):\n",
    "        temp = arr[i] - 1\n",
    "        if arr[i] != arr[temp]:\n",
    "            arr[i],arr[temp] = arr[temp],arr[i]\n",
    "        else:\n",
    "            i += 1\n",
    "    return arr"
   ]
  },
  {
   "cell_type": "code",
   "execution_count": 19,
   "metadata": {},
   "outputs": [
    {
     "data": {
      "text/plain": [
       "[1, 2, 3, 4, 5, 6]"
      ]
     },
     "execution_count": 19,
     "metadata": {},
     "output_type": "execute_result"
    }
   ],
   "source": [
    "arr = [2, 6, 4, 3, 1, 5]\n",
    "cyclic_sort2(arr)"
   ]
  },
  {
   "cell_type": "code",
   "execution_count": 48,
   "metadata": {},
   "outputs": [],
   "source": [
    "def cyclic_sort3(arr):\n",
    "    i = 0\n",
    "    \n",
    "    while i < len(arr):\n",
    "        j = arr[i] - 1\n",
    "        if arr[i] != arr[j]:\n",
    "            arr[i],arr[j] = arr[j],arr[i]\n",
    "        else:\n",
    "            i += 1\n",
    "    dup = []\n",
    "    for i in range(len(arr)):\n",
    "        if arr[i] != i+1 and not arr[i] in dup:\n",
    "            dup.append(arr[i])\n",
    "    \n",
    "    return dup"
   ]
  },
  {
   "cell_type": "code",
   "execution_count": 50,
   "metadata": {},
   "outputs": [
    {
     "data": {
      "text/plain": [
       "[3, 5]"
      ]
     },
     "execution_count": 50,
     "metadata": {},
     "output_type": "execute_result"
    }
   ],
   "source": [
    "arr = [5, 4, 7, 2, 3, 5, 3]\n",
    "cyclic_sort3(arr)"
   ]
  },
  {
   "cell_type": "code",
   "execution_count": 1,
   "metadata": {},
   "outputs": [],
   "source": [
    "def missing_numbers(arr):\n",
    "    i = 0\n",
    "    \n",
    "    while i < len(arr):\n",
    "        j = arr[i] - 1\n",
    "        \n",
    "        if arr[i] != arr[j]:\n",
    "            arr[i],arr[j] = arr[j],arr[i]\n",
    "        else:\n",
    "            i += 1\n",
    "            \n",
    "    out = []\n",
    "    \n",
    "    for i in range(len(arr)):\n",
    "        if arr[i] != i+1:\n",
    "            out.append(i)\n",
    "    return out\n",
    "    "
   ]
  },
  {
   "cell_type": "code",
   "execution_count": null,
   "metadata": {},
   "outputs": [],
   "source": [
    "arr = [-3,1,5,4,2]\n",
    "missing_numbers(arr)"
   ]
  },
  {
   "cell_type": "code",
   "execution_count": null,
   "metadata": {},
   "outputs": [],
   "source": [
    "def possitive_missing(arr):\n",
    "    i = 0\n",
    "    \n",
    "    while i < len(arr):\n",
    "        j = arr[i] - 1\n",
    "        if arr[i] != arr[j]:\n",
    "            arr[i],arr[j] = arr[j],arrp[i]\n",
    "        else:\n",
    "            i += 1\n",
    "    \n",
    "    for i in range(len(arr)):\n",
    "        arr[i] != i + 1\n",
    "        return i+1"
   ]
  },
  {
   "cell_type": "code",
   "execution_count": null,
   "metadata": {},
   "outputs": [],
   "source": [
    "arr = [-3,1,5,4,2]"
   ]
  },
  {
   "cell_type": "code",
   "execution_count": null,
   "metadata": {},
   "outputs": [],
   "source": []
  }
 ],
 "metadata": {
  "kernelspec": {
   "display_name": "Python 3",
   "language": "python",
   "name": "python3"
  },
  "language_info": {
   "codemirror_mode": {
    "name": "ipython",
    "version": 3
   },
   "file_extension": ".py",
   "mimetype": "text/x-python",
   "name": "python",
   "nbconvert_exporter": "python",
   "pygments_lexer": "ipython3",
   "version": "3.7.0"
  }
 },
 "nbformat": 4,
 "nbformat_minor": 2
}
