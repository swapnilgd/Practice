{
 "cells": [
  {
   "cell_type": "code",
   "execution_count": null,
   "metadata": {},
   "outputs": [],
   "source": [
    "#Merge Two sorted LinkedList\n",
    "def MergeTwoLists(l1,l2):\n",
    "    \n",
    "    if l1 is None:\n",
    "        return l2\n",
    "    elif l2 is None:\n",
    "        return l1\n",
    "    \n",
    "    elif l1.val < l2.val:\n",
    "        l1.next = MergeTwoLists(l1.next,l2)\n",
    "        return l1\n",
    "    else:\n",
    "        l2.next = MergeTwoLists(l1,l2.next)\n",
    "        return l2\n",
    "    \n",
    "    "
   ]
  },
  {
   "cell_type": "code",
   "execution_count": null,
   "metadata": {},
   "outputs": [],
   "source": [
    "\n",
    "def Merge(l1,l2):\n",
    "    \n",
    "    #Edge cases\n",
    "    if l1 is None:\n",
    "        return l2\n",
    "    elif l2 is None:\n",
    "        return l1\n",
    "    \n",
    "    elif l1.val < l2.val:\n",
    "        l1.next = Merge(l1.next,l2)\n",
    "        return l1\n",
    "    else:\n",
    "        l2.next = Merge(l1,l2.next)\n",
    "        return l2\n",
    "    "
   ]
  },
  {
   "cell_type": "code",
   "execution_count": null,
   "metadata": {},
   "outputs": [],
   "source": [
    "\n",
    "class ListNode(object):\n",
    "    def __init__(self,x):\n",
    "        self.val = x\n",
    "        self.next = None\n",
    "        \n",
    "    def Merge(l1,l2):\n",
    "        \n",
    "        if l1 is None:\n",
    "            return l2\n",
    "        \n",
    "        elif l2 is None:\n",
    "            return l1\n",
    "        \n",
    "        elif l1.val < l2.val:\n",
    "            l1.next = Merge(l1.next,l2)\n",
    "            return l1\n",
    "        else:\n",
    "            l2.next = Merge(l1,l2.next)\n",
    "            return l2\n",
    "        "
   ]
  }
 ],
 "metadata": {
  "kernelspec": {
   "display_name": "Python 3",
   "language": "python",
   "name": "python3"
  },
  "language_info": {
   "codemirror_mode": {
    "name": "ipython",
    "version": 3
   },
   "file_extension": ".py",
   "mimetype": "text/x-python",
   "name": "python",
   "nbconvert_exporter": "python",
   "pygments_lexer": "ipython3",
   "version": "3.7.0"
  }
 },
 "nbformat": 4,
 "nbformat_minor": 2
}
