{
 "cells": [
  {
   "cell_type": "code",
   "execution_count": 1,
   "metadata": {},
   "outputs": [],
   "source": [
    "def Two_sum(target,a):\n",
    "    seen = set()\n",
    "    output = []\n",
    "    for number in a:\n",
    "        temp = target + number\n",
    "        if temp not in seen:\n",
    "            seen.add(number)\n",
    "        else:\n",
    "            return temp,number\n",
    "    return False\n",
    "\n",
    "def sum3(arr):\n",
    "\n",
    "    arr.sort()\n",
    "    arr2 = []\n",
    "    out = []\n",
    "    for num in arr:\n",
    "        if num >= 0:\n",
    "            arr2.append(num)\n",
    "\n",
    "    for num in arr:\n",
    "        if num >= 0:\n",
    "            break\n",
    "        else:\n",
    "            result = Two_sum(num,arr2)\n",
    "            if result != False:\n",
    "                out.append(num)\n",
    "                out.append(result)\n",
    "    \n",
    "    for num in arr2:\n",
    "        result = Two_sum(num,arr)\n",
    "        if result != False:\n",
    "            out.append(num)\n",
    "            out.append(result)\n",
    "            \n",
    "    return out\n",
    "    "
   ]
  },
  {
   "cell_type": "code",
   "execution_count": 2,
   "metadata": {},
   "outputs": [
    {
     "data": {
      "text/plain": [
       "[-4, (0, 4), -2, (0, 2)]"
      ]
     },
     "execution_count": 2,
     "metadata": {},
     "output_type": "execute_result"
    }
   ],
   "source": [
    "arr = [-5,-4,-2,0,2,4]\n",
    "sum3(arr)"
   ]
  },
  {
   "cell_type": "code",
   "execution_count": null,
   "metadata": {},
   "outputs": [],
   "source": []
  },
  {
   "cell_type": "code",
   "execution_count": null,
   "metadata": {},
   "outputs": [],
   "source": []
  }
 ],
 "metadata": {
  "kernelspec": {
   "display_name": "Python 3",
   "language": "python",
   "name": "python3"
  },
  "language_info": {
   "codemirror_mode": {
    "name": "ipython",
    "version": 3
   },
   "file_extension": ".py",
   "mimetype": "text/x-python",
   "name": "python",
   "nbconvert_exporter": "python",
   "pygments_lexer": "ipython3",
   "version": "3.7.0"
  }
 },
 "nbformat": 4,
 "nbformat_minor": 2
}
