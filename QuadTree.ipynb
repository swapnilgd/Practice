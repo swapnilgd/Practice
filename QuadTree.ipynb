{
 "cells": [
  {
   "cell_type": "code",
   "execution_count": 1,
   "metadata": {},
   "outputs": [],
   "source": [
    "#QuadTree\n",
    "\n",
    "class Node(object):\n",
    "    def __init__(self, val, isLeaf, TopLeft, TopRight, BottomLeft, BottomRight):\n",
    "        self.val = val\n",
    "        self.isLeaf = isLeaf\n",
    "        self.TopLeft = TopLeft\n",
    "        self.TopRight = TopRight\n",
    "        self.BottomLeft = BottomLeft\n",
    "        self.BottomRight = BottomRight\n",
    "\n",
    "class Solution(object):\n",
    "    def construct(self,grid):\n",
    "        row_sum = sum([sum(i) for i in grid])\n",
    "        if row_sum == pow(len(grid),2):\n",
    "            return Node(True,True,None,None,None,None)\n",
    "        elif row_sum == 0:\n",
    "            return Node(False,True,None,None,None,None)\n",
    "        else:\n",
    "            N = len(grid)\n",
    "            half = N//2\n",
    "            top_left = [grid[i][:half] for i in range(half)]\n",
    "            top_right = [grid[i][half:] for i in range(half)]\n",
    "            bottom_left = [grid[i][:half] for i in range(half,N)]\n",
    "            bottom_right = [grid[i][half:] for i in range(half,N)]\n",
    "            node = Node(True,False, self.construct(top_left), self.construct(top_right), self.construct(bottom_left), self.construct(bottom_right))\n",
    "            return node\n",
    "    \n",
    "    "
   ]
  },
  {
   "cell_type": "code",
   "execution_count": null,
   "metadata": {},
   "outputs": [],
   "source": []
  }
 ],
 "metadata": {
  "kernelspec": {
   "display_name": "Python 3",
   "language": "python",
   "name": "python3"
  },
  "language_info": {
   "codemirror_mode": {
    "name": "ipython",
    "version": 3
   },
   "file_extension": ".py",
   "mimetype": "text/x-python",
   "name": "python",
   "nbconvert_exporter": "python",
   "pygments_lexer": "ipython3",
   "version": "3.7.0"
  }
 },
 "nbformat": 4,
 "nbformat_minor": 2
}
