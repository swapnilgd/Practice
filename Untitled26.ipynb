{
 "cells": [
  {
   "cell_type": "code",
   "execution_count": 1,
   "metadata": {},
   "outputs": [],
   "source": [
    "def fruit_basket(tree):\n",
    "    \n",
    "    d = {}\n",
    "    basket = 2\n",
    "    left = 0\n",
    "    longest = 0\n",
    "    \n",
    "    for idx,fruit in list(enumerate(tree)):\n",
    "        d[fruit] = idx\n",
    "        \n",
    "        if len(d.keys()) == basket + 1:\n",
    "            idx_to_remove = min([d[fruit] for fruit in d.keys()])\n",
    "            d.pop(tree[idx_to_remove])\n",
    "            left = idx_to_remove + 1\n",
    "        longest = max(longest,index-left +1 )\n",
    "    return longest\n",
    "        \n"
   ]
  },
  {
   "cell_type": "code",
   "execution_count": null,
   "metadata": {},
   "outputs": [],
   "source": [
    "tree = [1,2,3,2,3]\n",
    "fruit_basket(tree)"
   ]
  }
 ],
 "metadata": {
  "kernelspec": {
   "display_name": "Python 3",
   "language": "python",
   "name": "python3"
  },
  "language_info": {
   "codemirror_mode": {
    "name": "ipython",
    "version": 3
   },
   "file_extension": ".py",
   "mimetype": "text/x-python",
   "name": "python",
   "nbconvert_exporter": "python",
   "pygments_lexer": "ipython3",
   "version": "3.7.0"
  }
 },
 "nbformat": 4,
 "nbformat_minor": 2
}
