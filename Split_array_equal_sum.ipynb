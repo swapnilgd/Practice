{
 "cells": [
  {
   "cell_type": "code",
   "execution_count": 5,
   "metadata": {},
   "outputs": [],
   "source": [
    "def split_array(arr,n):\n",
    "    \n",
    "    left_sum = right_sum = 0\n",
    "    \n",
    "    for i in range(0,n):\n",
    "        left_sum += arr[i]\n",
    "    \n",
    "    for i in range(n-1,-1,-1):\n",
    "        right_sum += arr[i]\n",
    "        left_sum -= arr[i]\n",
    "        \n",
    "        if (left_sum == right_sum):\n",
    "            return i\n",
    "    return -1\n",
    "\n",
    "def print_split_array(arr):\n",
    "    n = len(arr)\n",
    "    split_point = split_array(arr,n)\n",
    "    \n",
    "    if (split_point == -1 or split_point == n):\n",
    "        print(\"Array split not possible\")\n",
    "        return\n",
    "    \n",
    "    for i in range(0,n):\n",
    "        if (split_point == i):\n",
    "            print(\"\")\n",
    "        print(arr[i],end = \" \")\n",
    "    "
   ]
  },
  {
   "cell_type": "code",
   "execution_count": 6,
   "metadata": {},
   "outputs": [
    {
     "name": "stdout",
     "output_type": "stream",
     "text": [
      "Array split not possible\n"
     ]
    }
   ],
   "source": [
    "arr = [1,2,5,4]\n",
    "print_split_array(arr)"
   ]
  },
  {
   "cell_type": "code",
   "execution_count": null,
   "metadata": {},
   "outputs": [],
   "source": []
  }
 ],
 "metadata": {
  "kernelspec": {
   "display_name": "Python 3",
   "language": "python",
   "name": "python3"
  },
  "language_info": {
   "codemirror_mode": {
    "name": "ipython",
    "version": 3
   },
   "file_extension": ".py",
   "mimetype": "text/x-python",
   "name": "python",
   "nbconvert_exporter": "python",
   "pygments_lexer": "ipython3",
   "version": "3.7.0"
  }
 },
 "nbformat": 4,
 "nbformat_minor": 2
}
