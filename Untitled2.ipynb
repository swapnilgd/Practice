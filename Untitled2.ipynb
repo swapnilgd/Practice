{
 "cells": [
  {
   "cell_type": "code",
   "execution_count": null,
   "metadata": {},
   "outputs": [],
   "source": [
    "from heapq import heappop, heappush,heapify\n",
    "\n",
    "\n",
    "class MaxTop(object):\n",
    "        \n",
    "    def __init__(self):\n",
    "        self.ls = []        # list (stack)\n",
    "        self.hp = []        # heap\n",
    "        self.hpd = set()    # id of items deleted in ls but not hp\n",
    "        self.lsd = set()    # id of items deleted in hp but not ls\n",
    "        self.id = 0\n",
    "\n",
    "    def push(self, x):\n",
    "        self.ls.append((self.id, x))\n",
    "        heappush(self.hp, (-x, -self.id))\n",
    "        self.id += 1\n",
    "\n",
    "    def pop(self):\n",
    "        x = self.top()\n",
    "        self.hpd.add(self.ls[-1][0])\n",
    "        self.ls.pop()\n",
    "        return x\n",
    "\n",
    "    def top(self):\n",
    "        while self.ls[-1][0] in self.lsd:\n",
    "            self.lsd.remove(self.ls[-1][0])\n",
    "            self.ls.pop()\n",
    "        return self.ls[-1][1]\n",
    "\n",
    "    def peekMax(self):\n",
    "        while -self.hp[0][1] in self.hpd:\n",
    "            self.hpd.remove(-self.hp[0][1])\n",
    "            heappop(self.hp)\n",
    "        return -self.hp[0][0]\n",
    "\n",
    "    def popMax(self):\n",
    "        x = self.peekMax()\n",
    "        _, nid = heappop(self.hp)\n",
    "        self.lsd.add(-nid)\n",
    "        return x"
   ]
  }
 ],
 "metadata": {
  "kernelspec": {
   "display_name": "Python 3",
   "language": "python",
   "name": "python3"
  },
  "language_info": {
   "codemirror_mode": {
    "name": "ipython",
    "version": 3
   },
   "file_extension": ".py",
   "mimetype": "text/x-python",
   "name": "python",
   "nbconvert_exporter": "python",
   "pygments_lexer": "ipython3",
   "version": "3.7.0"
  }
 },
 "nbformat": 4,
 "nbformat_minor": 2
}
