{
 "cells": [
  {
   "cell_type": "code",
   "execution_count": 13,
   "metadata": {},
   "outputs": [],
   "source": [
    "#String 1:  A = \"ZAZA\"\n",
    "#String 2: B = \"BAZBZZZAAZZ\"\n",
    "\n",
    "def isSubSeq(str1,str2):\n",
    "    m = len(str1)\n",
    "    n = len(str2)\n",
    "    i = 0\n",
    "    j = 0\n",
    "    while i<m and j<n:\n",
    "        if str1[i] == str2[j]:\n",
    "            i += 1         \n",
    "        j += 1\n",
    "    \n",
    "    return i == m\n"
   ]
  },
  {
   "cell_type": "code",
   "execution_count": 15,
   "metadata": {},
   "outputs": [
    {
     "data": {
      "text/plain": [
       "False"
      ]
     },
     "execution_count": 15,
     "metadata": {},
     "output_type": "execute_result"
    }
   ],
   "source": [
    "str1 = \"ZAZA\"\n",
    "str2 = \"BAZBZZZAAZZ\"\n",
    "isSubSeq(str1,str2)"
   ]
  },
  {
   "cell_type": "code",
   "execution_count": null,
   "metadata": {},
   "outputs": [],
   "source": []
  }
 ],
 "metadata": {
  "kernelspec": {
   "display_name": "Python 3",
   "language": "python",
   "name": "python3"
  },
  "language_info": {
   "codemirror_mode": {
    "name": "ipython",
    "version": 3
   },
   "file_extension": ".py",
   "mimetype": "text/x-python",
   "name": "python",
   "nbconvert_exporter": "python",
   "pygments_lexer": "ipython3",
   "version": "3.7.0"
  }
 },
 "nbformat": 4,
 "nbformat_minor": 2
}
