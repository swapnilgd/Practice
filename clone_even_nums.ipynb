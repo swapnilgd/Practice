{
 "cells": [
  {
   "cell_type": "code",
   "execution_count": 9,
   "metadata": {},
   "outputs": [],
   "source": [
    "#[1,2,5,6,8]\n",
    "def copy_even(arr):\n",
    "    end = len(arr)\n",
    "    \n",
    "    for i in range(end-1,-1,-1):\n",
    "        if arr[i] >= 0:\n",
    "            start = i\n",
    "            break\n",
    "    \n",
    "    while start >= 0:\n",
    "        if arr[start] % 2 == 0:\n",
    "            end -= 1\n",
    "            arr[end] = arr[start]\n",
    "            end -= 1\n",
    "            arr[end] = arr[start]\n",
    "        else:\n",
    "            end -= 1\n",
    "            arr[end] = arr[start]\n",
    "            \n",
    "        start -= 1\n",
    "    \n",
    "    print(arr)\n",
    "    \n",
    "    "
   ]
  },
  {
   "cell_type": "code",
   "execution_count": 10,
   "metadata": {},
   "outputs": [
    {
     "name": "stdout",
     "output_type": "stream",
     "text": [
      "[1, 2, 2, 5, 6, 6, 8, 8]\n"
     ]
    }
   ],
   "source": [
    "arr = [1,2,5,6,8,-1,-1,-1]\n",
    "copy_even(arr)"
   ]
  },
  {
   "cell_type": "code",
   "execution_count": 18,
   "metadata": {},
   "outputs": [],
   "source": [
    "#SentenceReversal\n",
    "#i live in a house\n",
    "\n",
    "def sen_reverse(str1):\n",
    "    end = len(str1)\n",
    "    out = \"\"\n",
    "    for start in range(end-1,-1,-1):\n",
    "        if str1[start] == ' ':\n",
    "            out += str(arr[start+1:end])\n",
    "            end = start\n",
    "        else:\n",
    "            continue\n",
    "\n",
    "    print(out)\n",
    "    \n",
    "    \n",
    "            "
   ]
  },
  {
   "cell_type": "code",
   "execution_count": 19,
   "metadata": {},
   "outputs": [
    {
     "name": "stdout",
     "output_type": "stream",
     "text": [
      "[][][8][2, 5, 6, 6]\n"
     ]
    }
   ],
   "source": [
    "str1 = \"i live in a house\"\n",
    "sen_reverse(str1)"
   ]
  },
  {
   "cell_type": "code",
   "execution_count": null,
   "metadata": {},
   "outputs": [],
   "source": []
  }
 ],
 "metadata": {
  "kernelspec": {
   "display_name": "Python 3",
   "language": "python",
   "name": "python3"
  },
  "language_info": {
   "codemirror_mode": {
    "name": "ipython",
    "version": 3
   },
   "file_extension": ".py",
   "mimetype": "text/x-python",
   "name": "python",
   "nbconvert_exporter": "python",
   "pygments_lexer": "ipython3",
   "version": "3.7.0"
  }
 },
 "nbformat": 4,
 "nbformat_minor": 2
}
