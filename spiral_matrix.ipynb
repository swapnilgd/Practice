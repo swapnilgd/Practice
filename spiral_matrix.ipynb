{
 "cells": [
  {
   "cell_type": "code",
   "execution_count": 17,
   "metadata": {},
   "outputs": [],
   "source": [
    "def spiral_matrix(m,n,arr):\n",
    "    \n",
    "    k = 0\n",
    "    l = 0\n",
    "    \n",
    "    while(k < m and l < n):\n",
    "        \n",
    "        for i in range(l,n):\n",
    "            #print the 1st row from remaining rows\n",
    "            print(arr[k][i], end = \" \")\n",
    "        k+=1\n",
    "        \n",
    "        #print last coloumn from remaining coloumn\n",
    "        for i in range(k,m):\n",
    "            print(arr[i][n-1], end = \" \")\n",
    "        n-=1\n",
    "        \n",
    "        #print last row from remaining row\n",
    "        if(k < m):\n",
    "            for i in range((n-1),(l-1),-1):\n",
    "                print(arr[m-1][i], end = \" \")\n",
    "            m-=1\n",
    "        #print the 1st coloumn from remaining coloumn\n",
    "        if(l < n):\n",
    "            for i in range((m-1),(k-1),-1):\n",
    "                print(arr[i][l], end = \" \")\n",
    "            l += 1\n",
    "        "
   ]
  },
  {
   "cell_type": "code",
   "execution_count": 18,
   "metadata": {},
   "outputs": [
    {
     "name": "stdout",
     "output_type": "stream",
     "text": [
      "1 2 3 4 5 6 12 18 17 16 15 14 13 7 8 9 10 11 "
     ]
    }
   ],
   "source": [
    "arr = [[1,2,3,4,5,6],[7,8,9,10,11,12],[13,14,15,16,17,18]]\n",
    "row=3\n",
    "coloumn=6\n",
    "spiral_matrix(row,coloumn,arr)"
   ]
  },
  {
   "cell_type": "code",
   "execution_count": 19,
   "metadata": {},
   "outputs": [
    {
     "name": "stdout",
     "output_type": "stream",
     "text": [
      "1 2 3 4 5 6 12 18 17 16 15 14 13 7 8 9 10 11 "
     ]
    }
   ],
   "source": [
    "arr = [[1,2,3,4,5,6],[7,8,9,10,11,12],[13,14,15,16,17,18]]\n",
    "row=3\n",
    "coloumn=6\n",
    "spiral_matrix(row,coloumn,arr)"
   ]
  },
  {
   "cell_type": "code",
   "execution_count": null,
   "metadata": {},
   "outputs": [],
   "source": []
  }
 ],
 "metadata": {
  "kernelspec": {
   "display_name": "Python 3",
   "language": "python",
   "name": "python3"
  },
  "language_info": {
   "codemirror_mode": {
    "name": "ipython",
    "version": 3
   },
   "file_extension": ".py",
   "mimetype": "text/x-python",
   "name": "python",
   "nbconvert_exporter": "python",
   "pygments_lexer": "ipython3",
   "version": "3.7.0"
  }
 },
 "nbformat": 4,
 "nbformat_minor": 2
}
