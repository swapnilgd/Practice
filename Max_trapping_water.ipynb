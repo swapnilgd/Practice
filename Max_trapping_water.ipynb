{
 "cells": [
  {
   "cell_type": "code",
   "execution_count": 4,
   "metadata": {},
   "outputs": [],
   "source": [
    "#Maximum Trapping Water\n",
    "\n",
    "def max_water(arr):\n",
    "    left = 0\n",
    "    right = len(arr)-1\n",
    "    current_sum = max_sum = 0\n",
    "    \n",
    "    while left < right:\n",
    "        if arr[left] < arr[right]:\n",
    "            current_sum = (right - left) * arr[left]\n",
    "            left += 1\n",
    "        else:\n",
    "            current_sum = (right - left) * arr[right]\n",
    "            right -= 1\n",
    "        \n",
    "        max_sum = max(max_sum,current_sum)\n",
    "    return max_sum\n"
   ]
  },
  {
   "cell_type": "code",
   "execution_count": 6,
   "metadata": {},
   "outputs": [
    {
     "data": {
      "text/plain": [
       "20"
      ]
     },
     "execution_count": 6,
     "metadata": {},
     "output_type": "execute_result"
    }
   ],
   "source": [
    "arr = [1, 4, 3, 2, 5, 8, 4]\n",
    "max_water(arr)"
   ]
  },
  {
   "cell_type": "code",
   "execution_count": null,
   "metadata": {},
   "outputs": [],
   "source": []
  }
 ],
 "metadata": {
  "kernelspec": {
   "display_name": "Python 3",
   "language": "python",
   "name": "python3"
  },
  "language_info": {
   "codemirror_mode": {
    "name": "ipython",
    "version": 3
   },
   "file_extension": ".py",
   "mimetype": "text/x-python",
   "name": "python",
   "nbconvert_exporter": "python",
   "pygments_lexer": "ipython3",
   "version": "3.7.0"
  }
 },
 "nbformat": 4,
 "nbformat_minor": 2
}
