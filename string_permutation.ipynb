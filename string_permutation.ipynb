{
 "cells": [
  {
   "cell_type": "code",
   "execution_count": 1,
   "metadata": {},
   "outputs": [],
   "source": [
    "def perm(string,step = 0):\n",
    "    \n",
    "    l = len(string)\n",
    "    if step == l:\n",
    "        print(\"\".join(string))\n",
    "        \n",
    "    for i in range(step,l):\n",
    "        string_copy = [char for char in string]\n",
    "        string_copy[i],string_copy[step] = string_copy[step],string_copy[i]\n",
    "        perm(string_copy,step+1)"
   ]
  },
  {
   "cell_type": "code",
   "execution_count": 5,
   "metadata": {},
   "outputs": [
    {
     "name": "stdout",
     "output_type": "stream",
     "text": [
      "dog\n",
      "dgo\n",
      "odg\n",
      "ogd\n",
      "god\n",
      "gdo\n"
     ]
    }
   ],
   "source": [
    "perm('dog')"
   ]
  },
  {
   "cell_type": "code",
   "execution_count": null,
   "metadata": {},
   "outputs": [],
   "source": []
  }
 ],
 "metadata": {
  "kernelspec": {
   "display_name": "Python 3",
   "language": "python",
   "name": "python3"
  },
  "language_info": {
   "codemirror_mode": {
    "name": "ipython",
    "version": 3
   },
   "file_extension": ".py",
   "mimetype": "text/x-python",
   "name": "python",
   "nbconvert_exporter": "python",
   "pygments_lexer": "ipython3",
   "version": "3.7.0"
  }
 },
 "nbformat": 4,
 "nbformat_minor": 2
}
