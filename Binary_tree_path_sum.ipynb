{
 "cells": [
  {
   "cell_type": "code",
   "execution_count": 15,
   "metadata": {},
   "outputs": [],
   "source": [
    "class Node():\n",
    "    def __init__(self,root):\n",
    "        self.val = root\n",
    "        self.next = None\n",
    "    \n",
    "    def search_list(L,key):\n",
    "        \n",
    "        while L or L.val != key:\n",
    "            L = L.next\n",
    "        return L"
   ]
  },
  {
   "cell_type": "code",
   "execution_count": 16,
   "metadata": {},
   "outputs": [],
   "source": [
    "m = Node(10)"
   ]
  },
  {
   "cell_type": "code",
   "execution_count": 17,
   "metadata": {},
   "outputs": [],
   "source": [
    "m.next = Node(20)\n",
    "m.next.next = Node(30)\n",
    "m.next.next.next = Node(40)\n",
    "m.next.next.next.next = Node(50)"
   ]
  },
  {
   "cell_type": "code",
   "execution_count": 18,
   "metadata": {},
   "outputs": [
    {
     "name": "stdout",
     "output_type": "stream",
     "text": [
      "30\n"
     ]
    }
   ],
   "source": [
    "print(m.next.next.val)"
   ]
  },
  {
   "cell_type": "code",
   "execution_count": 25,
   "metadata": {},
   "outputs": [
    {
     "ename": "AttributeError",
     "evalue": "'Tree' object has no attribute 'next'",
     "output_type": "error",
     "traceback": [
      "\u001b[0;31m---------------------------------------------------------------------------\u001b[0m",
      "\u001b[0;31mAttributeError\u001b[0m                            Traceback (most recent call last)",
      "\u001b[0;32m<ipython-input-25-2f42b5105025>\u001b[0m in \u001b[0;36m<module>\u001b[0;34m()\u001b[0m\n\u001b[0;32m----> 1\u001b[0;31m \u001b[0mNode\u001b[0m\u001b[0;34m.\u001b[0m\u001b[0msearch_list\u001b[0m\u001b[0;34m(\u001b[0m\u001b[0mm\u001b[0m\u001b[0;34m,\u001b[0m\u001b[0;36m30\u001b[0m\u001b[0;34m)\u001b[0m\u001b[0;34m\u001b[0m\u001b[0m\n\u001b[0m",
      "\u001b[0;32m<ipython-input-15-25957e589a79>\u001b[0m in \u001b[0;36msearch_list\u001b[0;34m(L, key)\u001b[0m\n\u001b[1;32m      7\u001b[0m \u001b[0;34m\u001b[0m\u001b[0m\n\u001b[1;32m      8\u001b[0m         \u001b[0;32mwhile\u001b[0m \u001b[0mL\u001b[0m \u001b[0;32mor\u001b[0m \u001b[0mL\u001b[0m\u001b[0;34m.\u001b[0m\u001b[0mval\u001b[0m \u001b[0;34m!=\u001b[0m \u001b[0mkey\u001b[0m\u001b[0;34m:\u001b[0m\u001b[0;34m\u001b[0m\u001b[0m\n\u001b[0;32m----> 9\u001b[0;31m             \u001b[0mL\u001b[0m \u001b[0;34m=\u001b[0m \u001b[0mL\u001b[0m\u001b[0;34m.\u001b[0m\u001b[0mnext\u001b[0m\u001b[0;34m\u001b[0m\u001b[0m\n\u001b[0m\u001b[1;32m     10\u001b[0m         \u001b[0;32mreturn\u001b[0m \u001b[0mL\u001b[0m\u001b[0;34m\u001b[0m\u001b[0m\n",
      "\u001b[0;31mAttributeError\u001b[0m: 'Tree' object has no attribute 'next'"
     ]
    }
   ],
   "source": [
    "Node.search_list(m,30)"
   ]
  },
  {
   "cell_type": "code",
   "execution_count": 51,
   "metadata": {},
   "outputs": [],
   "source": [
    "class Tree():\n",
    "    def __init__(self,val,left=None,right=None):\n",
    "        self.val = val\n",
    "        self.left = left\n",
    "        self.right = right\n",
    "        \n",
    "    def has_path(root,k_sum):\n",
    "        if root == None:\n",
    "            return False\n",
    "        \n",
    "        if root.val == k_sum and root.left == None and root.right == None:\n",
    "            return True\n",
    "        \n",
    "        return Tree.has_path(root.left,k_sum - root.val) or Tree.has_path(root.right, k_sum - root.val)\n",
    "    \n",
    "        "
   ]
  },
  {
   "cell_type": "code",
   "execution_count": 52,
   "metadata": {},
   "outputs": [],
   "source": [
    "m = Tree(12)\n",
    "m.left = Tree(7)\n",
    "m.right = Tree(1)\n",
    "m.left.left = Tree(9)\n",
    "m.right.left = Tree(10)\n",
    "m.right.right = Tree(5)\n"
   ]
  },
  {
   "cell_type": "code",
   "execution_count": 53,
   "metadata": {},
   "outputs": [
    {
     "data": {
      "text/plain": [
       "True"
      ]
     },
     "execution_count": 53,
     "metadata": {},
     "output_type": "execute_result"
    }
   ],
   "source": [
    "Tree.has_path(m,28)"
   ]
  },
  {
   "cell_type": "code",
   "execution_count": 55,
   "metadata": {},
   "outputs": [],
   "source": [
    "def Tree():\n",
    "    def __init__(self,val,left=None,right=None):\n",
    "        self.val = val\n",
    "        self.left = left\n",
    "        self.right = right\n",
    "        \n",
    "        \n",
    "    def has_path(root,k_sum):\n",
    "        all_paths = []\n",
    "        current_path = []\n",
    "        find_paths(root,k_sum,current_path,all_paths)\n",
    "        return all_paths\n",
    "    \n",
    "    def find_paths(currentNode,k_sum,current_path,all_paths):\n",
    "        if currentNode == None:\n",
    "            return\n",
    "        \n",
    "        current_path.append(currentNode.val)\n",
    "        if currentNode.val == k_sum and currentNode.left is None and currentNode.right is None:\n",
    "            all_paths.append(list(current_path))\n",
    "            \n",
    "        else:\n",
    "            find_paths(currentNode.left, k_sum - currentNode.val, current_path,all_paths)\n",
    "            find_paths(currentNode.right,k_sum - currentNode.val, current_path,all_paths)\n",
    "            \n",
    "    del current_path[-1]"
   ]
  },
  {
   "cell_type": "code",
   "execution_count": 56,
   "metadata": {},
   "outputs": [],
   "source": [
    "class TreeNode():\n",
    "    def __init__(self,val,left=None,right=None):\n",
    "        self.val = val\n",
    "        self.left = left\n",
    "        self.right = right\n",
    "        \n",
    "    \n",
    "    def find_sum(root):\n",
    "        current_sum = ''\n",
    "        total_sum = 0\n",
    "        return find_root_to_leaf_path(root,current_sum,total_sum)\n",
    "    \n",
    "    def find_root_to_leaf_path(currentNode,current_sum,total_sum):\n",
    "        if currentNode is None:\n",
    "            return 0\n",
    "        \n",
    "        current_sum += currentNode.val\n",
    "        total_sum = total_sum + int(current_sum)\n",
    "        \n",
    "        if currentNode.left is None and currentNode.right is None:\n",
    "            return total_sum\n",
    "        \n",
    "        \n",
    "        return find_root_to_leaf_path(currentNode.left,current_sum,total_sum) + find_root_to_leaf_path(currentNode.right, current_sum, total_sum)\n",
    "    "
   ]
  },
  {
   "cell_type": "code",
   "execution_count": 59,
   "metadata": {},
   "outputs": [],
   "source": [
    "class TreeNode():\n",
    "    def __init__(self, val, left=None, right=None):\n",
    "        self.val = val\n",
    "        self.left = left\n",
    "        self.right = right\n",
    "        \n",
    "    \n",
    "    def find_path(root,sequence):\n",
    "        if not root:\n",
    "            return len(sequence) == 0\n",
    "        \n",
    "        return find_path_recursive(root,sequence,0)\n",
    "    \n",
    "    \n",
    "    def find_path_recursive(currentNode,sequence,seqIdx):\n",
    "        if currentNode is None:\n",
    "            return False\n",
    "        \n",
    "        seqLen = len(sequence)\n",
    "        if seqIdx >= seqLen or currentNode.val != sequence[seqIdx]:\n",
    "            return False\n",
    "                 \n",
    "        if currentNode.left is None and currentNode.right is None and seqIdx == seqLen -1:\n",
    "            return True\n",
    "                 \n",
    "        return find_path_recursive(currentNode.left,sequence,seqIdx + 1) or find_path_recursive(currentNode.right,sequence,seqIdx+1)\n",
    "                \n",
    "        "
   ]
  },
  {
   "cell_type": "code",
   "execution_count": null,
   "metadata": {},
   "outputs": [],
   "source": []
  }
 ],
 "metadata": {
  "kernelspec": {
   "display_name": "Python 3",
   "language": "python",
   "name": "python3"
  },
  "language_info": {
   "codemirror_mode": {
    "name": "ipython",
    "version": 3
   },
   "file_extension": ".py",
   "mimetype": "text/x-python",
   "name": "python",
   "nbconvert_exporter": "python",
   "pygments_lexer": "ipython3",
   "version": "3.7.0"
  }
 },
 "nbformat": 4,
 "nbformat_minor": 2
}
