{
 "cells": [
  {
   "cell_type": "code",
   "execution_count": 19,
   "metadata": {},
   "outputs": [],
   "source": [
    "# s = AAAAACCCCCCAAAAACCDDDCCCCCAAAAACCCCCD\n",
    "def dna(s):\n",
    "    \n",
    "    if len(s) <= 10:\n",
    "        return -1\n",
    "    s1 = \"\"\n",
    "    out = {}\n",
    "    for i in range(len(s)):\n",
    "        s1 = s[i:i+10]\n",
    "        if s1 in out:\n",
    "            out[s1] += 1\n",
    "\n",
    "        else:\n",
    "            out[s1] = 1\n",
    "            s1 = \"\"\n",
    "    for k,v in out.items():\n",
    "        if v > 1:\n",
    "            print(k)"
   ]
  },
  {
   "cell_type": "code",
   "execution_count": 23,
   "metadata": {},
   "outputs": [
    {
     "name": "stdout",
     "output_type": "stream",
     "text": [
      "AAAAACCCCC\n",
      "CCCCCAAAAA\n"
     ]
    }
   ],
   "source": [
    "s = 'AAAAACCCCCCAAAAAGCDDDCCCCCAAAAACCCCCD'\n",
    "dna(s)"
   ]
  },
  {
   "cell_type": "code",
   "execution_count": null,
   "metadata": {},
   "outputs": [],
   "source": []
  }
 ],
 "metadata": {
  "kernelspec": {
   "display_name": "Python 3",
   "language": "python",
   "name": "python3"
  },
  "language_info": {
   "codemirror_mode": {
    "name": "ipython",
    "version": 3
   },
   "file_extension": ".py",
   "mimetype": "text/x-python",
   "name": "python",
   "nbconvert_exporter": "python",
   "pygments_lexer": "ipython3",
   "version": "3.7.0"
  }
 },
 "nbformat": 4,
 "nbformat_minor": 2
}
