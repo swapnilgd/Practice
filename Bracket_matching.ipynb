{
 "cells": [
  {
   "cell_type": "code",
   "execution_count": 1,
   "metadata": {},
   "outputs": [],
   "source": [
    "def bracket(arr):\n",
    "    opening = set('([{')\n",
    "    matching = set([('(',')'),('[',']'),('{','}')])\n",
    "    \n",
    "    stack = []\n",
    "    \n",
    "    for paren in arr:\n",
    "        if paren in opening:\n",
    "            stack.append(paren)\n",
    "        else:\n",
    "            if len(stack) == 0:\n",
    "                return False\n",
    "            last_open = stack.pop()\n",
    "            if (last_open,paren) not in matching:\n",
    "                return False\n",
    "    return len(stack) == 0\n",
    "                    \n",
    "    "
   ]
  },
  {
   "cell_type": "code",
   "execution_count": 4,
   "metadata": {},
   "outputs": [
    {
     "data": {
      "text/plain": [
       "True"
      ]
     },
     "execution_count": 4,
     "metadata": {},
     "output_type": "execute_result"
    }
   ],
   "source": [
    "arr = \"{[]}\"\n",
    "bracket(arr)"
   ]
  },
  {
   "cell_type": "code",
   "execution_count": 5,
   "metadata": {},
   "outputs": [],
   "source": [
    "def bracket(arr):\n",
    "    \n",
    "    opening = set('([{')\n",
    "    matching = set([('(',')'),('[',']'),('{','}')])\n",
    "    stack = []\n",
    "    \n",
    "    for paren in arr:\n",
    "        if paren in opening:\n",
    "            stack.append(paren)\n",
    "        else:\n",
    "            if len(stack) == 0:\n",
    "                return False\n",
    "            last_open = stack.pop()\n",
    "            if(last_open,paren) not in matching:\n",
    "                return False\n",
    "    return len(stack) == 0\n",
    "                "
   ]
  },
  {
   "cell_type": "code",
   "execution_count": 6,
   "metadata": {},
   "outputs": [],
   "source": [
    "def bra(arr):\n",
    "    \n",
    "    opening = set('([{')\n",
    "    matching = set([('(',')'),('[',']'),('{','}')])\n",
    "    stack = []\n",
    "    \n",
    "    for paren in arr:\n",
    "        if paren in opening:\n",
    "            stack.append(paren)\n",
    "        else:\n",
    "            if len(stack) == 0:\n",
    "                return False\n",
    "        last_open = stack.pop()\n",
    "        if(last_open,paren) not in matching:\n",
    "            return False\n",
    "    return len(stack) == 0"
   ]
  },
  {
   "cell_type": "code",
   "execution_count": null,
   "metadata": {},
   "outputs": [],
   "source": [
    "def brac(arr):\n",
    "    \n",
    "    opening = ('([{')\n",
    "    matching = ([('(',')'),('[',']'),('{','}')])\n",
    "    stack = []\n",
    "    \n",
    "    for paren in arr:\n",
    "        if paren in opening:\n",
    "            stack.append(paren)\n",
    "        else:\n",
    "            if len(stack) == 0:\n",
    "                return False\n",
    "            last_open = stack.pop()\n",
    "            if (last_open,paren) not in matching:\n",
    "                return False\n",
    "    return len(stack) == 0:\n",
    "    "
   ]
  }
 ],
 "metadata": {
  "kernelspec": {
   "display_name": "Python 3",
   "language": "python",
   "name": "python3"
  },
  "language_info": {
   "codemirror_mode": {
    "name": "ipython",
    "version": 3
   },
   "file_extension": ".py",
   "mimetype": "text/x-python",
   "name": "python",
   "nbconvert_exporter": "python",
   "pygments_lexer": "ipython3",
   "version": "3.7.0"
  }
 },
 "nbformat": 4,
 "nbformat_minor": 2
}
