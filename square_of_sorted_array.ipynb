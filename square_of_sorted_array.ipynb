{
 "cells": [
  {
   "cell_type": "code",
   "execution_count": 4,
   "metadata": {},
   "outputs": [],
   "source": [
    "#Squares of sorted array\n",
    "import collections\n",
    "def sq_sorted_arr(arr):\n",
    "    \n",
    "    ans = collections.deque()\n",
    "    l = 0\n",
    "    r = len(arr)-1\n",
    "    \n",
    "    while l <= r:\n",
    "        left,right = abs(arr[l]),abs(arr[r])\n",
    "        if left > right:\n",
    "            ans.appendleft(left * left)\n",
    "            l += 1\n",
    "        else:\n",
    "            ans.appendleft(right * right)\n",
    "            r -= 1\n",
    "    return list(ans)\n",
    "        "
   ]
  },
  {
   "cell_type": "code",
   "execution_count": 5,
   "metadata": {},
   "outputs": [
    {
     "data": {
      "text/plain": [
       "[4, 9, 9, 49, 121]"
      ]
     },
     "execution_count": 5,
     "metadata": {},
     "output_type": "execute_result"
    }
   ],
   "source": [
    "arr = [-7,-3,2,3,11]\n",
    "sq_sorted_arr(arr)"
   ]
  },
  {
   "cell_type": "code",
   "execution_count": null,
   "metadata": {},
   "outputs": [],
   "source": []
  }
 ],
 "metadata": {
  "kernelspec": {
   "display_name": "Python 3",
   "language": "python",
   "name": "python3"
  },
  "language_info": {
   "codemirror_mode": {
    "name": "ipython",
    "version": 3
   },
   "file_extension": ".py",
   "mimetype": "text/x-python",
   "name": "python",
   "nbconvert_exporter": "python",
   "pygments_lexer": "ipython3",
   "version": "3.7.0"
  }
 },
 "nbformat": 4,
 "nbformat_minor": 2
}
