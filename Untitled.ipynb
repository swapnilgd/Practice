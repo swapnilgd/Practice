{
 "cells": [
  {
   "cell_type": "code",
   "execution_count": null,
   "metadata": {},
   "outputs": [],
   "source": [
    "def groupAnagram(arr):\n",
    "    \n",
    "    dic = {}\n",
    "    for word in arr:\n",
    "        key = \"\".join(sorted(word))\n",
    "        if key in dic:\n",
    "            dic.get(key).append(word)\n",
    "        else:\n",
    "            dic[key] = [word]\n",
    "    return dic.values()"
   ]
  },
  {
   "cell_type": "code",
   "execution_count": null,
   "metadata": {},
   "outputs": [],
   "source": [
    "#factorial 5 = 5*4*3*2*1 = 120\n",
    "\n",
    "def factorial(num):\n",
    "    if num < 1:\n",
    "        return 0\n",
    "    res = 1\n",
    "    for i in range(1,num+1):\n",
    "        res *= i\n",
    "    return res"
   ]
  },
  {
   "cell_type": "code",
   "execution_count": null,
   "metadata": {},
   "outputs": [],
   "source": [
    "factorial(6)"
   ]
  },
  {
   "cell_type": "code",
   "execution_count": null,
   "metadata": {},
   "outputs": [],
   "source": [
    "def fact(num):\n",
    "    if num == 0:\n",
    "        return 1\n",
    "    return num * fact(num-1)"
   ]
  },
  {
   "cell_type": "code",
   "execution_count": null,
   "metadata": {},
   "outputs": [],
   "source": [
    "fact(1)"
   ]
  },
  {
   "cell_type": "code",
   "execution_count": null,
   "metadata": {},
   "outputs": [],
   "source": [
    "# fib 5  0+1+1+2+3\n",
    "def fib(num):\n",
    "    if num == 0 or num == 1:\n",
    "        return num\n",
    "    a,b = 0,1\n",
    "    for i in range(num):\n",
    "        a,b = b,a+b\n",
    "        print(a)\n",
    "    return a"
   ]
  },
  {
   "cell_type": "code",
   "execution_count": null,
   "metadata": {},
   "outputs": [],
   "source": [
    "num = 10\n",
    "fib(num)"
   ]
  },
  {
   "cell_type": "code",
   "execution_count": null,
   "metadata": {},
   "outputs": [],
   "source": [
    "def fib2(num):\n",
    "    if num == 0 or num == 1:\n",
    "        return num\n",
    "    a,b = 0,1\n",
    "    for i in range(num):\n",
    "        a,b = b,a+b\n",
    "\n",
    "    return a"
   ]
  },
  {
   "cell_type": "code",
   "execution_count": null,
   "metadata": {},
   "outputs": [],
   "source": [
    "fib2(num)"
   ]
  },
  {
   "cell_type": "code",
   "execution_count": null,
   "metadata": {},
   "outputs": [],
   "source": [
    "def fib_rec(num):\n",
    "    if num == 0 or num == 1:\n",
    "        return num\n",
    "    return fib_rec(num-1) + fib_rec(num-2)"
   ]
  },
  {
   "cell_type": "code",
   "execution_count": null,
   "metadata": {},
   "outputs": [],
   "source": [
    "fib_rec(num)"
   ]
  },
  {
   "cell_type": "code",
   "execution_count": null,
   "metadata": {},
   "outputs": [],
   "source": [
    "def fruit_basket(tree):\n",
    "    basket = 2\n",
    "    out = {}\n",
    "    \n",
    "    longest = left = 0\n",
    "    for index,fruit in list(enumerate(tree)):\n",
    "        out[fruit] = index\n",
    "        if len(out.keys()) == basket + 1:\n",
    "            index_to_remove = min([out[fruit] for fruit in out.keys()])\n",
    "            out.pop(tree[index_to_remove])\n",
    "            left = index_to_remove + 1\n",
    "        longest = max(longest,index - left + 1)\n",
    "    return longest"
   ]
  },
  {
   "cell_type": "code",
   "execution_count": null,
   "metadata": {},
   "outputs": [],
   "source": [
    "tree = [3,3,3,1,2,1,1,2,3,3,4]\n",
    "fruit_basket(tree)"
   ]
  },
  {
   "cell_type": "code",
   "execution_count": null,
   "metadata": {},
   "outputs": [],
   "source": [
    "def fruit(tree):\n",
    "    \n",
    "    basket = 2\n",
    "    longest = left = 0\n",
    "    out = {}\n",
    "\n",
    "    for index,fruit in list(enumerate(tree)):\n",
    "        out[fruit] = index\n",
    "        if len(out.keys()) == basket + 1:\n",
    "            index_to_remove = min([out[fruit] for fruit in out.keys()])\n",
    "            out.pop(tree[index_to_remove])\n",
    "            left = index_to_remove+1\n",
    "        longest = max(longest,index-left+1)\n",
    "    return longest"
   ]
  },
  {
   "cell_type": "code",
   "execution_count": null,
   "metadata": {},
   "outputs": [],
   "source": [
    "fruit(tree)"
   ]
  },
  {
   "cell_type": "code",
   "execution_count": 1,
   "metadata": {},
   "outputs": [],
   "source": [
    "def helper(s1):\n",
    "    found = ''\n",
    "    for char in s1:\n",
    "        if char not in found:\n",
    "            found += char\n",
    "        else:\n",
    "            break\n",
    "    return found\n",
    "\n",
    "def longestSub(str1):\n",
    "    longest = \"\"\n",
    "    longestlen = 1\n",
    "    \n",
    "    for k in range(len(str1)):\n",
    "        candidate = helper(str1[k:])\n",
    "        if len(candidate) > longestlen:\n",
    "            longest = candidate\n",
    "            longestlen = len(longest)\n",
    "    return longest"
   ]
  },
  {
   "cell_type": "code",
   "execution_count": 2,
   "metadata": {},
   "outputs": [
    {
     "data": {
      "text/plain": [
       "'cxba'"
      ]
     },
     "execution_count": 2,
     "metadata": {},
     "output_type": "execute_result"
    }
   ],
   "source": [
    "str1 = 'abbcxbabv'\n",
    "longestSub(str1)"
   ]
  },
  {
   "cell_type": "code",
   "execution_count": 3,
   "metadata": {},
   "outputs": [],
   "source": [
    "def helper(s1):\n",
    "    found = ''\n",
    "    for char in s1:\n",
    "        if char not in found:\n",
    "            found += char\n",
    "        else:\n",
    "            break\n",
    "    return found\n",
    "\n",
    "def longestS(str1):\n",
    "    \n",
    "    longest = ''\n",
    "    longestlen = 1\n",
    "    \n",
    "    for i in str1:\n",
    "        candidate = helper(str1[i:])\n",
    "        if len(candidate) > longestlen:\n",
    "            longest = candidate\n",
    "            longestlen = len(candidate)\n",
    "    return longest\n",
    "        "
   ]
  },
  {
   "cell_type": "code",
   "execution_count": 4,
   "metadata": {},
   "outputs": [],
   "source": [
    "def matrixmed(A):\n",
    "    \n",
    "    if len(A) == 1:\n",
    "        vec = A[0]\n",
    "        return vec[len(vec) // 2]\n",
    "    \n",
    "    new = []\n",
    "    for row in range(len(A)):\n",
    "        new.extend(A[row])\n",
    "    new = sorted(new)\n",
    "    return new[len(new)//2]"
   ]
  },
  {
   "cell_type": "code",
   "execution_count": 5,
   "metadata": {},
   "outputs": [
    {
     "data": {
      "text/plain": [
       "5"
      ]
     },
     "execution_count": 5,
     "metadata": {},
     "output_type": "execute_result"
    }
   ],
   "source": [
    "l1 = [1,3,5]\n",
    "l2 = [2,6,9]\n",
    "l3 = [3,6,9]\n",
    "A = [l1,l2,l3]\n",
    "matrixmed(A)"
   ]
  },
  {
   "cell_type": "code",
   "execution_count": 8,
   "metadata": {},
   "outputs": [],
   "source": [
    "def matrixmed1(A):\n",
    "    \n",
    "    if len(A) == 1:\n",
    "        vec = A[0]\n",
    "        return vec[len(vec)//2]\n",
    "    new = []\n",
    "    for row in range(len(A)):\n",
    "        new.extend(A[row])\n",
    "    new = sorted(new)\n",
    "    return new[len(new)//2]"
   ]
  },
  {
   "cell_type": "code",
   "execution_count": 21,
   "metadata": {},
   "outputs": [
    {
     "ename": "NameError",
     "evalue": "name 'matrixmed1' is not defined",
     "output_type": "error",
     "traceback": [
      "\u001b[0;31m---------------------------------------------------------------------------\u001b[0m",
      "\u001b[0;31mNameError\u001b[0m                                 Traceback (most recent call last)",
      "\u001b[0;32m<ipython-input-21-8c9de1f44d63>\u001b[0m in \u001b[0;36m<module>\u001b[0;34m()\u001b[0m\n\u001b[0;32m----> 1\u001b[0;31m \u001b[0mmatrixmed1\u001b[0m\u001b[0;34m(\u001b[0m\u001b[0mA\u001b[0m\u001b[0;34m)\u001b[0m\u001b[0;34m\u001b[0m\u001b[0m\n\u001b[0m",
      "\u001b[0;31mNameError\u001b[0m: name 'matrixmed1' is not defined"
     ]
    }
   ],
   "source": [
    "matrixmed1(A)"
   ]
  },
  {
   "cell_type": "code",
   "execution_count": 1,
   "metadata": {},
   "outputs": [],
   "source": [
    "def medm(A):\n",
    "    \n",
    "    if len(A) == 1:\n",
    "        vec = A[0]\n",
    "        return vec[len(vec)//2]\n",
    "    \n",
    "    new = []\n",
    "    for row in range(len(A)):\n",
    "        new.extenx(A[row])\n",
    "    new = sorted(new)\n",
    "    return new[len(new)//2]"
   ]
  },
  {
   "cell_type": "code",
   "execution_count": 19,
   "metadata": {},
   "outputs": [],
   "source": [
    "# sentence reversal\n",
    "def reversal(s1):\n",
    "    out = []\n",
    "    input_sen = s1.split(\" \")\n",
    "    i = 0\n",
    "    \n",
    "    for word in input_sen[::-1]:\n",
    "        out.insert(i,word)\n",
    "        i += 1\n",
    "    return \" \".join(out)\n"
   ]
  },
  {
   "cell_type": "code",
   "execution_count": 20,
   "metadata": {},
   "outputs": [
    {
     "data": {
      "text/plain": [
       "'test is This'"
      ]
     },
     "execution_count": 20,
     "metadata": {},
     "output_type": "execute_result"
    }
   ],
   "source": [
    "s1 = 'This is test'\n",
    "reversal(s1)"
   ]
  },
  {
   "cell_type": "code",
   "execution_count": 36,
   "metadata": {},
   "outputs": [],
   "source": [
    "#Substring search\n",
    "#O(n*n)\n",
    "def sub_search(s1,s2):\n",
    "    \n",
    "    n = len(s2)\n",
    " \n",
    "    for i in range(len(s1)):\n",
    "        if s1[i:i+n] == s2:\n",
    "            return True\n",
    "    return False"
   ]
  },
  {
   "cell_type": "code",
   "execution_count": 39,
   "metadata": {},
   "outputs": [
    {
     "data": {
      "text/plain": [
       "False"
      ]
     },
     "execution_count": 39,
     "metadata": {},
     "output_type": "execute_result"
    }
   ],
   "source": [
    "s1 = \"This is test code\"\n",
    "s2 = \"code1\"\n",
    "sub_search(s1,s2)"
   ]
  },
  {
   "cell_type": "code",
   "execution_count": 3,
   "metadata": {},
   "outputs": [],
   "source": [
    "def string_comp(s1):\n",
    "    res = \"\"\n",
    "    n = len(s1)\n",
    "    i = 1\n",
    "    count = 0\n",
    "    while i < n:\n",
    "        if s1[i] == s1[i-1]:\n",
    "            count += 1\n",
    "        else:\n",
    "            res = res + s1[i-1] + str(count)\n",
    "            count = 1\n",
    "        i += 1\n",
    "    res = res + s1[i-1] + str(count)\n",
    "    return res"
   ]
  },
  {
   "cell_type": "code",
   "execution_count": 6,
   "metadata": {},
   "outputs": [
    {
     "data": {
      "text/plain": [
       "'B514b1'"
      ]
     },
     "execution_count": 6,
     "metadata": {},
     "output_type": "execute_result"
    }
   ],
   "source": [
    "s1 = 'BBBBBB1111b'\n",
    "string_comp(s1)"
   ]
  },
  {
   "cell_type": "code",
   "execution_count": 5,
   "metadata": {},
   "outputs": [],
   "source": [
    "def string_comp(s1):\n",
    "    \n",
    "    res = \"\"\n",
    "    count = 0\n",
    "    i = 1\n",
    "    n = len(s1)\n",
    "    \n",
    "    while i < n:\n",
    "        if s1[i] == s1[i-1]:\n",
    "            count += 1\n",
    "        else:\n",
    "            res = res + s1[i-1] + str(count)\n",
    "            count = 1\n",
    "        i += 1\n",
    "    res = res + s1[i-1] + str(count)\n",
    "    return res"
   ]
  },
  {
   "cell_type": "code",
   "execution_count": 7,
   "metadata": {},
   "outputs": [],
   "source": [
    "def s_compress(s1):\n",
    "    \n",
    "    n = len(s1)\n",
    "    res = \"\"\n",
    "    count = 0\n",
    "    i = 1\n",
    "    \n",
    "    while i < n:\n",
    "        if s1[i] == s1[i-1]:\n",
    "            count += 1\n",
    "        else:\n",
    "            res = res + s1[i-1] + str(count)\n",
    "            count = 1\n",
    "        i += 1\n",
    "    res = res + s1[i-1] + str(count)\n",
    "    return res\n",
    "    "
   ]
  },
  {
   "cell_type": "code",
   "execution_count": 25,
   "metadata": {},
   "outputs": [],
   "source": [
    "def permutations(word):\n",
    " \n",
    "    if len(word) <= 1:\n",
    "        return [word]\n",
    " \n",
    "    perms=permutations(word[1:])\n",
    "    char=word[0]\n",
    "    result=[]\n",
    " \n",
    "    for perm in perms:\n",
    "        for i in range(len(perm)+1):\n",
    "            result.append(perm[:i] + char + perm[i:])\n",
    "    return result"
   ]
  },
  {
   "cell_type": "code",
   "execution_count": 26,
   "metadata": {},
   "outputs": [
    {
     "data": {
      "text/plain": [
       "['god', 'ogd', 'odg', 'gdo', 'dgo', 'dog']"
      ]
     },
     "execution_count": 26,
     "metadata": {},
     "output_type": "execute_result"
    }
   ],
   "source": [
    "permutations(s1)"
   ]
  },
  {
   "cell_type": "code",
   "execution_count": 34,
   "metadata": {},
   "outputs": [],
   "source": [
    "def permutations(s1):\n",
    "    if len(s1) <= 1:\n",
    "        return [s1]\n",
    "    \n",
    "    perms = permutations(s1[1:])\n",
    "    char = s1[0]\n",
    "    result = []\n",
    "    \n",
    "    for perm in perms:\n",
    "        for i in range(len(perm)+1):\n",
    "            result.append(perm[:i] + char + perm[i:])\n",
    "    return result\n",
    "    \n",
    "    "
   ]
  },
  {
   "cell_type": "code",
   "execution_count": 36,
   "metadata": {},
   "outputs": [
    {
     "name": "stdout",
     "output_type": "stream",
     "text": [
      "perms ['o']\n",
      "perms ['to', 'ot']\n",
      "perms ['ato', 'tao', 'toa', 'aot', 'oat', 'ota']\n"
     ]
    },
    {
     "data": {
      "text/plain": [
       "['cato',\n",
       " 'acto',\n",
       " 'atco',\n",
       " 'atoc',\n",
       " 'ctao',\n",
       " 'tcao',\n",
       " 'taco',\n",
       " 'taoc',\n",
       " 'ctoa',\n",
       " 'tcoa',\n",
       " 'toca',\n",
       " 'toac',\n",
       " 'caot',\n",
       " 'acot',\n",
       " 'aoct',\n",
       " 'aotc',\n",
       " 'coat',\n",
       " 'ocat',\n",
       " 'oact',\n",
       " 'oatc',\n",
       " 'cota',\n",
       " 'octa',\n",
       " 'otca',\n",
       " 'otac']"
      ]
     },
     "execution_count": 36,
     "metadata": {},
     "output_type": "execute_result"
    }
   ],
   "source": [
    "s1 = 'cato'\n",
    "permutations(s1)"
   ]
  },
  {
   "cell_type": "code",
   "execution_count": 37,
   "metadata": {},
   "outputs": [],
   "source": [
    "def permutation1(s1):\n",
    "    \n",
    "    if len(s1) <= 1:\n",
    "        return [s1]\n",
    "    \n",
    "    perms = permutation1(s1[1:])\n",
    "    result = []\n",
    "    char = s1[0]\n",
    "    \n",
    "    for perm in perms:\n",
    "        for i in range(len(perm)+1):\n",
    "            result.append(perm[:i]) + char + perm[i:]\n",
    "    return result"
   ]
  },
  {
   "cell_type": "code",
   "execution_count": null,
   "metadata": {},
   "outputs": [],
   "source": []
  }
 ],
 "metadata": {
  "kernelspec": {
   "display_name": "Python 3",
   "language": "python",
   "name": "python3"
  },
  "language_info": {
   "codemirror_mode": {
    "name": "ipython",
    "version": 3
   },
   "file_extension": ".py",
   "mimetype": "text/x-python",
   "name": "python",
   "nbconvert_exporter": "python",
   "pygments_lexer": "ipython3",
   "version": "3.7.0"
  }
 },
 "nbformat": 4,
 "nbformat_minor": 2
}
