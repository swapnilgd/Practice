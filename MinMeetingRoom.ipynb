{
 "cells": [
  {
   "cell_type": "code",
   "execution_count": null,
   "metadata": {},
   "outputs": [],
   "source": [
    "#Min meeting room\n",
    "\n",
    "def MinMeetingRoom(intervals):\n",
    "    \n",
    "    if not intervals:\n",
    "        return 0\n",
    "    \n",
    "    intervals.sort(key = lambda x: x.start)\n",
    "    end_points = collections.deque(sorted([interval.end for interval in intervals]))\n",
    "    \n",
    "    res = 1\n",
    "    pop_count = 0\n",
    "    \n",
    "    for i in range(1,len(intervals)):\n",
    "        while end_points and end_points[0] <= intervals[i].start:\n",
    "            end_points.popleft()\n",
    "            pop_count += 1\n",
    "        res = max(res, i-pop_left+1)\n",
    "    return res\n",
    "            "
   ]
  }
 ],
 "metadata": {
  "kernelspec": {
   "display_name": "Python 3",
   "language": "python",
   "name": "python3"
  },
  "language_info": {
   "codemirror_mode": {
    "name": "ipython",
    "version": 3
   },
   "file_extension": ".py",
   "mimetype": "text/x-python",
   "name": "python",
   "nbconvert_exporter": "python",
   "pygments_lexer": "ipython3",
   "version": "3.7.0"
  }
 },
 "nbformat": 4,
 "nbformat_minor": 2
}
