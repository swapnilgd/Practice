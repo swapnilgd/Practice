{
 "cells": [
  {
   "cell_type": "code",
   "execution_count": 6,
   "metadata": {},
   "outputs": [],
   "source": [
    "#Delete an element from an array\n",
    "#[3, 1, 2, 5, 90] x = 2\n",
    "\n",
    "def delete_element(arr,x):\n",
    "    n = len(arr)\n",
    "    \n",
    "    if x == arr[-1]:\n",
    "        return n-1\n",
    "    \n",
    "    for i in range(n):\n",
    "        if arr[i] == x:\n",
    "            break\n",
    "    \n",
    "    if i < n:\n",
    "        n = n - 1\n",
    "        for j in range(i,n,1):\n",
    "            arr[j] = arr[j+1]\n",
    "    return n\n",
    "    \n",
    "def print_arr(arr,x):\n",
    "    n = delete_element(arr,x)\n",
    "    \n",
    "    for i in range(n):\n",
    "        print(arr[i], end=\" \")\n",
    "    "
   ]
  },
  {
   "cell_type": "code",
   "execution_count": 8,
   "metadata": {},
   "outputs": [
    {
     "name": "stdout",
     "output_type": "stream",
     "text": [
      "3 1 5 90 "
     ]
    }
   ],
   "source": [
    "arr = [3,1,2,5,90]\n",
    "x = 2\n",
    "print_arr(arr,x)"
   ]
  },
  {
   "cell_type": "code",
   "execution_count": null,
   "metadata": {},
   "outputs": [],
   "source": []
  }
 ],
 "metadata": {
  "kernelspec": {
   "display_name": "Python 3",
   "language": "python",
   "name": "python3"
  },
  "language_info": {
   "codemirror_mode": {
    "name": "ipython",
    "version": 3
   },
   "file_extension": ".py",
   "mimetype": "text/x-python",
   "name": "python",
   "nbconvert_exporter": "python",
   "pygments_lexer": "ipython3",
   "version": "3.7.0"
  }
 },
 "nbformat": 4,
 "nbformat_minor": 2
}
