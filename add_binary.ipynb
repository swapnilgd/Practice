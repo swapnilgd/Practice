{
 "cells": [
  {
   "cell_type": "code",
   "execution_count": 25,
   "metadata": {},
   "outputs": [],
   "source": [
    "#Given two binary strings, return their sum (also a binary string).\n",
    "#Input: a = 11, b = 1\n",
    "#output: 100\n",
    "\n",
    "def add_binary(a,b):\n",
    "    i = len(a)-1\n",
    "    j = len(b)-1\n",
    "    res = \"\"\n",
    "    carry = 0\n",
    "    \n",
    "    while i >= 0 or j >= 0 or carry:\n",
    "        if i >= 0:\n",
    "            carry += int(a[i])\n",
    "            i -= 1\n",
    "        if j >= 0:\n",
    "            carry += int(b[j])\n",
    "            j -= 1\n",
    "        res = str(carry % 2) + res\n",
    "        carry //= 2\n",
    "    return res\n",
    "            \n",
    "    "
   ]
  },
  {
   "cell_type": "code",
   "execution_count": 26,
   "metadata": {},
   "outputs": [
    {
     "data": {
      "text/plain": [
       "'1010'"
      ]
     },
     "execution_count": 26,
     "metadata": {},
     "output_type": "execute_result"
    }
   ],
   "source": [
    "a = \"111\"\n",
    "b = \"11\"\n",
    "add_binary(a,b)"
   ]
  },
  {
   "cell_type": "code",
   "execution_count": null,
   "metadata": {},
   "outputs": [],
   "source": [
    "def add_bin(a,b):\n",
    "    i = len(a)-1\n",
    "    j = len(b)-1\n",
    "    res = \"\"\n",
    "    carry = 0\n",
    "    while i >= 0 or j >= 0 or carry:\n",
    "        if i >= 0:\n",
    "            carry += int(a[i])\n",
    "            i -= 1\n",
    "        if j >= 0:\n",
    "            carry += int(b[j])\n",
    "            j -= 1\n",
    "        res = str(carry % 2) + res\n",
    "        carry //= 2\n",
    "    return res"
   ]
  }
 ],
 "metadata": {
  "kernelspec": {
   "display_name": "Python 3",
   "language": "python",
   "name": "python3"
  },
  "language_info": {
   "codemirror_mode": {
    "name": "ipython",
    "version": 3
   },
   "file_extension": ".py",
   "mimetype": "text/x-python",
   "name": "python",
   "nbconvert_exporter": "python",
   "pygments_lexer": "ipython3",
   "version": "3.7.0"
  }
 },
 "nbformat": 4,
 "nbformat_minor": 2
}
