{
 "cells": [
  {
   "cell_type": "code",
   "execution_count": 10,
   "metadata": {},
   "outputs": [],
   "source": [
    "def unique_email(emails):\n",
    "    seen = set()\n",
    "    \n",
    "    for email in emails:\n",
    "        local,domain = email.split('@')\n",
    "        \n",
    "        if '+' in local:\n",
    "            local = local[:local.index('+')]\n",
    "        if '.' in local:\n",
    "            local = local.s\n",
    "        seen.add(local + '@' + domain)\n",
    "    print(seen)\n",
    "        \n",
    "        "
   ]
  },
  {
   "cell_type": "code",
   "execution_count": 11,
   "metadata": {},
   "outputs": [
    {
     "name": "stdout",
     "output_type": "stream",
     "text": [
      "test.email\n",
      "test.e.mail\n",
      "testemail\n",
      "{'test.e.mail@leetcode.com', 'test.email@leetcode.com', 'testemail@lee.tcode.com'}\n"
     ]
    }
   ],
   "source": [
    "emails = [\"test.email+alex@leetcode.com\",\"test.e.mail+bob.cathy@leetcode.com\",\"testemail+david@lee.tcode.com\"]\n",
    "unique_email(emails)"
   ]
  },
  {
   "cell_type": "code",
   "execution_count": null,
   "metadata": {},
   "outputs": [],
   "source": []
  }
 ],
 "metadata": {
  "kernelspec": {
   "display_name": "Python 3",
   "language": "python",
   "name": "python3"
  },
  "language_info": {
   "codemirror_mode": {
    "name": "ipython",
    "version": 3
   },
   "file_extension": ".py",
   "mimetype": "text/x-python",
   "name": "python",
   "nbconvert_exporter": "python",
   "pygments_lexer": "ipython3",
   "version": "3.7.0"
  }
 },
 "nbformat": 4,
 "nbformat_minor": 2
}
