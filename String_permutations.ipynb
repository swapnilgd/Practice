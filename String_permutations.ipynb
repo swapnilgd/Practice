{
 "cells": [
  {
   "cell_type": "code",
   "execution_count": 3,
   "metadata": {},
   "outputs": [],
   "source": [
    "def permutation(s1):\n",
    "    \n",
    "    if len(s1) <= 1:\n",
    "        return [s1]\n",
    "    \n",
    "    perms = permutation(s1[1:])\n",
    "    print(perms)\n",
    "    char = s1[0]\n",
    "    result = []\n",
    "    \n",
    "    for perm in perms:\n",
    "        for i in range(len(perm)+1):\n",
    "            result.append(perm[:i] + char + perm[i:])\n",
    "            print(result)\n",
    "    return result"
   ]
  },
  {
   "cell_type": "code",
   "execution_count": 4,
   "metadata": {},
   "outputs": [
    {
     "name": "stdout",
     "output_type": "stream",
     "text": [
      "['k']\n",
      "['ok']\n",
      "['ok', 'ko']\n",
      "['ok', 'ko']\n",
      "['nok']\n",
      "['nok', 'onk']\n",
      "['nok', 'onk', 'okn']\n",
      "['nok', 'onk', 'okn', 'nko']\n",
      "['nok', 'onk', 'okn', 'nko', 'kno']\n",
      "['nok', 'onk', 'okn', 'nko', 'kno', 'kon']\n"
     ]
    },
    {
     "data": {
      "text/plain": [
       "['nok', 'onk', 'okn', 'nko', 'kno', 'kon']"
      ]
     },
     "execution_count": 4,
     "metadata": {},
     "output_type": "execute_result"
    }
   ],
   "source": [
    "s1 = \"nok\"\n",
    "permutation(s1)"
   ]
  },
  {
   "cell_type": "code",
   "execution_count": 7,
   "metadata": {},
   "outputs": [
    {
     "name": "stdout",
     "output_type": "stream",
     "text": [
      "None\n"
     ]
    }
   ],
   "source": [
    "def permutations(string, step = 0):\n",
    "    if step == len(string):\n",
    "        return \"\".join(string)\n",
    "    \n",
    "    for i in range(step, len(string)):\n",
    "        \n",
    "        string_copy = [c for c in string]\n",
    "        \n",
    "        string_copy[step], string_copy[i] =string_copy[i], string_copy[step]\n",
    "        \n",
    "        # recurse on the portion of the stringthat has not been swapped yet\n",
    "        permutations(string_copy, step + 1)\n",
    "        \n",
    "print (permutations ('one'))"
   ]
  },
  {
   "cell_type": "code",
   "execution_count": null,
   "metadata": {},
   "outputs": [],
   "source": []
  }
 ],
 "metadata": {
  "kernelspec": {
   "display_name": "Python 3",
   "language": "python",
   "name": "python3"
  },
  "language_info": {
   "codemirror_mode": {
    "name": "ipython",
    "version": 3
   },
   "file_extension": ".py",
   "mimetype": "text/x-python",
   "name": "python",
   "nbconvert_exporter": "python",
   "pygments_lexer": "ipython3",
   "version": "3.7.0"
  }
 },
 "nbformat": 4,
 "nbformat_minor": 2
}
