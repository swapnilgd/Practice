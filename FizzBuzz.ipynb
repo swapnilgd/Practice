{
 "cells": [
  {
   "cell_type": "code",
   "execution_count": 1,
   "metadata": {},
   "outputs": [],
   "source": [
    "def fizzbuzz(n):\n",
    "    result = []\n",
    "    \n",
    "    for num in range(1,n+1):\n",
    "        div_by_3 = (num%3 == 0)\n",
    "        div_by_5 = (num%5 == 0)\n",
    "        \n",
    "        if div_by_3 and div_by_5:\n",
    "            result.append(\"FizzBuzz\")\n",
    "        elif div_by_3:\n",
    "            result.append(\"Fizz\")\n",
    "        elif div_by_5:\n",
    "            result.append(\"Buzz\")\n",
    "        else:\n",
    "            result.append(str(num))\n",
    "    return result\n",
    "    "
   ]
  },
  {
   "cell_type": "code",
   "execution_count": 19,
   "metadata": {},
   "outputs": [
    {
     "data": {
      "text/plain": [
       "['1',\n",
       " '2',\n",
       " 'Fizz',\n",
       " '4',\n",
       " 'Buzz',\n",
       " 'Fizz',\n",
       " '7',\n",
       " '8',\n",
       " 'Fizz',\n",
       " 'Buzz',\n",
       " '11',\n",
       " 'Fizz',\n",
       " '13',\n",
       " '14',\n",
       " 'FizzBuzz',\n",
       " '16',\n",
       " '17',\n",
       " 'Fizz',\n",
       " '19',\n",
       " 'Buzz',\n",
       " 'Fizz',\n",
       " '22',\n",
       " '23',\n",
       " 'Fizz',\n",
       " 'Buzz',\n",
       " '26',\n",
       " 'Fizz',\n",
       " '28',\n",
       " '29',\n",
       " 'FizzBuzz',\n",
       " '31',\n",
       " '32',\n",
       " 'Fizz',\n",
       " '34',\n",
       " 'Buzz',\n",
       " 'Fizz',\n",
       " '37',\n",
       " '38',\n",
       " 'Fizz',\n",
       " 'Buzz',\n",
       " '41',\n",
       " 'Fizz',\n",
       " '43',\n",
       " '44',\n",
       " 'FizzBuzz',\n",
       " '46',\n",
       " '47',\n",
       " 'Fizz',\n",
       " '49',\n",
       " 'Buzz',\n",
       " 'Fizz',\n",
       " '52',\n",
       " '53',\n",
       " 'Fizz',\n",
       " 'Buzz',\n",
       " '56',\n",
       " 'Fizz',\n",
       " '58',\n",
       " '59',\n",
       " 'FizzBuzz']"
      ]
     },
     "execution_count": 19,
     "metadata": {},
     "output_type": "execute_result"
    }
   ],
   "source": [
    "n=60\n",
    "fizzbuzz(n)"
   ]
  },
  {
   "cell_type": "code",
   "execution_count": null,
   "metadata": {},
   "outputs": [],
   "source": []
  }
 ],
 "metadata": {
  "kernelspec": {
   "display_name": "Python 3",
   "language": "python",
   "name": "python3"
  },
  "language_info": {
   "codemirror_mode": {
    "name": "ipython",
    "version": 3
   },
   "file_extension": ".py",
   "mimetype": "text/x-python",
   "name": "python",
   "nbconvert_exporter": "python",
   "pygments_lexer": "ipython3",
   "version": "3.7.0"
  }
 },
 "nbformat": 4,
 "nbformat_minor": 2
}
