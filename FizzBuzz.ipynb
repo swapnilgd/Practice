{
 "cells": [
  {
   "cell_type": "code",
   "execution_count": 14,
   "metadata": {},
   "outputs": [],
   "source": [
    "#FizzBuzz: Given a range for number, multiples of 3 write Fizz and multiples of 5 write Buzz\n",
    "\n",
    "def fizzbuzz(num):\n",
    "    string = \"\"\n",
    "    for i in range(1,num):\n",
    "        if (i % 3 == 0) & (i % 5 == 0):\n",
    "            string = string + \" FizzBuzz \"\n",
    "        elif i % 3 == 0:\n",
    "            string = string + \" Fizz \"\n",
    "        elif i % 5 == 0:\n",
    "            string = string + \" Buzz \"\n",
    "        else:\n",
    "            string = string + str(i)\n",
    "            \n",
    "    print(string)"
   ]
  },
  {
   "cell_type": "code",
   "execution_count": 15,
   "metadata": {},
   "outputs": [
    {
     "name": "stdout",
     "output_type": "stream",
     "text": [
      "12 Fizz 4 Buzz  Fizz 78 Fizz  Buzz 11 Fizz 1314 FizzBuzz 1617 Fizz 19 Buzz \n"
     ]
    }
   ],
   "source": [
    "num = 21\n",
    "fizzbuzz(num)"
   ]
  },
  {
   "cell_type": "code",
   "execution_count": 3,
   "metadata": {},
   "outputs": [
    {
     "ename": "SyntaxError",
     "evalue": "invalid syntax (<ipython-input-3-abc824d019a1>, line 11)",
     "output_type": "error",
     "traceback": [
      "\u001b[0;36m  File \u001b[0;32m\"<ipython-input-3-abc824d019a1>\"\u001b[0;36m, line \u001b[0;32m11\u001b[0m\n\u001b[0;31m    exit 0\u001b[0m\n\u001b[0m         ^\u001b[0m\n\u001b[0;31mSyntaxError\u001b[0m\u001b[0;31m:\u001b[0m invalid syntax\n"
     ]
    }
   ],
   "source": [
    "def fizzbuzz2(num):\n",
    "    for i in range(1,num+1):\n",
    "        if (i % 3 == 0) & (i % 5 == 0):\n",
    "            print(\"FizzBuzz\")\n",
    "        elif (i % 3 == 0):\n",
    "            print(\"Fizz\")\n",
    "        elif (i % 5 == 0):\n",
    "            print(\"Buzz\")\n",
    "        else:\n",
    "            print(i)\n",
    "    exit(0"
   ]
  },
  {
   "cell_type": "code",
   "execution_count": 2,
   "metadata": {},
   "outputs": [
    {
     "name": "stdout",
     "output_type": "stream",
     "text": [
      "1\n",
      "2\n",
      "Fizz\n",
      "4\n",
      "Buzz\n",
      "Fizz\n",
      "7\n",
      "8\n",
      "Fizz\n",
      "Buzz\n"
     ]
    },
    {
     "data": {
      "text/plain": [
       "0"
      ]
     },
     "execution_count": 2,
     "metadata": {},
     "output_type": "execute_result"
    }
   ],
   "source": [
    "num = 10\n",
    "fizzbuzz2(num)"
   ]
  },
  {
   "cell_type": "code",
   "execution_count": null,
   "metadata": {},
   "outputs": [],
   "source": []
  }
 ],
 "metadata": {
  "kernelspec": {
   "display_name": "Python 3",
   "language": "python",
   "name": "python3"
  },
  "language_info": {
   "codemirror_mode": {
    "name": "ipython",
    "version": 3
   },
   "file_extension": ".py",
   "mimetype": "text/x-python",
   "name": "python",
   "nbconvert_exporter": "python",
   "pygments_lexer": "ipython3",
   "version": "3.7.0"
  }
 },
 "nbformat": 4,
 "nbformat_minor": 2
}
