{
 "cells": [
  {
   "cell_type": "code",
   "execution_count": 48,
   "metadata": {},
   "outputs": [],
   "source": [
    "import requests\n",
    "import json\n",
    "\n",
    "def get_emp(data):\n",
    "    if 'Employees' not in data[0]:\n",
    "        print(\"{} : {}\".format(data[0]['Title'], data[0]['Name']))\n",
    "        #print((data[0]['Name']))\n",
    "    else:\n",
    "        for d in data:\n",
    "            if 'Employees' in d:\n",
    "                \n",
    "                if isinstance(d['Employees'], list):\n",
    "                    \n",
    "                    print(\"{} : {}\".format(d['Title'], d['Name']))\n",
    "                    get_emp(d['Employees'])\n",
    "                    \n",
    "                else:\n",
    "                    print(\"{} : {}\".format(d['Title'], d['Name']))\n",
    "            else:\n",
    "                print(\"{} : {}\".format(d['Title'], d['Name']))\n",
    "                \n",
    "def get_data(url):\n",
    "    headers = {'Content-Type': \"application/json\"}\n",
    "    response = requests.get(url, headers=headers)\n",
    "    output = response.json()\n",
    "    get_emp(output)\n",
    "    \n",
    "    "
   ]
  },
  {
   "cell_type": "code",
   "execution_count": 49,
   "metadata": {},
   "outputs": [
    {
     "name": "stdout",
     "output_type": "stream",
     "text": [
      "Level2 : Jon\n",
      "Level5 : Jimmy\n",
      "Level5 : Jimmy\n"
     ]
    }
   ],
   "source": [
    "url = \"https://my-json-server.typicode.com/swapnilgd/test/posts\"\n",
    "get_data(url)"
   ]
  },
  {
   "cell_type": "code",
   "execution_count": null,
   "metadata": {},
   "outputs": [],
   "source": [
    "'''\n",
    "[\n",
    "  {\n",
    "    \"Name\": \"Mike\",\n",
    "    \"Title\": \"Level1\",\n",
    "    \"Employees\": [\n",
    "      {\n",
    "        \"Name\": \"Jon\",\n",
    "        \"Title\": \"Level2\",\n",
    "        \"Employees\": [\n",
    "          {\n",
    "            \"Name\": \"Susan\",\n",
    "            \"Title\": \"Level3\",\n",
    "            \"Employees\": [\n",
    "              {\n",
    "                \"Name\": \"Joe\",\n",
    "                \"Title\": \"Level4\",\n",
    "                \"Employees\": [\n",
    "                  {\n",
    "                    \"Name\": \"Jimmy\",\n",
    "                    \"Title\": \"Level5\"\n",
    "                  }\n",
    "                ]\n",
    "              },\n",
    "              {\n",
    "                \"Name\": \"Josh\",\n",
    "                \"Title\": \"Level4\",\n",
    "                \"Employees\": [\n",
    "                  {\n",
    "                    \"Name\": \"Jimmy\",\n",
    "                    \"Title\": \"Level5\"\n",
    "                  }\n",
    "                ]\n",
    "              }\n",
    "            ]\n",
    "          }\n",
    "        ]\n",
    "      }\n",
    "    ]\n",
    "  }\n",
    "]\n",
    "'''"
   ]
  }
 ],
 "metadata": {
  "kernelspec": {
   "display_name": "Python 3",
   "language": "python",
   "name": "python3"
  },
  "language_info": {
   "codemirror_mode": {
    "name": "ipython",
    "version": 3
   },
   "file_extension": ".py",
   "mimetype": "text/x-python",
   "name": "python",
   "nbconvert_exporter": "python",
   "pygments_lexer": "ipython3",
   "version": "3.7.0"
  }
 },
 "nbformat": 4,
 "nbformat_minor": 2
}
