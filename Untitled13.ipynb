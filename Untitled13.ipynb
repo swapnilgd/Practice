{
 "cells": [
  {
   "cell_type": "code",
   "execution_count": 11,
   "metadata": {},
   "outputs": [],
   "source": [
    "def backspace_str_compare(s1,s2):\n",
    "    out_s1 = \"\"\n",
    "    out_s2 = \"\"\n",
    "    for i in range(len(s1)):\n",
    "        if s1[i] != '#':\n",
    "            out_s1 += s1[i]\n",
    "        else:\n",
    "            out_s1 = out_s1[:-1]\n",
    "    \n",
    "    for j in range(len(s2)):\n",
    "        if s2[j] != '#':\n",
    "            out_s2 += s2[j]\n",
    "        else:\n",
    "            out_s2 = out_s2[:-1]\n",
    "    if out_s1 == out_s2:\n",
    "        return True\n",
    "    else:\n",
    "        return False"
   ]
  },
  {
   "cell_type": "code",
   "execution_count": 19,
   "metadata": {},
   "outputs": [
    {
     "data": {
      "text/plain": [
       "False"
      ]
     },
     "execution_count": 19,
     "metadata": {},
     "output_type": "execute_result"
    }
   ],
   "source": [
    "s1 = \"abc#c\"\n",
    "s2 = \"ada##c\"\n",
    "backspace_str_compare(s1,s2)"
   ]
  },
  {
   "cell_type": "code",
   "execution_count": 20,
   "metadata": {},
   "outputs": [],
   "source": [
    "def backspace_str_compare2(s1,s2):\n",
    "    \n",
    "    def build(s1):\n",
    "        \n",
    "        out = []\n",
    "    \n",
    "        for c in s1:\n",
    "            if c != '#':\n",
    "                out.append(c)\n",
    "            else:\n",
    "                out.pop()\n",
    "        return \"\".join(out)\n",
    "    return build(s1) == build(s2)"
   ]
  },
  {
   "cell_type": "code",
   "execution_count": 21,
   "metadata": {},
   "outputs": [
    {
     "data": {
      "text/plain": [
       "False"
      ]
     },
     "execution_count": 21,
     "metadata": {},
     "output_type": "execute_result"
    }
   ],
   "source": [
    "backspace_str_compare2(s1,s2)"
   ]
  },
  {
   "cell_type": "code",
   "execution_count": null,
   "metadata": {},
   "outputs": [],
   "source": []
  }
 ],
 "metadata": {
  "kernelspec": {
   "display_name": "Python 3",
   "language": "python",
   "name": "python3"
  },
  "language_info": {
   "codemirror_mode": {
    "name": "ipython",
    "version": 3
   },
   "file_extension": ".py",
   "mimetype": "text/x-python",
   "name": "python",
   "nbconvert_exporter": "python",
   "pygments_lexer": "ipython3",
   "version": "3.7.0"
  }
 },
 "nbformat": 4,
 "nbformat_minor": 2
}
