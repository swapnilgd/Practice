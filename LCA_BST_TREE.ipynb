{
 "cells": [
  {
   "cell_type": "code",
   "execution_count": 9,
   "metadata": {},
   "outputs": [],
   "source": [
    "def LCA(root,p,q):\n",
    "    \n",
    "    parent_val = root.val\n",
    "    p_val = p.val\n",
    "    q_val = q.val\n",
    "    \n",
    "    if p_val > parent_val and q_val > parent_val:\n",
    "        return LCA(root.right,p,q)\n",
    "    elif p_val < parent_val and q_val < parent_val:\n",
    "        return LCA(root.left,p,q)\n",
    "    else:\n",
    "        return root"
   ]
  },
  {
   "cell_type": "code",
   "execution_count": null,
   "metadata": {},
   "outputs": [],
   "source": [
    "def LCA2(root,p,q):\n",
    "    \n",
    "    parent_val = root.val\n",
    "    p_val = p.val\n",
    "    q_val = q.val\n",
    "    \n",
    "    if p_val > parent_val and q_val > parent_val:\n",
    "        return LCA2(root.right,p,q)\n",
    "    elif p_val < parent_val and q_val < parent_val:\n",
    "        return LCA2(root.left,p,q)\n",
    "    else:\n",
    "        return root\n",
    "    "
   ]
  }
 ],
 "metadata": {
  "kernelspec": {
   "display_name": "Python 3",
   "language": "python",
   "name": "python3"
  },
  "language_info": {
   "codemirror_mode": {
    "name": "ipython",
    "version": 3
   },
   "file_extension": ".py",
   "mimetype": "text/x-python",
   "name": "python",
   "nbconvert_exporter": "python",
   "pygments_lexer": "ipython3",
   "version": "3.7.0"
  }
 },
 "nbformat": 4,
 "nbformat_minor": 2
}
