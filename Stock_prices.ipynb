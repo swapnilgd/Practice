{
 "cells": [
  {
   "cell_type": "code",
   "execution_count": 1,
   "metadata": {},
   "outputs": [],
   "source": [
    "def StockProfit(prices):\n",
    "    \n",
    "    if prices == []:\n",
    "        return 0\n",
    "    \n",
    "    profit = 0\n",
    "    \n",
    "    for i in range(1,len(prices)):\n",
    "        if prices[i] >= prices[i-1]:\n",
    "            profit = profit + prices[i]-prices[i-1]\n",
    "    return profit\n",
    "        \n",
    "    "
   ]
  },
  {
   "cell_type": "code",
   "execution_count": 2,
   "metadata": {},
   "outputs": [
    {
     "data": {
      "text/plain": [
       "7"
      ]
     },
     "execution_count": 2,
     "metadata": {},
     "output_type": "execute_result"
    }
   ],
   "source": [
    "prices = [7,1,5,3,6,4]\n",
    "StockProfit(prices)"
   ]
  },
  {
   "cell_type": "code",
   "execution_count": 3,
   "metadata": {},
   "outputs": [],
   "source": [
    "def stockpri(prices):\n",
    "    \n",
    "    if prices == []:\n",
    "        return 0\n",
    "    \n",
    "    profit = 0\n",
    "    \n",
    "    for i in range(1,len(prices)):\n",
    "        if prices[i] >= prices[i-1]:\n",
    "            profit = profit + prices[i]-prices[i-1]\n",
    "    return profit"
   ]
  },
  {
   "cell_type": "code",
   "execution_count": 4,
   "metadata": {},
   "outputs": [],
   "source": [
    "def stockprofit(prices):\n",
    "    \n",
    "    if prices == []:\n",
    "        return 0\n",
    "    \n",
    "    profit = 0\n",
    "    \n",
    "    for i in  range(1,len(prices)):\n",
    "        if prices[i] >= prices[i-1]:\n",
    "            profit = profit + prices[i]-prices[i-1]\n",
    "    return profit\n",
    "    "
   ]
  },
  {
   "cell_type": "code",
   "execution_count": null,
   "metadata": {},
   "outputs": [],
   "source": [
    "def stock_profit(prices):\n",
    "    \n",
    "    if prices == []:\n",
    "        return 0\n",
    "    \n",
    "    profit = 0\n",
    "    \n",
    "    for i in range(1,len(prices)):\n",
    "        if prices[i] >= prices[i-1]:\n",
    "            profit = profit + prices[i] - prices[i-1]\n",
    "    return profit"
   ]
  }
 ],
 "metadata": {
  "kernelspec": {
   "display_name": "Python 3",
   "language": "python",
   "name": "python3"
  },
  "language_info": {
   "codemirror_mode": {
    "name": "ipython",
    "version": 3
   },
   "file_extension": ".py",
   "mimetype": "text/x-python",
   "name": "python",
   "nbconvert_exporter": "python",
   "pygments_lexer": "ipython3",
   "version": "3.7.0"
  }
 },
 "nbformat": 4,
 "nbformat_minor": 2
}
