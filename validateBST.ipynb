{
 "cells": [
  {
   "cell_type": "code",
   "execution_count": 11,
   "metadata": {},
   "outputs": [],
   "source": [
    "class validateBST(object):\n",
    "    \n",
    "    def __init__(self,rootObject):\n",
    "        self.key = rootObject\n",
    "        self.leftChild = None\n",
    "        self.rightChild = None\n",
    "\n",
    "    def getLeftChild(self):\n",
    "        return self.leftChild\n",
    "    \n",
    "    def getRightChild(self):\n",
    "        return self.rightChild\n",
    "    \n",
    "    def getRootVal(self):\n",
    "        return self.key\n"
   ]
  },
  {
   "cell_type": "code",
   "execution_count": 21,
   "metadata": {},
   "outputs": [],
   "source": [
    "tree_vals = []\n",
    "def inorder(tree):       \n",
    "    if tree != None:\n",
    "        inorder(tree.getLeftChild())\n",
    "        tree_vals.append(tree.getRootVal())\n",
    "        inorder(tree.getRightChild())\n",
    "        \n",
    "def sort_check(tree_vals):\n",
    "    return tree_vals == sorted(tree_vals)"
   ]
  },
  {
   "cell_type": "code",
   "execution_count": 22,
   "metadata": {},
   "outputs": [],
   "source": [
    "a = validateBST(4)"
   ]
  },
  {
   "cell_type": "code",
   "execution_count": 23,
   "metadata": {},
   "outputs": [
    {
     "data": {
      "text/plain": [
       "<__main__.validateBST at 0x10478bc18>"
      ]
     },
     "execution_count": 23,
     "metadata": {},
     "output_type": "execute_result"
    }
   ],
   "source": [
    "a"
   ]
  },
  {
   "cell_type": "code",
   "execution_count": 24,
   "metadata": {},
   "outputs": [],
   "source": [
    "a.leftChild = validateBST(2)\n",
    "a.rightChild = validateBST(5)\n",
    "a.leftChild.leftChild = validateBST(1)\n",
    "a.leftChild.rightChild = validateBST(3)"
   ]
  },
  {
   "cell_type": "code",
   "execution_count": 25,
   "metadata": {},
   "outputs": [],
   "source": [
    "inorder(a)"
   ]
  },
  {
   "cell_type": "code",
   "execution_count": 26,
   "metadata": {},
   "outputs": [
    {
     "data": {
      "text/plain": [
       "True"
      ]
     },
     "execution_count": 26,
     "metadata": {},
     "output_type": "execute_result"
    }
   ],
   "source": [
    "sort_check(tree_vals)"
   ]
  },
  {
   "cell_type": "code",
   "execution_count": null,
   "metadata": {},
   "outputs": [],
   "source": []
  },
  {
   "cell_type": "code",
   "execution_count": null,
   "metadata": {},
   "outputs": [],
   "source": []
  }
 ],
 "metadata": {
  "kernelspec": {
   "display_name": "Python 3",
   "language": "python",
   "name": "python3"
  },
  "language_info": {
   "codemirror_mode": {
    "name": "ipython",
    "version": 3
   },
   "file_extension": ".py",
   "mimetype": "text/x-python",
   "name": "python",
   "nbconvert_exporter": "python",
   "pygments_lexer": "ipython3",
   "version": "3.7.0"
  }
 },
 "nbformat": 4,
 "nbformat_minor": 2
}
