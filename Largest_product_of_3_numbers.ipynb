{
 "cells": [
  {
   "cell_type": "code",
   "execution_count": 19,
   "metadata": {},
   "outputs": [],
   "source": [
    "def max_three(arr):\n",
    "    n = len(arr)\n",
    "    first = second = third = 0\n",
    "    last = seclast = 0\n",
    "    prod1 = prod2 = 0\n",
    "    for i in range(0,n):\n",
    "        if arr[i] == 0:\n",
    "            continue\n",
    "        if arr[i] > first:\n",
    "            third = second\n",
    "            second = first\n",
    "            first = arr[i]\n",
    "        elif arr[i] > second:\n",
    "            third = second\n",
    "            second = arr[i]\n",
    "        elif arr[i] > third:\n",
    "            third = arr[i]\n",
    "        if arr[i] < last:\n",
    "            seclast = last\n",
    "            last = arr[i]\n",
    "        elif arr[i] < seclast:\n",
    "            seclast = arr[i]\n",
    "        \n",
    "    prod1 = first*second*third\n",
    "    prod2 = first*last*seclast\n",
    "    if prod1 > prod2:\n",
    "        print(first,second,third)\n",
    "    else:\n",
    "        print(first,last,seclast)\n"
   ]
  },
  {
   "cell_type": "code",
   "execution_count": 25,
   "metadata": {},
   "outputs": [
    {
     "name": "stdout",
     "output_type": "stream",
     "text": [
      "10 10 6\n"
     ]
    }
   ],
   "source": [
    "arr = [10,0,-10,-5,6,10]\n",
    "max_three(arr)"
   ]
  },
  {
   "cell_type": "code",
   "execution_count": null,
   "metadata": {},
   "outputs": [],
   "source": []
  },
  {
   "cell_type": "code",
   "execution_count": null,
   "metadata": {},
   "outputs": [],
   "source": []
  }
 ],
 "metadata": {
  "kernelspec": {
   "display_name": "Python 3",
   "language": "python",
   "name": "python3"
  },
  "language_info": {
   "codemirror_mode": {
    "name": "ipython",
    "version": 3
   },
   "file_extension": ".py",
   "mimetype": "text/x-python",
   "name": "python",
   "nbconvert_exporter": "python",
   "pygments_lexer": "ipython3",
   "version": "3.7.0"
  }
 },
 "nbformat": 4,
 "nbformat_minor": 2
}
