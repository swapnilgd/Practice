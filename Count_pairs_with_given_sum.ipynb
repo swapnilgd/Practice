{
 "cells": [
  {
   "cell_type": "code",
   "execution_count": 7,
   "metadata": {},
   "outputs": [],
   "source": [
    "#Count pairs with given sum\n",
    "\n",
    "def count_pairs(arr,num):\n",
    "    n = len(arr)\n",
    "   \n",
    "    m = [0] * (n*n)\n",
    "    \n",
    "    # Store counts of all elements in map m \n",
    "    for i in range(0,n):\n",
    "        m[arr[i]]\n",
    "        m[arr[i]] += 1\n",
    "        \n",
    "    double_count = 0\n",
    "    for i in range(0,n):\n",
    "        double_count += m[num-arr[i]]\n",
    "        \n",
    "        if (num - arr[i] == arr[i]):\n",
    "            double_count -= 1\n",
    "            \n",
    "    return int(double_count/2)\n",
    "    "
   ]
  },
  {
   "cell_type": "code",
   "execution_count": 8,
   "metadata": {},
   "outputs": [
    {
     "data": {
      "text/plain": [
       "3"
      ]
     },
     "execution_count": 8,
     "metadata": {},
     "output_type": "execute_result"
    }
   ],
   "source": [
    "arr = [1, 5, 7, -1, 5]\n",
    "num = 6\n",
    "count_pairs(arr,num)"
   ]
  },
  {
   "cell_type": "code",
   "execution_count": 51,
   "metadata": {},
   "outputs": [],
   "source": [
    "def count_pair(arr,num):\n",
    "    n = len(arr) \n",
    "    m = [0] * n+1\n",
    "    \n",
    "    for i in  range(0,n):\n",
    "        m[arr[i]]\n",
    "        m[arr[i]] += 1\n",
    "    \n",
    "    double_cnt = 0\n",
    "    for i in range(0,n):\n",
    "        double_cnt += m[num-arr[i]]\n",
    "        \n",
    "        if (num-arr[i] == arr[i]):\n",
    "            double_cnt -= 1\n",
    "            \n",
    "    return int(double_cnt/2)"
   ]
  },
  {
   "cell_type": "code",
   "execution_count": null,
   "metadata": {},
   "outputs": [],
   "source": [
    "def count_pair(arr,num):\n",
    "    n = len(arr)\n",
    "    m = [0] *100\n",
    "    \n",
    "    "
   ]
  }
 ],
 "metadata": {
  "kernelspec": {
   "display_name": "Python 3",
   "language": "python",
   "name": "python3"
  },
  "language_info": {
   "codemirror_mode": {
    "name": "ipython",
    "version": 3
   },
   "file_extension": ".py",
   "mimetype": "text/x-python",
   "name": "python",
   "nbconvert_exporter": "python",
   "pygments_lexer": "ipython3",
   "version": "3.7.0"
  }
 },
 "nbformat": 4,
 "nbformat_minor": 2
}
