{
 "cells": [
  {
   "cell_type": "code",
   "execution_count": 7,
   "metadata": {},
   "outputs": [],
   "source": [
    "def helper(str1):\n",
    "    found = \"\"\n",
    "    for char in str1:\n",
    "        if char not in found:\n",
    "            found += char\n",
    "        else:\n",
    "            break\n",
    "    return found\n",
    "\n",
    "def LongestSubStr(s1):\n",
    "    n = len(s1)\n",
    "    longest = \"\"\n",
    "    longestlen = 0\n",
    "    for k in range(n):\n",
    "        candidate = helper(s1[k:])\n",
    "        if len(candidate) > longestlen:\n",
    "            longest = candidate\n",
    "            longestlen = len(longest)\n",
    "    return longest,longestlen"
   ]
  },
  {
   "cell_type": "code",
   "execution_count": 8,
   "metadata": {},
   "outputs": [
    {
     "data": {
      "text/plain": [
       "('bcx', 3)"
      ]
     },
     "execution_count": 8,
     "metadata": {},
     "output_type": "execute_result"
    }
   ],
   "source": [
    "s1 = \"abbcx\"\n",
    "LongestSubStr(s1)"
   ]
  },
  {
   "cell_type": "code",
   "execution_count": null,
   "metadata": {},
   "outputs": [],
   "source": [
    "def helper(str1):\n",
    "    found = \"\"\n",
    "    for char in str1:\n",
    "        if char not in found:\n",
    "            found += char\n",
    "        else:\n",
    "            break\n",
    "    return found\n",
    "\n",
    "def longest(s1):\n",
    "    \n",
    "    longest = \"\"\n",
    "    longestlen = 0\n",
    "    n = len(s1)\n",
    "    \n",
    "    for k in range(n):\n",
    "        candidate = helper(s1[k:])\n",
    "        if len(candidate) > longestlen:\n",
    "            longest = candidate\n",
    "            longestlen = len(longest)\n",
    "    return longest"
   ]
  }
 ],
 "metadata": {
  "kernelspec": {
   "display_name": "Python 3",
   "language": "python",
   "name": "python3"
  },
  "language_info": {
   "codemirror_mode": {
    "name": "ipython",
    "version": 3
   },
   "file_extension": ".py",
   "mimetype": "text/x-python",
   "name": "python",
   "nbconvert_exporter": "python",
   "pygments_lexer": "ipython3",
   "version": "3.7.0"
  }
 },
 "nbformat": 4,
 "nbformat_minor": 2
}
