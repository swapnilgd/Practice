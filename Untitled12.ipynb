{
 "cells": [
  {
   "cell_type": "code",
   "execution_count": 20,
   "metadata": {},
   "outputs": [],
   "source": [
    "def next_closest_time(in_time):\n",
    "    hour,minute = in_time.split(\":\")\n",
    "\n",
    "    nums = sorted(set(hour+minute))\n",
    "\n",
    "    two_digit_values = [a+b for a in nums for b in nums]\n",
    "    #print(two_digit_values)\n",
    "    \n",
    "    i = two_digit_values.index(minute)\n",
    "    if i+1 < len(two_digit_values) and two_digit_values[i+1] < \"60\":\n",
    "        return hour + \":\" + two_digit_values[i+1]\n",
    "    \n",
    "    i = two_digit_values.index(hour)\n",
    "    if i+1 < len(two_digit_values) and two_digit_values[i+1] < \"24\":\n",
    "        return two_digit_values[i+1] + \":\" + two_digit_values[0]\n",
    "        \n",
    "    return two_digit_values[0] + \":\" + two_digit_values[0]"
   ]
  },
  {
   "cell_type": "code",
   "execution_count": 27,
   "metadata": {},
   "outputs": [
    {
     "data": {
      "text/plain": [
       "'23:42'"
      ]
     },
     "execution_count": 27,
     "metadata": {},
     "output_type": "execute_result"
    }
   ],
   "source": [
    "in_time = \"23:34\"\n",
    "next_closest_time(in_time)"
   ]
  },
  {
   "cell_type": "code",
   "execution_count": 22,
   "metadata": {},
   "outputs": [],
   "source": [
    "def next_time(time):\n",
    "    \n",
    "    hour, minute = time.split(\":\")\n",
    "    nums = sorted(set(hour+minute))\n",
    "    \n",
    "    digits = [a+b for a in nums for b in nums]\n",
    "\n",
    "    i = digits.index(minute)\n",
    "    if i + 1 < len(digits) and digits[i+1] < \"60\":\n",
    "        return hour + \":\" + digits[i+1]\n",
    "    \n",
    "    i = digits.index(hour)\n",
    "    if i + 1 < len(digits) and digits[i+1] < \"24\":\n",
    "        return digits[i+1] + \":\" + digits[0]\n",
    "    \n",
    "    return digits[0] + \":\" + digits[0]\n"
   ]
  },
  {
   "cell_type": "code",
   "execution_count": 28,
   "metadata": {},
   "outputs": [
    {
     "data": {
      "text/plain": [
       "'23:02'"
      ]
     },
     "execution_count": 28,
     "metadata": {},
     "output_type": "execute_result"
    }
   ],
   "source": [
    "time = \"23:00\"\n",
    "next_time(time)"
   ]
  },
  {
   "cell_type": "code",
   "execution_count": null,
   "metadata": {},
   "outputs": [],
   "source": []
  }
 ],
 "metadata": {
  "kernelspec": {
   "display_name": "Python 3",
   "language": "python",
   "name": "python3"
  },
  "language_info": {
   "codemirror_mode": {
    "name": "ipython",
    "version": 3
   },
   "file_extension": ".py",
   "mimetype": "text/x-python",
   "name": "python",
   "nbconvert_exporter": "python",
   "pygments_lexer": "ipython3",
   "version": "3.7.0"
  }
 },
 "nbformat": 4,
 "nbformat_minor": 2
}
