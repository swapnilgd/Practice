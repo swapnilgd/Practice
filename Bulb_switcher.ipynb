{
 "cells": [
  {
   "cell_type": "code",
   "execution_count": 1,
   "metadata": {},
   "outputs": [],
   "source": [
    "# Bulb switcher\n",
    "\n",
    "'''\n",
    "There are n bulbs that are initially off. You first turn on all the bulbs. \n",
    "Then, you turn off every second bulb. On the third round, you toggle every third bulb \n",
    "(turning on if it's off or turning off if it's on). For the i-th round, you toggle every i bulb. \n",
    "For the n-th round, you only toggle the last bulb. Find how many bulbs are on after n rounds.\n",
    "'''\n",
    "\n",
    "def bulbSwitch(n):\n",
    "        return int(n ** 0.5)"
   ]
  },
  {
   "cell_type": "code",
   "execution_count": 2,
   "metadata": {},
   "outputs": [
    {
     "data": {
      "text/plain": [
       "4"
      ]
     },
     "execution_count": 2,
     "metadata": {},
     "output_type": "execute_result"
    }
   ],
   "source": [
    "n = 21\n",
    "bulbSwitch(n)"
   ]
  },
  {
   "cell_type": "code",
   "execution_count": 3,
   "metadata": {},
   "outputs": [],
   "source": [
    "def bulbSwitch(n):\n",
    "    a = [0]*n+1\n",
    "    \n",
    "    for i in range(1,n+1):\n",
    "        for j in range(0,n+1,i):\n",
    "            a[j] = 1 - a[j]\n",
    "    print(sum(a[1:]))"
   ]
  },
  {
   "cell_type": "code",
   "execution_count": 7,
   "metadata": {},
   "outputs": [
    {
     "name": "stdout",
     "output_type": "stream",
     "text": [
      "The minimum number of switches needed are 4\n"
     ]
    }
   ],
   "source": [
    "## Revised bulb switcher\n",
    "'''\n",
    "N light bulbs are connected by a wire. Each bulb has a switch associated with it, \n",
    "however due to faulty wiring, a switch also changes the state of all the bulbs to the right of current bulb. \n",
    "Given an initial state of all bulbs, find the minimum number of switches you have to press to turn on all the bulbs. \n",
    "You can press the same switch multiple times. Note: 0 represents the bulb is off and 1 represents the bulb is on.\n",
    "'''\n",
    "\n",
    "def bulbs(a, n): \n",
    "    # To keep track of switch presses so far \n",
    "    count = 0  \n",
    "    res = 0\n",
    "    \n",
    "    for i in range(n): \n",
    "        # if the bulb's original state is on and count \n",
    "        # is even, it is currently on... \n",
    "        # no need to press this switch \n",
    "        if (a[i] == 1 and count % 2 == 0): \n",
    "            continue\n",
    "  \n",
    "        # If the bulb's original state is off and count \n",
    "        # is odd, it is currently on... \n",
    "        # no need to press this switch \n",
    "        elif(a[i] == 0 and count % 2 != 0): \n",
    "            continue\n",
    "  \n",
    "        # if the bulb's original state is on and count \n",
    "        # is odd, it is currently off... \n",
    "        # Press this switch to on the bulb and increase \n",
    "        # the count \n",
    "        elif (a[i] == 1 and count % 2 != 0): \n",
    "            res += 1\n",
    "            count += 1\n",
    "  \n",
    "        # if the bulb's original state is off and \n",
    "        # count is even, it is currently off... \n",
    "        # press this switch to on the bulb and \n",
    "        # increase the count \n",
    "        elif (a[i] == 0 and count % 2 == 0): \n",
    "            res += 1\n",
    "            count += 1\n",
    "    return res \n",
    "  \n",
    "  \n",
    "# Driver code \n",
    "states = [0,1,0, 1] \n",
    "n = len(states) \n",
    "print(\"The minimum number of switches needed are\", bulbs(states, n)) \n",
    "  "
   ]
  },
  {
   "cell_type": "code",
   "execution_count": 8,
   "metadata": {},
   "outputs": [
    {
     "data": {
      "text/plain": [
       "0"
      ]
     },
     "execution_count": 8,
     "metadata": {},
     "output_type": "execute_result"
    }
   ],
   "source": [
    "0 % 2"
   ]
  },
  {
   "cell_type": "code",
   "execution_count": null,
   "metadata": {},
   "outputs": [],
   "source": []
  }
 ],
 "metadata": {
  "kernelspec": {
   "display_name": "Python 3",
   "language": "python",
   "name": "python3"
  },
  "language_info": {
   "codemirror_mode": {
    "name": "ipython",
    "version": 3
   },
   "file_extension": ".py",
   "mimetype": "text/x-python",
   "name": "python",
   "nbconvert_exporter": "python",
   "pygments_lexer": "ipython3",
   "version": "3.7.0"
  }
 },
 "nbformat": 4,
 "nbformat_minor": 2
}
