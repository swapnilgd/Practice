{
 "cells": [
  {
   "cell_type": "code",
   "execution_count": 3,
   "metadata": {},
   "outputs": [],
   "source": [
    "def matrix_median(A):\n",
    "    if len(A) == 1:\n",
    "        vec = A[0]\n",
    "        return vec[len(vec)//2]\n",
    "    else:\n",
    "        new = []\n",
    "        for row in range(len(A)):\n",
    "            new.extend(A[row])\n",
    "  \n",
    "        new = sorted(new)\n",
    "    return new[len(new)//2]"
   ]
  },
  {
   "cell_type": "code",
   "execution_count": 4,
   "metadata": {},
   "outputs": [
    {
     "name": "stdout",
     "output_type": "stream",
     "text": [
      "[1, 3, 5, 2, 6, 9, 3, 6, 9]\n",
      "[1, 2, 3, 3, 5, 6, 6, 9, 9]\n"
     ]
    },
    {
     "data": {
      "text/plain": [
       "5"
      ]
     },
     "execution_count": 4,
     "metadata": {},
     "output_type": "execute_result"
    }
   ],
   "source": [
    "l1 = [1,3,5]\n",
    "l2 = [2,6,9]\n",
    "l3 = [3,6,9]\n",
    "A = [l1,l2,l3]\n",
    "matrix_median(A)"
   ]
  },
  {
   "cell_type": "code",
   "execution_count": null,
   "metadata": {},
   "outputs": [],
   "source": []
  }
 ],
 "metadata": {
  "kernelspec": {
   "display_name": "Python 3",
   "language": "python",
   "name": "python3"
  },
  "language_info": {
   "codemirror_mode": {
    "name": "ipython",
    "version": 3
   },
   "file_extension": ".py",
   "mimetype": "text/x-python",
   "name": "python",
   "nbconvert_exporter": "python",
   "pygments_lexer": "ipython3",
   "version": "3.7.0"
  }
 },
 "nbformat": 4,
 "nbformat_minor": 2
}
