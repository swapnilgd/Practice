{
 "cells": [
  {
   "cell_type": "code",
   "execution_count": null,
   "metadata": {},
   "outputs": [],
   "source": [
    "# import requests\n",
    "# import mysql.connector\n",
    "# import pandas as pd\n",
    "\n",
    "# If we have a streaming service that sends us sequences of characters\n",
    "# We want to store them efficiently to answer the following queries:\n",
    "# a. What are all the sequences we have seen so far?\n",
    "# b. What is the longest common prefix across all sequences seen so far?\n",
    "#\n",
    "# Hello\n",
    "# Hello Oasis\n",
    "# Heloc\n",
    "#\n",
    "# Ans: Hel\n",
    "\n",
    "def CommonPrefix(word_list):\n",
    "    len_word = len(word_list)\n",
    "    \n",
    "    longest_prefix = \"\"\n",
    "    shortest_str = min(word_list, key=len)\n",
    "    \n",
    "    if len_word < 2:\n",
    "        return shortest_str\n",
    "    \n",
    "    for i in range(len(shortest_str)):\n",
    "        if all([j.startswith(shortest_str[:i+1]) for j in word_list]):\n",
    "            longest_prefix = shortest_str[:i+1]\n",
    "        else:\n",
    "            break\n",
    "    return longest_prefix\n",
    "\n",
    "\n",
    "word_list = ['Hello','Hello Oasis','heloc']\n",
    "print(CommonPrefix(word_list))"
   ]
  }
 ],
 "metadata": {
  "kernelspec": {
   "display_name": "Python 3",
   "language": "python",
   "name": "python3"
  },
  "language_info": {
   "codemirror_mode": {
    "name": "ipython",
    "version": 3
   },
   "file_extension": ".py",
   "mimetype": "text/x-python",
   "name": "python",
   "nbconvert_exporter": "python",
   "pygments_lexer": "ipython3",
   "version": "3.7.0"
  }
 },
 "nbformat": 4,
 "nbformat_minor": 2
}
