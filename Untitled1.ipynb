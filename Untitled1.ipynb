{
 "cells": [
  {
   "cell_type": "code",
   "execution_count": null,
   "metadata": {},
   "outputs": [],
   "source": [
    "def caching(k):\n",
    "    k.cache = {}\n",
    "    \n",
    "    def _k(*args):\n",
    "        if args not in k.cache:\n",
    "            k.cache[args] = k(*args)\n",
    "        else:\n",
    "            return _k\n",
    "        \n",
    "@caching\n",
    "\n",
    "def collatz(n):\n",
    "    if n == 1:\n",
    "        return 1\n",
    "    \n",
    "    if n % 2 == 0:\n",
    "        return 1 + collatz(n//2)\n",
    "    \n",
    "    if n % 2 != 0:\n",
    "        return 1 + collatz(3 * n + 1)\n",
    "    "
   ]
  },
  {
   "cell_type": "code",
   "execution_count": null,
   "metadata": {},
   "outputs": [],
   "source": [
    "n = 100\n",
    "collatz(caching(n))"
   ]
  },
  {
   "cell_type": "code",
   "execution_count": null,
   "metadata": {},
   "outputs": [],
   "source": [
    "def helper(number):\n",
    "    \n",
    "    def collatz(n):\n",
    "        if n < number and lst[n] > 0:\n",
    "            return lst[n]\n",
    "        if n % 2 == 0:\n",
    "            val = collatz(n//2) + 1\n",
    "        else:\n",
    "            val = collatz((3*n + 1)) + 2\n",
    "        if n < number:\n",
    "            lst[n] = val\n",
    "        return val\n",
    "\n",
    "    \n",
    "    \n",
    "    lst = [0]*number\n",
    "    lst[1] = 1\n",
    "    lst[0] = 1\n",
    "    for i in range(number):\n",
    "        collatz(i)\n",
    "    return max(lst)"
   ]
  },
  {
   "cell_type": "code",
   "execution_count": null,
   "metadata": {},
   "outputs": [],
   "source": [
    "helper(999999)"
   ]
  },
  {
   "cell_type": "code",
   "execution_count": 5,
   "metadata": {},
   "outputs": [],
   "source": [
    "#sspringppath\n",
    "\n",
    "def second_dup(str1):\n",
    "    \n",
    "    n = 256\n",
    "    out = [0]*n\n",
    "    first = second = 0\n",
    "    \n",
    "    for i in range(len(str1)):\n",
    "        out[ord(str1[i])] += 1\n",
    "        \n",
    "    for i in range(n):\n",
    "        if out[i] > out[first]:\n",
    "            second = first\n",
    "            first = i\n",
    "    \n",
    "        elif out[i] > out[second] and out[i] != out[first]:\n",
    "            second = i\n",
    "    return chr(second)"
   ]
  },
  {
   "cell_type": "code",
   "execution_count": 9,
   "metadata": {},
   "outputs": [
    {
     "data": {
      "text/plain": [
       "'s'"
      ]
     },
     "execution_count": 9,
     "metadata": {},
     "output_type": "execute_result"
    }
   ],
   "source": [
    "str1 = 'sspringppath'\n",
    "second_dup(str1)"
   ]
  },
  {
   "cell_type": "code",
   "execution_count": null,
   "metadata": {},
   "outputs": [],
   "source": []
  },
  {
   "cell_type": "code",
   "execution_count": null,
   "metadata": {},
   "outputs": [],
   "source": []
  }
 ],
 "metadata": {
  "kernelspec": {
   "display_name": "Python 3",
   "language": "python",
   "name": "python3"
  },
  "language_info": {
   "codemirror_mode": {
    "name": "ipython",
    "version": 3
   },
   "file_extension": ".py",
   "mimetype": "text/x-python",
   "name": "python",
   "nbconvert_exporter": "python",
   "pygments_lexer": "ipython3",
   "version": "3.7.0"
  }
 },
 "nbformat": 4,
 "nbformat_minor": 2
}
