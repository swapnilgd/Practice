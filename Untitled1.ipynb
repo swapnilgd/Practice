{
 "cells": [
  {
   "cell_type": "code",
   "execution_count": 5,
   "metadata": {},
   "outputs": [
    {
     "ename": "SyntaxError",
     "evalue": "invalid syntax (<ipython-input-5-632e47ed98c2>, line 15)",
     "output_type": "error",
     "traceback": [
      "\u001b[0;36m  File \u001b[0;32m\"<ipython-input-5-632e47ed98c2>\"\u001b[0;36m, line \u001b[0;32m15\u001b[0m\n\u001b[0;31m    (/, The, standard, three, Stack, methods:)\u001b[0m\n\u001b[0m     ^\u001b[0m\n\u001b[0;31mSyntaxError\u001b[0m\u001b[0;31m:\u001b[0m invalid syntax\n"
     ]
    }
   ],
   "source": [
    "'''/**\n",
    " * A stacklike data structure that also allows stacklike access\n",
    " * to its elements by their value.\n",
    " * For example, given a stack of {1, 3, 2, 5, 3, 4,5, 2}\n",
    " * peek() -> 2, peekMax() -> 5\n",
    " * pop() -> 2; peek() -> 5, peekMax() -> 5\n",
    " * pop() -> 5; peek() -> 4, peekMax() -> 5\n",
    " * push(6); peek() -> 6, peekMax() -> 6\n",
    " * popMax() -> 6; peek -> 4, peekMax() -> 5\n",
    " * popMax() -> 5; peek -> 4, peekMax() -> 4\n",
    " */\n",
    "'''\n",
    "class MaxStack(object):\n",
    " \n",
    "    #The standard three Stack methods:\n",
    "\n",
    "    def __init__(self):\n",
    "        self.stack = []\n",
    "\n",
    "\n",
    "   # Add an element to the stack. */\n",
    "    def push(self,x):\n",
    "        self.stack.append(x)\n",
    " \n",
    "    # Return the top value on the stack. */\n",
    "    def peek():\n",
    "        return self.stack[-1]\n",
    "  \n",
    "    # Remove and return the top value from the stack. */\n",
    "    def pop():\n",
    "        return self.stack.pop()\n",
    "     \n",
    "    # Two special methods, so this isn't just 'implement a stack':\n",
    " \n",
    "    # Return the largest value in the stack. (Remember that T must implement Comparable.) */\n",
    "    def peekMax():\n",
    "        return max(self.stack)\n",
    " \n",
    "    # Remove and return the largest value from the stack. */\n",
    "    def popMax():\n",
    "        idx = None\n",
    "        max_value = None\n",
    "\n",
    "        for i in range(len(self.stack)):\n",
    "            num = self.stack[i]\n",
    "            if num >= max_value:\n",
    "                max_value = num\n",
    "                idx = i\n",
    "        return self.stack.pop(idx)\n",
    "    \n",
    "#{1, 3, 2, 5, 3, 4,5,2}\n",
    "\n",
    "\n"
   ]
  },
  {
   "cell_type": "code",
   "execution_count": 32,
   "metadata": {},
   "outputs": [],
   "source": [
    "import heapq\n",
    "\n",
    "class max_stack(object):\n",
    "        \n",
    "    def __init__(self):\n",
    "        self.stack = []\n",
    "        self.stack2 = []\n",
    "    \n",
    "    def push(self,x):\n",
    "        self.stack.append(x)\n",
    "        self.stack2.append(x)\n",
    "   # Return the top value on the stack. */\n",
    "    \n",
    "    def peek(self):\n",
    "        return self.stack[-1]\n",
    "  \n",
    "    # Remove and return the top value from the stack. */\n",
    "    def pop(self):\n",
    "        return self.stack.pop()\n",
    "    \n",
    "    def peekMax(self):\n",
    "        heapq.heapify(self.stack2)\n",
    "        return self.stack2[-1]\n",
    "        \n",
    "    def popMax(self):\n",
    "        heapq.heapify(self.stack2)\n",
    "        print(heapq._heappop_max(self.stack2))\n",
    "        \n",
    "        "
   ]
  },
  {
   "cell_type": "code",
   "execution_count": 33,
   "metadata": {},
   "outputs": [],
   "source": [
    "m = max_stack()"
   ]
  },
  {
   "cell_type": "code",
   "execution_count": 34,
   "metadata": {},
   "outputs": [],
   "source": [
    "m.push(1)\n",
    "m.push(3)\n",
    "m.push(2)\n",
    "m.push(0)\n"
   ]
  },
  {
   "cell_type": "code",
   "execution_count": 35,
   "metadata": {},
   "outputs": [
    {
     "data": {
      "text/plain": [
       "3"
      ]
     },
     "execution_count": 35,
     "metadata": {},
     "output_type": "execute_result"
    }
   ],
   "source": [
    "m.peekMax()"
   ]
  },
  {
   "cell_type": "code",
   "execution_count": 36,
   "metadata": {},
   "outputs": [
    {
     "name": "stdout",
     "output_type": "stream",
     "text": [
      "0\n"
     ]
    }
   ],
   "source": [
    "m.popMax()"
   ]
  },
  {
   "cell_type": "code",
   "execution_count": null,
   "metadata": {},
   "outputs": [],
   "source": []
  }
 ],
 "metadata": {
  "kernelspec": {
   "display_name": "Python 3",
   "language": "python",
   "name": "python3"
  },
  "language_info": {
   "codemirror_mode": {
    "name": "ipython",
    "version": 3
   },
   "file_extension": ".py",
   "mimetype": "text/x-python",
   "name": "python",
   "nbconvert_exporter": "python",
   "pygments_lexer": "ipython3",
   "version": "3.7.0"
  }
 },
 "nbformat": 4,
 "nbformat_minor": 2
}
