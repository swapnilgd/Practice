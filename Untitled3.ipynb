{
 "cells": [
  {
   "cell_type": "code",
   "execution_count": null,
   "metadata": {},
   "outputs": [],
   "source": [
    "def helper(str1):\n",
    "    found = \"\"\n",
    "    for char in str1:\n",
    "        if char not in found:\n",
    "            found += char\n",
    "        else:\n",
    "            break\n",
    "    return found\n",
    "\n",
    "def longest_str(str1):\n",
    "    longest_len = 0\n",
    "    longest = \"\"\n",
    "    n = len(str1)\n",
    "    \n",
    "    for k in n:\n",
    "        candidate = helper(str1[k:])\n",
    "        if len(candidate) > longest_len:\n",
    "            longest = candidate\n",
    "            longest_len = len(longest)\n",
    "    return longest\n",
    "        "
   ]
  }
 ],
 "metadata": {
  "kernelspec": {
   "display_name": "Python 3",
   "language": "python",
   "name": "python3"
  },
  "language_info": {
   "codemirror_mode": {
    "name": "ipython",
    "version": 3
   },
   "file_extension": ".py",
   "mimetype": "text/x-python",
   "name": "python",
   "nbconvert_exporter": "python",
   "pygments_lexer": "ipython3",
   "version": "3.7.0"
  }
 },
 "nbformat": 4,
 "nbformat_minor": 2
}
