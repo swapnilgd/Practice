{
 "cells": [
  {
   "cell_type": "code",
   "execution_count": 5,
   "metadata": {},
   "outputs": [
    {
     "name": "stdout",
     "output_type": "stream",
     "text": [
      "[0, 1, 2, 3, 3, 5, 7, 224, 13456, 45678, 732234]\n"
     ]
    }
   ],
   "source": [
    "def merge_sort(arr):\n",
    "    \n",
    "    if len(arr) > 1:\n",
    "        \n",
    "        mid = len(arr)//2\n",
    "        lefthalf = arr[:mid]\n",
    "        righthalf = arr[mid:]\n",
    "        \n",
    "        merge_sort(lefthalf)\n",
    "        merge_sort(righthalf)\n",
    "        \n",
    "        i=0\n",
    "        j=0\n",
    "        k=0\n",
    "        \n",
    "        while i < len(lefthalf) and j < len(righthalf):\n",
    "            if lefthalf[i] < righthalf[j]:\n",
    "                arr[k] = lefthalf[i]\n",
    "                i += 1\n",
    "            else:\n",
    "                arr[k] = righthalf[j]\n",
    "                j +=1\n",
    "            k += 1\n",
    "        \n",
    "        while i < len(lefthalf):\n",
    "            arr[k]=lefthalf[i]\n",
    "            i+=1\n",
    "            k+=1\n",
    "        while j < len(righthalf):\n",
    "            arr[k] = righthalf[j]\n",
    "            j+=1\n",
    "            k+=1\n",
    "    retu\n"
   ]
  },
  {
   "cell_type": "code",
   "execution_count": 6,
   "metadata": {},
   "outputs": [
    {
     "data": {
      "text/plain": [
       "[0, 1, 2, 3, 3, 5, 7, 224, 13456, 45678, 732234]"
      ]
     },
     "execution_count": 6,
     "metadata": {},
     "output_type": "execute_result"
    }
   ],
   "source": [
    "arr = [3,7,2,1,0,45678,3,5,732234,224,13456]\n",
    "merge_sort(arr)\n",
    "arr"
   ]
  },
  {
   "cell_type": "code",
   "execution_count": null,
   "metadata": {},
   "outputs": [],
   "source": []
  }
 ],
 "metadata": {
  "kernelspec": {
   "display_name": "Python 3",
   "language": "python",
   "name": "python3"
  },
  "language_info": {
   "codemirror_mode": {
    "name": "ipython",
    "version": 3
   },
   "file_extension": ".py",
   "mimetype": "text/x-python",
   "name": "python",
   "nbconvert_exporter": "python",
   "pygments_lexer": "ipython3",
   "version": "3.7.0"
  }
 },
 "nbformat": 4,
 "nbformat_minor": 2
}
