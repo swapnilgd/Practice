{
 "cells": [
  {
   "cell_type": "code",
   "execution_count": 1,
   "metadata": {},
   "outputs": [],
   "source": [
    "# Find average of subarrays # sliding window\n",
    "\n",
    "#e.g. : (5, [1, 3, 2, 6, -1, 4, 1, 8, 2])\n",
    "\n",
    "def sliding_win(k,arr):\n",
    "    win_start, win_sum = 0, 0.0\n",
    "    result = []\n",
    "    \n",
    "    for win_end in range(len(arr)):\n",
    "        win_sum += arr[win_end]\n",
    "        \n",
    "        if win_end >= k - 1:\n",
    "            result.append(win_sum/k)\n",
    "            win_sum -= arr[win_start]\n",
    "            win_start += 1\n",
    "    return result\n",
    "\n",
    "        \n",
    "            \n",
    "        "
   ]
  },
  {
   "cell_type": "code",
   "execution_count": 2,
   "metadata": {},
   "outputs": [
    {
     "data": {
      "text/plain": [
       "[2.2, 2.8, 2.4, 3.6, 2.8]"
      ]
     },
     "execution_count": 2,
     "metadata": {},
     "output_type": "execute_result"
    }
   ],
   "source": [
    "k = 5\n",
    "arr = [1, 3, 2, 6, -1, 4, 1, 8, 2]\n",
    "sliding_win(k,arr)"
   ]
  },
  {
   "cell_type": "code",
   "execution_count": 3,
   "metadata": {},
   "outputs": [],
   "source": [
    "def max_sum_arr(k,arr):\n",
    "    out = []\n",
    "    win_start, win_sum = 0,0.0\n",
    "    \n",
    "    for win_end in range(len(arr)):\n",
    "        win_sum += arr[win_end]\n",
    "        \n",
    "        if win_end >= k-1:\n",
    "            out.append(win_sum/k)\n",
    "            win_sum -= arr[win_start]\n",
    "            win_start += 1\n",
    "    return out"
   ]
  },
  {
   "cell_type": "code",
   "execution_count": 4,
   "metadata": {},
   "outputs": [
    {
     "data": {
      "text/plain": [
       "[2.2, 2.8, 2.4, 3.6, 2.8]"
      ]
     },
     "execution_count": 4,
     "metadata": {},
     "output_type": "execute_result"
    }
   ],
   "source": [
    "max_sum_arr(k,arr)"
   ]
  },
  {
   "cell_type": "code",
   "execution_count": null,
   "metadata": {},
   "outputs": [],
   "source": []
  }
 ],
 "metadata": {
  "kernelspec": {
   "display_name": "Python 3",
   "language": "python",
   "name": "python3"
  },
  "language_info": {
   "codemirror_mode": {
    "name": "ipython",
    "version": 3
   },
   "file_extension": ".py",
   "mimetype": "text/x-python",
   "name": "python",
   "nbconvert_exporter": "python",
   "pygments_lexer": "ipython3",
   "version": "3.7.0"
  }
 },
 "nbformat": 4,
 "nbformat_minor": 2
}
