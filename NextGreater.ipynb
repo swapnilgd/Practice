{
 "cells": [
  {
   "cell_type": "code",
   "execution_count": 1,
   "metadata": {},
   "outputs": [],
   "source": [
    "def NextGreater(num1,num2):\n",
    "    \n",
    "    result = []\n",
    "    for num in num1:\n",
    "        idx = num2.index(num)\n",
    "        temp = 0\n",
    "        for j in range(idx+1,len(num2)):\n",
    "            if num2[j] > num:\n",
    "                result.append(num2[j])\n",
    "                temp += 1\n",
    "                break\n",
    "        if temp == 0:\n",
    "            result.append(-1)\n",
    "    return result\n",
    "                \n",
    "                \n",
    "                "
   ]
  },
  {
   "cell_type": "code",
   "execution_count": 2,
   "metadata": {},
   "outputs": [
    {
     "data": {
      "text/plain": [
       "[-1, 3, -1]"
      ]
     },
     "execution_count": 2,
     "metadata": {},
     "output_type": "execute_result"
    }
   ],
   "source": [
    "num1 = [4,1,2]\n",
    "num2 = [1,3,4,2]\n",
    "NextGreater(num1,num2)"
   ]
  },
  {
   "cell_type": "code",
   "execution_count": null,
   "metadata": {},
   "outputs": [],
   "source": []
  }
 ],
 "metadata": {
  "kernelspec": {
   "display_name": "Python 3",
   "language": "python",
   "name": "python3"
  },
  "language_info": {
   "codemirror_mode": {
    "name": "ipython",
    "version": 3
   },
   "file_extension": ".py",
   "mimetype": "text/x-python",
   "name": "python",
   "nbconvert_exporter": "python",
   "pygments_lexer": "ipython3",
   "version": "3.7.0"
  }
 },
 "nbformat": 4,
 "nbformat_minor": 2
}
