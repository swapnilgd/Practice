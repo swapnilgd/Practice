{
 "cells": [
  {
   "cell_type": "code",
   "execution_count": null,
   "metadata": {},
   "outputs": [],
   "source": [
    "class Nonde(object):\n",
    "    def __init__(self,val,left,right):\n",
    "        self.root = val\n",
    "        self.left = None\n",
    "        self.right = None\n",
    "        \n",
    "def max_depth(root):\n",
    "    \n",
    "    if root is None:\n",
    "        return 0\n",
    "    else:\n",
    "        left_height = self.max_depth(root.left)\n",
    "        right_height = self.max_depth(root.right)\n",
    "        return max(left_height,right_height)+1"
   ]
  }
 ],
 "metadata": {
  "kernelspec": {
   "display_name": "Python 3",
   "language": "python",
   "name": "python3"
  },
  "language_info": {
   "codemirror_mode": {
    "name": "ipython",
    "version": 3
   },
   "file_extension": ".py",
   "mimetype": "text/x-python",
   "name": "python",
   "nbconvert_exporter": "python",
   "pygments_lexer": "ipython3",
   "version": "3.7.0"
  }
 },
 "nbformat": 4,
 "nbformat_minor": 2
}
