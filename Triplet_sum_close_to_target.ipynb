{
 "cells": [
  {
   "cell_type": "code",
   "execution_count": 1,
   "metadata": {},
   "outputs": [],
   "source": [
    "#Triplet Sum Close to Target\n",
    "import math\n",
    "\n",
    "\n",
    "def triplet_sum_close_to_target(arr, target_sum):\n",
    "    arr.sort()\n",
    "    smallest_difference = math.inf\n",
    "    for i in range(len(arr)-2):\n",
    "        left = i + 1\n",
    "        right = len(arr) - 1\n",
    "        while (left < right):\n",
    "            target_diff = target_sum - arr[i] - arr[left] - arr[right]\n",
    "            if target_diff == 0:  # we've found a triplet with an exact sum\n",
    "                return target_sum - target_diff  # return sum of all the numbers\n",
    "\n",
    "            if abs(target_diff) < abs(smallest_difference):\n",
    "                smallest_difference = target_diff  # save the closest difference\n",
    "\n",
    "            if target_diff > 0:\n",
    "                left += 1  # we need a triplet with a bigger sum\n",
    "            else:\n",
    "                right -= 1  # we need a triplet with a smaller sum\n",
    "\n",
    "    return target_sum - smallest_difference\n"
   ]
  },
  {
   "cell_type": "code",
   "execution_count": 2,
   "metadata": {},
   "outputs": [
    {
     "data": {
      "text/plain": [
       "1"
      ]
     },
     "execution_count": 2,
     "metadata": {},
     "output_type": "execute_result"
    }
   ],
   "source": [
    "arr = [-2, 0, 1, 2]\n",
    "target_sum = 2\n",
    "triplet_sum_close_to_target(arr,target_sum)"
   ]
  },
  {
   "cell_type": "code",
   "execution_count": 3,
   "metadata": {},
   "outputs": [
    {
     "data": {
      "text/plain": [
       "0"
      ]
     },
     "execution_count": 3,
     "metadata": {},
     "output_type": "execute_result"
    }
   ],
   "source": [
    "arr = [-3, -1, 1, 2] \n",
    "target_sum = 1\n",
    "triplet_sum_close_to_target(arr,target_sum)"
   ]
  },
  {
   "cell_type": "code",
   "execution_count": null,
   "metadata": {},
   "outputs": [],
   "source": []
  }
 ],
 "metadata": {
  "kernelspec": {
   "display_name": "Python 3",
   "language": "python",
   "name": "python3"
  },
  "language_info": {
   "codemirror_mode": {
    "name": "ipython",
    "version": 3
   },
   "file_extension": ".py",
   "mimetype": "text/x-python",
   "name": "python",
   "nbconvert_exporter": "python",
   "pygments_lexer": "ipython3",
   "version": "3.7.0"
  }
 },
 "nbformat": 4,
 "nbformat_minor": 2
}
