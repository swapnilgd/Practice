{
 "cells": [
  {
   "cell_type": "code",
   "execution_count": 4,
   "metadata": {},
   "outputs": [],
   "source": [
    "def triplet(arr2):\n",
    "    triplets = []\n",
    "    arr2.sort()\n",
    "    \n",
    "    for i in range(len(arr2)):\n",
    "        if i > 0 and arr2[i] == arr2[i-1]:\n",
    "            continue\n",
    "        search_trip(arr2,-arr2[i],i+1,triplets)\n",
    "        \n",
    "    return triplets\n",
    "\n",
    "def search_trip(arr2,target,left,triplets):\n",
    "    right = len(arr2)-1\n",
    "    while left < right:\n",
    "        current_sum = arr2[left]+ arr2[right]\n",
    "        if current_sum == target:\n",
    "            triplets.append([-target,arr2[left],arr2[right]])\n",
    "            left += 1\n",
    "            right -= 1\n",
    "            while left < right and arr2[left] == arr2[left-1]:\n",
    "                left += 1\n",
    "            while left < right and arr2[right] == arr2[right+1]:\n",
    "                right -= 1\n",
    "        elif target > current_sum:\n",
    "            left += 1\n",
    "        else:\n",
    "            right -= 1\n",
    "            "
   ]
  },
  {
   "cell_type": "code",
   "execution_count": 5,
   "metadata": {},
   "outputs": [
    {
     "data": {
      "text/plain": [
       "[[-3, 1, 2], [-2, 0, 2], [-2, 1, 1], [-1, 0, 1]]"
      ]
     },
     "execution_count": 5,
     "metadata": {},
     "output_type": "execute_result"
    }
   ],
   "source": [
    "arr2 = [-3, 0, 1, 2, -1, 1, -2]\n",
    "triplet(arr2)"
   ]
  },
  {
   "cell_type": "code",
   "execution_count": null,
   "metadata": {},
   "outputs": [],
   "source": []
  }
 ],
 "metadata": {
  "kernelspec": {
   "display_name": "Python 3",
   "language": "python",
   "name": "python3"
  },
  "language_info": {
   "codemirror_mode": {
    "name": "ipython",
    "version": 3
   },
   "file_extension": ".py",
   "mimetype": "text/x-python",
   "name": "python",
   "nbconvert_exporter": "python",
   "pygments_lexer": "ipython3",
   "version": "3.7.0"
  }
 },
 "nbformat": 4,
 "nbformat_minor": 2
}
