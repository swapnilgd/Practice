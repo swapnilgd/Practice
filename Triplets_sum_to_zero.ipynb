{
 "cells": [
  {
   "cell_type": "code",
   "execution_count": 6,
   "metadata": {},
   "outputs": [],
   "source": [
    "#Triplets sum to 0\n",
    "\n",
    "def triplet_sum(arr):\n",
    "    arr.sort()\n",
    "    triplets = []\n",
    "    \n",
    "    for i in range(len(arr)):\n",
    "        if i > 0 and arr[i] == arr[i-1]:\n",
    "            continue\n",
    "        search_triplet(arr,-arr[i],i+1,triplets)\n",
    "    return triplets\n",
    "\n",
    "def search_triplet(arr, target_sum, left, triplets):\n",
    "    right = len(arr)-1\n",
    "    \n",
    "    while left < right:\n",
    "        current_sum = arr[left] + arr[right]\n",
    "        if current_sum == target_sum:\n",
    "            triplets.append([-target_sum,arr[left],arr[right]])\n",
    "            left += 1\n",
    "            right -= 1\n",
    "            while left < right and arr[left] == arr[left-1]:\n",
    "                left += 1\n",
    "            while left < right and arr[right] == arr[right+1]:\n",
    "                right -= 1\n",
    "        elif target_sum > current_sum:\n",
    "            left += 1\n",
    "        else:\n",
    "            right -= 1\n",
    "            "
   ]
  },
  {
   "cell_type": "code",
   "execution_count": 7,
   "metadata": {},
   "outputs": [
    {
     "data": {
      "text/plain": [
       "[[-3, 1, 2], [-2, 0, 2], [-2, 1, 1], [-1, 0, 1]]"
      ]
     },
     "execution_count": 7,
     "metadata": {},
     "output_type": "execute_result"
    }
   ],
   "source": [
    "arr = [-3, 0, 1, 2, -1, 1, -2]\n",
    "triplet_sum(arr)"
   ]
  }
 ],
 "metadata": {
  "kernelspec": {
   "display_name": "Python 3",
   "language": "python",
   "name": "python3"
  },
  "language_info": {
   "codemirror_mode": {
    "name": "ipython",
    "version": 3
   },
   "file_extension": ".py",
   "mimetype": "text/x-python",
   "name": "python",
   "nbconvert_exporter": "python",
   "pygments_lexer": "ipython3",
   "version": "3.7.0"
  }
 },
 "nbformat": 4,
 "nbformat_minor": 2
}
