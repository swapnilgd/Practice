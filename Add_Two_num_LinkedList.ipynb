{
 "cells": [
  {
   "cell_type": "code",
   "execution_count": 1,
   "metadata": {},
   "outputs": [],
   "source": [
    "class ListNode(object):\n",
    "    def __init__(self,x):\n",
    "        self.val = x\n",
    "        self.next = None\n",
    "        \n",
    "\n",
    "    def addTwoNumbers(l1,l2):\n",
    "        carry = 0\n",
    "        root = n = ListNode(0)\n",
    "        \n",
    "        while l1 or l2 or carry:\n",
    "            v1 = v2 = 0\n",
    "            if l1:\n",
    "                v1 = l1.val\n",
    "                l1 = l1.next\n",
    "            if l2:\n",
    "                v2 = l2.val\n",
    "                l2 = l2.next\n",
    "            carry,val = divmod(v1+v2+carry,10)\n",
    "            n.next = ListNode(val)\n",
    "            n = n.next\n",
    "            \n",
    "        return root.next\n",
    "    "
   ]
  },
  {
   "cell_type": "code",
   "execution_count": 16,
   "metadata": {},
   "outputs": [],
   "source": [
    "class ListNode(object):\n",
    "    def __init__(self,x):\n",
    "        self.val = x\n",
    "        self.next = None\n",
    "        \n",
    "def AddTwo(l1,l2):\n",
    "        \n",
    "        carry = 0\n",
    "        root = n = ListNode(0)\n",
    "        \n",
    "        while l1 or l2 or carry:\n",
    "            v1 = v2 = 0\n",
    "            \n",
    "            if l1:\n",
    "                v1 = l1.val\n",
    "                l1 = l1.next\n",
    "            if l2:\n",
    "                v2 = l2.val\n",
    "                l2 = l2.next\n",
    "                \n",
    "            carry,val = divmod(v1+v2+carry, 10)\n",
    "            n.next = ListNode(val)\n",
    "            n = n.next\n",
    "            \n",
    "        return root.next"
   ]
  },
  {
   "cell_type": "code",
   "execution_count": 17,
   "metadata": {},
   "outputs": [],
   "source": [
    "x = ListNode(4)\n",
    "x.next = ListNode(5)\n",
    "x.next.next = ListNode(6)"
   ]
  },
  {
   "cell_type": "code",
   "execution_count": 18,
   "metadata": {},
   "outputs": [
    {
     "data": {
      "text/plain": [
       "4"
      ]
     },
     "execution_count": 18,
     "metadata": {},
     "output_type": "execute_result"
    }
   ],
   "source": [
    "x.val"
   ]
  },
  {
   "cell_type": "code",
   "execution_count": 19,
   "metadata": {},
   "outputs": [
    {
     "data": {
      "text/plain": [
       "5"
      ]
     },
     "execution_count": 19,
     "metadata": {},
     "output_type": "execute_result"
    }
   ],
   "source": [
    "x.next.val\n"
   ]
  },
  {
   "cell_type": "code",
   "execution_count": 20,
   "metadata": {},
   "outputs": [],
   "source": [
    "y = ListNode(3)\n",
    "y.next = ListNode(2)\n",
    "y.next.next = ListNode(1)"
   ]
  },
  {
   "cell_type": "code",
   "execution_count": 21,
   "metadata": {},
   "outputs": [
    {
     "name": "stdout",
     "output_type": "stream",
     "text": [
      "0\n",
      "7\n",
      "7\n"
     ]
    }
   ],
   "source": [
    "AddTwo(x,y)"
   ]
  },
  {
   "cell_type": "code",
   "execution_count": null,
   "metadata": {},
   "outputs": [],
   "source": [
    "class ListNode(object):\n",
    "    \n",
    "    def __init__(self,x):\n",
    "        self.val = x\n",
    "        self.next = None\n",
    "        \n",
    "    def AddTwo(l1,l2):\n",
    "        \n",
    "        carry = 0\n",
    "        root = n = ListNode(0)\n",
    "        \n",
    "        while l1 or l2 or carry:\n",
    "            v1=v2=0\n",
    "            if l1:\n",
    "                v1 = l1.val\n",
    "                l1 = l1.next\n",
    "            if l2:\n",
    "                v2 = l2.val\n",
    "                l2 = l2.next\n",
    "            \n",
    "            carry,val = divmod(v1+v2+carry,10)\n",
    "            n.next = ListNode(val)\n",
    "            n = n.next\n",
    "        return root.next"
   ]
  }
 ],
 "metadata": {
  "kernelspec": {
   "display_name": "Python 3",
   "language": "python",
   "name": "python3"
  },
  "language_info": {
   "codemirror_mode": {
    "name": "ipython",
    "version": 3
   },
   "file_extension": ".py",
   "mimetype": "text/x-python",
   "name": "python",
   "nbconvert_exporter": "python",
   "pygments_lexer": "ipython3",
   "version": "3.7.0"
  }
 },
 "nbformat": 4,
 "nbformat_minor": 2
}
