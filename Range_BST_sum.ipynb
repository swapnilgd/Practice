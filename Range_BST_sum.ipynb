{
 "cells": [
  {
   "cell_type": "code",
   "execution_count": 2,
   "metadata": {},
   "outputs": [],
   "source": [
    "#Given the root node of a binary search tree, return the sum of values of all nodes with value between L and R (inclusive).\n",
    "#The binary search tree is guaranteed to have unique values.\n",
    "\n",
    "class TreeNode(object):\n",
    "    def __init__(self, x):\n",
    "        self.val = x\n",
    "        self.left = None\n",
    "        self.right = None\n",
    "\n",
    "class Solution(object):\n",
    "    def RangeSumBST(self,root,L,R):\n",
    "        def dfs(node):\n",
    "            if node:\n",
    "                if L <= node.val <= R:\n",
    "                    self.ans += node.val\n",
    "                if L < node.val:\n",
    "                    dfs(node.left)\n",
    "                if node.val < R:\n",
    "                    dfs(node.right)\n",
    "        self.ans = 0\n",
    "        dfs(root)\n",
    "        return self.ans"
   ]
  },
  {
   "cell_type": "code",
   "execution_count": 7,
   "metadata": {},
   "outputs": [],
   "source": [
    "m = TreeNode(10)\n",
    "m.left = 20\n",
    "m.right = 30\n"
   ]
  },
  {
   "cell_type": "code",
   "execution_count": null,
   "metadata": {},
   "outputs": [],
   "source": []
  }
 ],
 "metadata": {
  "kernelspec": {
   "display_name": "Python 3",
   "language": "python",
   "name": "python3"
  },
  "language_info": {
   "codemirror_mode": {
    "name": "ipython",
    "version": 3
   },
   "file_extension": ".py",
   "mimetype": "text/x-python",
   "name": "python",
   "nbconvert_exporter": "python",
   "pygments_lexer": "ipython3",
   "version": "3.7.0"
  }
 },
 "nbformat": 4,
 "nbformat_minor": 2
}
