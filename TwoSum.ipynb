{
 "cells": [
  {
   "cell_type": "code",
   "execution_count": 11,
   "metadata": {},
   "outputs": [],
   "source": [
    "def pair_sum(num_list,out):\n",
    "    seen =  set()\n",
    "    output = set()\n",
    "    for nums in num_list:\n",
    "        temp = out - nums\n",
    "        if temp not in seen:\n",
    "            seen.add(nums)\n",
    "        else:\n",
    "            output.add((min(nums,temp),max(nums,temp)))\n",
    "    print(output)"
   ]
  },
  {
   "cell_type": "code",
   "execution_count": 18,
   "metadata": {},
   "outputs": [
    {
     "name": "stdout",
     "output_type": "stream",
     "text": [
      "{(1, 5), (2, 4)}\n"
     ]
    }
   ],
   "source": [
    "num_list = [3,4,1,5,2,7]\n",
    "out = 6\n",
    "pair_sum(num_list,out)"
   ]
  },
  {
   "cell_type": "code",
   "execution_count": 1,
   "metadata": {},
   "outputs": [],
   "source": [
    "def pair_sum2(num_list,out):\n",
    "    seen =  set()\n",
    "    for nums in num_list:\n",
    "        temp = out - nums\n",
    "        if temp not in seen:\n",
    "            seen.add(nums)\n",
    "        else:\n",
    "            print(num_list.index(nums),num_list.index(temp))\n",
    "   "
   ]
  },
  {
   "cell_type": "code",
   "execution_count": 2,
   "metadata": {},
   "outputs": [
    {
     "name": "stdout",
     "output_type": "stream",
     "text": [
      "3 2\n",
      "4 1\n",
      "0 0\n"
     ]
    }
   ],
   "source": [
    "num_list = [3,4,1,5,2,7,3]\n",
    "out = 6\n",
    "pair_sum2(num_list,out)"
   ]
  },
  {
   "cell_type": "code",
   "execution_count": 1,
   "metadata": {},
   "outputs": [],
   "source": [
    "def twoSum(nums, target):\n",
    "    seen = set()\n",
    "    output = set()\n",
    "    for n in nums:\n",
    "        temp = target - n\n",
    "        if temp not in seen:\n",
    "            seen\n",
    "        else:\n",
    "            output.add((nums.index(n),nums.index(temp)))\n",
    "    print(output)"
   ]
  },
  {
   "cell_type": "code",
   "execution_count": 2,
   "metadata": {},
   "outputs": [
    {
     "name": "stdout",
     "output_type": "stream",
     "text": [
      "{(5, 4), (1, 0)}\n"
     ]
    }
   ],
   "source": [
    "nums = [2,7,11,15,3,6]\n",
    "target = 9\n",
    "twoSum(nums,target)"
   ]
  },
  {
   "cell_type": "code",
   "execution_count": null,
   "metadata": {},
   "outputs": [],
   "source": []
  },
  {
   "cell_type": "code",
   "execution_count": null,
   "metadata": {},
   "outputs": [],
   "source": []
  }
 ],
 "metadata": {
  "kernelspec": {
   "display_name": "Python 3",
   "language": "python",
   "name": "python3"
  },
  "language_info": {
   "codemirror_mode": {
    "name": "ipython",
    "version": 3
   },
   "file_extension": ".py",
   "mimetype": "text/x-python",
   "name": "python",
   "nbconvert_exporter": "python",
   "pygments_lexer": "ipython3",
   "version": "3.7.0"
  }
 },
 "nbformat": 4,
 "nbformat_minor": 2
}
