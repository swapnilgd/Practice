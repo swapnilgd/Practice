{
 "cells": [
  {
   "cell_type": "code",
   "execution_count": 4,
   "metadata": {},
   "outputs": [],
   "source": [
    "def str_compress(s1):\n",
    "    n = len(s1)\n",
    "    i = 1\n",
    "    count = 1\n",
    "    r = \"\"\n",
    "    \n",
    "    while i < n:\n",
    "        if s1[i] == s1[i-1]:\n",
    "            count += 1\n",
    "        else:\n",
    "            r = r + s1[i-1] + str(count)\n",
    "            count = 1\n",
    "        i += 1\n",
    "    r = r + s1[i-1] + str(count)\n",
    "    return r"
   ]
  },
  {
   "cell_type": "code",
   "execution_count": 5,
   "metadata": {},
   "outputs": [
    {
     "data": {
      "text/plain": [
       "'A4B1C7B3D5E1'"
      ]
     },
     "execution_count": 5,
     "metadata": {},
     "output_type": "execute_result"
    }
   ],
   "source": [
    "s1 = 'AAAABCCCCCCCBBBDDDDDE'\n",
    "str_compress(s1)"
   ]
  },
  {
   "cell_type": "code",
   "execution_count": null,
   "metadata": {},
   "outputs": [],
   "source": []
  }
 ],
 "metadata": {
  "kernelspec": {
   "display_name": "Python 3",
   "language": "python",
   "name": "python3"
  },
  "language_info": {
   "codemirror_mode": {
    "name": "ipython",
    "version": 3
   },
   "file_extension": ".py",
   "mimetype": "text/x-python",
   "name": "python",
   "nbconvert_exporter": "python",
   "pygments_lexer": "ipython3",
   "version": "3.7.0"
  }
 },
 "nbformat": 4,
 "nbformat_minor": 2
}
