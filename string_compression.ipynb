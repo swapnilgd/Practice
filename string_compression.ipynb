{
 "cells": [
  {
   "cell_type": "code",
   "execution_count": 9,
   "metadata": {},
   "outputs": [],
   "source": [
    "def test_comp(s):\n",
    "    l = len(s)\n",
    "    r = \"\"\n",
    "    \n",
    "    if l == 0:\n",
    "        return \"\"\n",
    "    if l == 1:\n",
    "        return s+\"1\"\n",
    "    \n",
    "    last = s[0]\n",
    "    cnt = 1\n",
    "    i = 1\n",
    "    \n",
    "    while i < l:\n",
    "        if s[i] == s[i-1]:\n",
    "            cnt += 1\n",
    "        else:\n",
    "            r = r + s[i-1] + str(cnt)\n",
    "            cnt = 1\n",
    "        i += 1\n",
    "    r = r + s[i-1] + str(cnt)\n",
    "    return r\n",
    "    "
   ]
  },
  {
   "cell_type": "code",
   "execution_count": 12,
   "metadata": {},
   "outputs": [
    {
     "data": {
      "text/plain": [
       "'B614b3'"
      ]
     },
     "execution_count": 12,
     "metadata": {},
     "output_type": "execute_result"
    }
   ],
   "source": [
    "test_comp('BBBBBB1111bbb')"
   ]
  },
  {
   "cell_type": "code",
   "execution_count": null,
   "metadata": {},
   "outputs": [],
   "source": []
  }
 ],
 "metadata": {
  "kernelspec": {
   "display_name": "Python 3",
   "language": "python",
   "name": "python3"
  },
  "language_info": {
   "codemirror_mode": {
    "name": "ipython",
    "version": 3
   },
   "file_extension": ".py",
   "mimetype": "text/x-python",
   "name": "python",
   "nbconvert_exporter": "python",
   "pygments_lexer": "ipython3",
   "version": "3.7.0"
  }
 },
 "nbformat": 4,
 "nbformat_minor": 2
}
