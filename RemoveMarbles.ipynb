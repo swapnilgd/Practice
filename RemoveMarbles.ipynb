{
 "cells": [
  {
   "cell_type": "code",
   "execution_count": 8,
   "metadata": {},
   "outputs": [],
   "source": [
    "def removeMarbles(stones):\n",
    "    \n",
    "    out = {}\n",
    "    def find(x):\n",
    "        if x != out[x]:\n",
    "            out[x] = find(out[x])\n",
    "        return out[x]\n",
    "\n",
    "    def union(x,y):\n",
    "        out.setdefault(x,x)\n",
    "        out.setdefault(y,y)\n",
    "        out[find(x)] = find(y)\n",
    "\n",
    "    for i,j in stones:\n",
    "        union(i,~j)\n",
    "    return len(stones) - len({find(x) for x in out})\n"
   ]
  },
  {
   "cell_type": "code",
   "execution_count": 9,
   "metadata": {},
   "outputs": [
    {
     "data": {
      "text/plain": [
       "5"
      ]
     },
     "execution_count": 9,
     "metadata": {},
     "output_type": "execute_result"
    }
   ],
   "source": [
    "stones = [[0,0],\n",
    "          [0,1],\n",
    "          [1,0],\n",
    "          [1,2],\n",
    "          [2,1],\n",
    "          [2,2]]\n",
    "removeMarbles(stones)"
   ]
  },
  {
   "cell_type": "code",
   "execution_count": 38,
   "metadata": {},
   "outputs": [],
   "source": [
    "def removeM(stones):\n",
    "    \n",
    "    out = {}\n",
    "    \n",
    "    def find(x):\n",
    "        if x != out[x]:\n",
    "            out[x] = find(out[x])\n",
    "            print(\"This is find x output\",out[x])\n",
    "        return out[x]\n",
    "    \n",
    "    \n",
    "    def union(x,y):\n",
    "        out.setdefault(x,x)\n",
    "        out.setdefault(y,y)\n",
    "        out[find(x)] = find(y)\n",
    "    \n",
    "    for i,j in stones:\n",
    "        print(i,~j)\n",
    "        union(i,~j)\n",
    "    return len(stones) - len({find(x) for x in out})"
   ]
  },
  {
   "cell_type": "code",
   "execution_count": 39,
   "metadata": {},
   "outputs": [
    {
     "name": "stdout",
     "output_type": "stream",
     "text": [
      "0 -1\n",
      "0 -2\n",
      "This is find x output -1\n",
      "1 -1\n",
      "This is find x output -2\n",
      "1 -3\n",
      "This is find x output -2\n",
      "2 -2\n",
      "This is find x output -3\n",
      "2 -3\n",
      "This is find x output -3\n",
      "This is find x output -3\n",
      "This is find x output -3\n",
      "This is find x output -3\n",
      "This is find x output -3\n",
      "This is find x output -3\n",
      "This is find x output -3\n",
      "This is find x output -3\n",
      "This is find x output -3\n"
     ]
    },
    {
     "data": {
      "text/plain": [
       "5"
      ]
     },
     "execution_count": 39,
     "metadata": {},
     "output_type": "execute_result"
    }
   ],
   "source": [
    "removeM(stones)"
   ]
  },
  {
   "cell_type": "code",
   "execution_count": 17,
   "metadata": {},
   "outputs": [
    {
     "ename": "NameError",
     "evalue": "name 'i' is not defined",
     "output_type": "error",
     "traceback": [
      "\u001b[0;31m---------------------------------------------------------------------------\u001b[0m",
      "\u001b[0;31mNameError\u001b[0m                                 Traceback (most recent call last)",
      "\u001b[0;32m<ipython-input-17-f1e1ec6b0917>\u001b[0m in \u001b[0;36m<module>\u001b[0;34m()\u001b[0m\n\u001b[0;32m----> 1\u001b[0;31m \u001b[0mprint\u001b[0m\u001b[0;34m(\u001b[0m\u001b[0mi\u001b[0m\u001b[0;34m,\u001b[0m\u001b[0;34m~\u001b[0m\u001b[0mj\u001b[0m\u001b[0;34m)\u001b[0m\u001b[0;34m\u001b[0m\u001b[0m\n\u001b[0m",
      "\u001b[0;31mNameError\u001b[0m: name 'i' is not defined"
     ]
    }
   ],
   "source": [
    "print(i,~j)"
   ]
  },
  {
   "cell_type": "code",
   "execution_count": null,
   "metadata": {},
   "outputs": [],
   "source": []
  }
 ],
 "metadata": {
  "kernelspec": {
   "display_name": "Python 3",
   "language": "python",
   "name": "python3"
  },
  "language_info": {
   "codemirror_mode": {
    "name": "ipython",
    "version": 3
   },
   "file_extension": ".py",
   "mimetype": "text/x-python",
   "name": "python",
   "nbconvert_exporter": "python",
   "pygments_lexer": "ipython3",
   "version": "3.7.0"
  }
 },
 "nbformat": 4,
 "nbformat_minor": 2
}
