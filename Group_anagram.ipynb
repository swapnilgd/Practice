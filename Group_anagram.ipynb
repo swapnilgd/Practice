{
 "cells": [
  {
   "cell_type": "code",
   "execution_count": 1,
   "metadata": {},
   "outputs": [],
   "source": [
    "def print_anagrams(arr):\n",
    "    \n",
    "    out = {}\n",
    "        \n",
    "    for str in arr:\n",
    "        key = ''.join(sorted(str))\n",
    "        if key in out:\n",
    "            out.get(key).append(str)\n",
    "        else:\n",
    "            out[key] = [str]\n",
    "    return out.values()"
   ]
  },
  {
   "cell_type": "code",
   "execution_count": 4,
   "metadata": {},
   "outputs": [
    {
     "data": {
      "text/plain": [
       "dict_values([['cat', 'act', 'tac'], ['dog', 'god']])"
      ]
     },
     "execution_count": 4,
     "metadata": {},
     "output_type": "execute_result"
    }
   ],
   "source": [
    "words = [\"cat\",\"dog\",\"act\",\"tac\",\"god\"]\n",
    "print_anagrams(words)"
   ]
  },
  {
   "cell_type": "code",
   "execution_count": 38,
   "metadata": {},
   "outputs": [],
   "source": [
    "def anagrams(arr):\n",
    "    \n",
    "    out = {}\n",
    "    \n",
    "    for word in arr:\n",
    "        key = ''.join(sorted(word))\n",
    "        if key in out:\n",
    "            out.get(key).append(word)\n",
    "        else:\n",
    "            out[key] = [word]\n",
    "    return out.values()"
   ]
  },
  {
   "cell_type": "code",
   "execution_count": 39,
   "metadata": {},
   "outputs": [
    {
     "name": "stdout",
     "output_type": "stream",
     "text": [
      "act\n",
      "dgo\n",
      "act\n",
      "dgo\n",
      "act\n"
     ]
    },
    {
     "data": {
      "text/plain": [
       "dict_values([['cat', 'tac', 'act'], ['dog', 'god']])"
      ]
     },
     "execution_count": 39,
     "metadata": {},
     "output_type": "execute_result"
    }
   ],
   "source": [
    "anagrams(words)"
   ]
  },
  {
   "cell_type": "code",
   "execution_count": 40,
   "metadata": {},
   "outputs": [],
   "source": [
    "def ana(arr):\n",
    "    out = {}\n",
    "    \n",
    "    for word in arr:\n",
    "        key = ''.join(sorted(word))\n",
    "        if key in out:\n",
    "            out.get(key).append(word)\n",
    "        else:\n",
    "            out[key] = [word]\n",
    "    return out.values()"
   ]
  },
  {
   "cell_type": "code",
   "execution_count": null,
   "metadata": {},
   "outputs": [],
   "source": [
    "def gr_an(arr):\n",
    "    out = {}\n",
    "    \n",
    "    for word in arr:\n",
    "        key = ''.join(sorted(word))\n",
    "        if key in out:\n",
    "            out.get(key).append(word)\n",
    "        else:\n",
    "            out[key] = [word]\n",
    "    return out.values()"
   ]
  }
 ],
 "metadata": {
  "kernelspec": {
   "display_name": "Python 3",
   "language": "python",
   "name": "python3"
  },
  "language_info": {
   "codemirror_mode": {
    "name": "ipython",
    "version": 3
   },
   "file_extension": ".py",
   "mimetype": "text/x-python",
   "name": "python",
   "nbconvert_exporter": "python",
   "pygments_lexer": "ipython3",
   "version": "3.7.0"
  }
 },
 "nbformat": 4,
 "nbformat_minor": 2
}
