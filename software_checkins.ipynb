{
 "cells": [
  {
   "cell_type": "code",
   "execution_count": 1,
   "metadata": {},
   "outputs": [],
   "source": [
    "#For a given set of software checkins, \n",
    "#write a program that will determine which part along the branch where the fault lies.  \n",
    "\n",
    "#Binary search\n",
    "\n",
    "def soft_checkins(arr):\n",
    "    low = 1\n",
    "    high = len(arr)\n",
    "        \n",
    "    while low < high:\n",
    "        mid = low + (high-low) // 2\n",
    "        if soft_checkins(mid):\n",
    "            high = mid\n",
    "        else:\n",
    "            low = mid+1\n",
    "    return low"
   ]
  },
  {
   "cell_type": "code",
   "execution_count": null,
   "metadata": {},
   "outputs": [],
   "source": []
  }
 ],
 "metadata": {
  "kernelspec": {
   "display_name": "Python 3",
   "language": "python",
   "name": "python3"
  },
  "language_info": {
   "codemirror_mode": {
    "name": "ipython",
    "version": 3
   },
   "file_extension": ".py",
   "mimetype": "text/x-python",
   "name": "python",
   "nbconvert_exporter": "python",
   "pygments_lexer": "ipython3",
   "version": "3.7.0"
  }
 },
 "nbformat": 4,
 "nbformat_minor": 2
}
