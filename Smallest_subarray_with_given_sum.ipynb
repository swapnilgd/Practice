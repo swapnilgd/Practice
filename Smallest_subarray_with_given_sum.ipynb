{
 "cells": [
  {
   "cell_type": "code",
   "execution_count": 5,
   "metadata": {},
   "outputs": [],
   "source": [
    "# [2, 1, 5, 2, 3, 2], S=7 \n",
    "\n",
    "def smallest_subarray(arr,s):\n",
    "    curMin = len(arr)\n",
    "    winSum = winStart = 0\n",
    "    temp_sum = 0\n",
    "    for i in range(len(arr)):\n",
    "        \n",
    "\n",
    "        winSum += arr[i]\n",
    "        temp_sum += 1\n",
    " ## TBD for correct output           \n",
    "        if winSum >= s and temp_sum <= curMin:\n",
    "            if winSum - arr[winStart] >= s:\n",
    "                winSum -= arr[winStart]\n",
    "                temp_sum -= 1\n",
    "                continue\n",
    "            else:\n",
    "                break\n",
    "            curMin = temp_sum\n",
    "            temp_sum -= 1\n",
    "            winSum -= arr[winStart]\n",
    "            winStart += 1\n",
    "    return curMin\n",
    "            \n"
   ]
  },
  {
   "cell_type": "code",
   "execution_count": 6,
   "metadata": {},
   "outputs": [
    {
     "data": {
      "text/plain": [
       "3"
      ]
     },
     "execution_count": 6,
     "metadata": {},
     "output_type": "execute_result"
    }
   ],
   "source": [
    "arr = [1,1,8]\n",
    "s = 8\n",
    "smallest_subarray(arr,s)"
   ]
  },
  {
   "cell_type": "code",
   "execution_count": null,
   "metadata": {},
   "outputs": [],
   "source": []
  }
 ],
 "metadata": {
  "kernelspec": {
   "display_name": "Python 3",
   "language": "python",
   "name": "python3"
  },
  "language_info": {
   "codemirror_mode": {
    "name": "ipython",
    "version": 3
   },
   "file_extension": ".py",
   "mimetype": "text/x-python",
   "name": "python",
   "nbconvert_exporter": "python",
   "pygments_lexer": "ipython3",
   "version": "3.7.0"
  }
 },
 "nbformat": 4,
 "nbformat_minor": 2
}
