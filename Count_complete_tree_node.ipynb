{
 "cells": [
  {
   "cell_type": "code",
   "execution_count": 15,
   "metadata": {},
   "outputs": [],
   "source": [
    "#Count complete tree nodes in binary tree\n",
    "def coutn_node(root):\n",
    "    \n",
    "    if root:\n",
    "        seen = set()\n",
    "        count = 0\n",
    "        def dfs(node):\n",
    "            if node not in seen:\n",
    "                nonlocal count\n",
    "                count += 1\n",
    "                seen.add(node)\n",
    "            if node.left:\n",
    "                dfs(node.left)\n",
    "            if node.right:\n",
    "                dfs(node.right)\n",
    "            return\n",
    "        dfs(root)\n",
    "        return count\n",
    "    else:\n",
    "        return 0"
   ]
  },
  {
   "cell_type": "code",
   "execution_count": 1,
   "metadata": {},
   "outputs": [],
   "source": [
    "def count_nodes_inBT(root):\n",
    "    \n",
    "    if root:\n",
    "        count = 0\n",
    "        seen = set()\n",
    "        \n",
    "        def dfs(node):\n",
    "            if node not in seen:\n",
    "                nonlocal count\n",
    "                count += 1\n",
    "                seen.add(node)\n",
    "            if node.left:\n",
    "                dfs(node.left)\n",
    "            if node.right:\n",
    "                dfs(node.right)\n",
    "            return\n",
    "        dfs(root)\n",
    "        return count\n",
    "    else:\n",
    "        return 0\n",
    "    \n",
    "    "
   ]
  },
  {
   "cell_type": "code",
   "execution_count": null,
   "metadata": {},
   "outputs": [],
   "source": [
    "def count"
   ]
  }
 ],
 "metadata": {
  "kernelspec": {
   "display_name": "Python 3",
   "language": "python",
   "name": "python3"
  },
  "language_info": {
   "codemirror_mode": {
    "name": "ipython",
    "version": 3
   },
   "file_extension": ".py",
   "mimetype": "text/x-python",
   "name": "python",
   "nbconvert_exporter": "python",
   "pygments_lexer": "ipython3",
   "version": "3.7.0"
  }
 },
 "nbformat": 4,
 "nbformat_minor": 2
}
