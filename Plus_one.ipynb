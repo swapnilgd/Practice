{
 "cells": [
  {
   "cell_type": "code",
   "execution_count": 1,
   "metadata": {},
   "outputs": [],
   "source": [
    "#Plus one\n",
    "\n",
    "def PlusOne(arr):\n",
    "    \n",
    "    num = 0\n",
    "    \n",
    "    for d in arr:\n",
    "        num *= 10\n",
    "        num += d\n",
    "    \n",
    "    num += 1\n",
    "    out = []\n",
    "    \n",
    "    while num:\n",
    "        temp = num%10\n",
    "        num = num//10\n",
    "        out.append(temp)\n",
    "    return out[::-1]\n"
   ]
  },
  {
   "cell_type": "code",
   "execution_count": 2,
   "metadata": {},
   "outputs": [
    {
     "data": {
      "text/plain": [
       "[1, 2, 4]"
      ]
     },
     "execution_count": 2,
     "metadata": {},
     "output_type": "execute_result"
    }
   ],
   "source": [
    "arr = [1,2,3]\n",
    "PlusOne(arr)"
   ]
  },
  {
   "cell_type": "code",
   "execution_count": null,
   "metadata": {},
   "outputs": [],
   "source": [
    "def PlusOne(arr):\n",
    "    \n",
    "    num = 0\n",
    "    \n",
    "    for d in arr:\n",
    "        num *= 10\n",
    "        num += d\n",
    "    \n",
    "    num += 1\n",
    "    out = []\n",
    "    \n",
    "    while num:\n",
    "        temp = num%10\n",
    "        num = num//10\n",
    "        out.append(temp)\n",
    "    return out[::-1]"
   ]
  }
 ],
 "metadata": {
  "kernelspec": {
   "display_name": "Python 3",
   "language": "python",
   "name": "python3"
  },
  "language_info": {
   "codemirror_mode": {
    "name": "ipython",
    "version": 3
   },
   "file_extension": ".py",
   "mimetype": "text/x-python",
   "name": "python",
   "nbconvert_exporter": "python",
   "pygments_lexer": "ipython3",
   "version": "3.7.0"
  }
 },
 "nbformat": 4,
 "nbformat_minor": 2
}
