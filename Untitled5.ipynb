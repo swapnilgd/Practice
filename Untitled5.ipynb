{
 "cells": [
  {
   "cell_type": "code",
   "execution_count": 3,
   "metadata": {},
   "outputs": [],
   "source": [
    "#Moving avg\n",
    "#[1, 3, 2, 6, -1, 4, 1, 8, 2]\n",
    "\n",
    "def moving_avg(arr,k):\n",
    "    win_start = win_sum = 0\n",
    "    n = len(arr)\n",
    "    result = []\n",
    "    \n",
    "    for win_end in range(n):\n",
    "        win_sum += arr[win_end]\n",
    "        if win_end >= k -1:\n",
    "            result.append(win_sum/k)\n",
    "            win_sum -= arr[win_start]\n",
    "            win_start += 1\n",
    "            \n",
    "    return result"
   ]
  },
  {
   "cell_type": "code",
   "execution_count": 4,
   "metadata": {},
   "outputs": [
    {
     "data": {
      "text/plain": [
       "[2.2, 2.8, 2.4, 3.6, 2.8]"
      ]
     },
     "execution_count": 4,
     "metadata": {},
     "output_type": "execute_result"
    }
   ],
   "source": [
    "arr = [1, 3, 2, 6, -1, 4, 1, 8, 2]\n",
    "k = 5\n",
    "moving_avg(arr,k)"
   ]
  },
  {
   "cell_type": "code",
   "execution_count": 5,
   "metadata": {},
   "outputs": [],
   "source": [
    "def M_A(arr,k):\n",
    "    win_start = win_sum = 0\n",
    "    n = len(arr)\n",
    "    result = []\n",
    "    \n",
    "    for win_end in range(n):\n",
    "        win_sum += arr[win_end]\n",
    "        \n",
    "        if win_end >= k - 1:\n",
    "            result.append(win_sum / k)\n",
    "            win_sum -= arr[win_start]\n",
    "            win_start += 1\n",
    "    return result"
   ]
  },
  {
   "cell_type": "code",
   "execution_count": null,
   "metadata": {},
   "outputs": [],
   "source": []
  },
  {
   "cell_type": "code",
   "execution_count": 6,
   "metadata": {},
   "outputs": [],
   "source": [
    "def max_sum(arr,k):\n",
    "    \n",
    "    win_sum = max_sum = 0\n",
    "    \n",
    "    for i in range(len(arr)-k+1):\n",
    "        win_sum = 0\n",
    "        for j in range(i,i+k):\n",
    "            win_sum += arr[j]\n",
    "        max_sum = max(max_sum,win_sum)\n",
    "    return max_sum"
   ]
  },
  {
   "cell_type": "code",
   "execution_count": 7,
   "metadata": {},
   "outputs": [],
   "source": [
    "def m_sum(arr,k):\n",
    "    win_start = win_sum = max_sum = 0\n",
    "    \n",
    "    for win_end in range(len(arr)):\n",
    "        win_sum += arr[win_end]\n",
    "        \n",
    "        if win_end >= k-1:\n",
    "            max_sum = max(max_sum,win_sum)\n",
    "            win_sum -= arr[win_start]\n",
    "            win_start += 1\n",
    "    return max_sum\n",
    "        "
   ]
  },
  {
   "cell_type": "code",
   "execution_count": null,
   "metadata": {},
   "outputs": [],
   "source": [
    "def mov_sum(arr,k):\n",
    "    win_start = win_sum = 0\n",
    "    \n",
    "    for win_end in range(len(arr)):\n",
    "        win_sum += arr[win_end]\n",
    "        \n",
    "        if win_end >= k-1:\n",
    "            max_sum = max(max_sum, win_sum)\n",
    "            win_sum -= arr[win_start]\n",
    "            win_start += 1\n",
    "    return max_sum\n",
    "            "
   ]
  }
 ],
 "metadata": {
  "kernelspec": {
   "display_name": "Python 3",
   "language": "python",
   "name": "python3"
  },
  "language_info": {
   "codemirror_mode": {
    "name": "ipython",
    "version": 3
   },
   "file_extension": ".py",
   "mimetype": "text/x-python",
   "name": "python",
   "nbconvert_exporter": "python",
   "pygments_lexer": "ipython3",
   "version": "3.7.0"
  }
 },
 "nbformat": 4,
 "nbformat_minor": 2
}
