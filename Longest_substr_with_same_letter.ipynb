{
 "cells": [
  {
   "cell_type": "code",
   "execution_count": 6,
   "metadata": {},
   "outputs": [],
   "source": [
    "#Longest Substring with Same Letters after Replacement\n",
    "\n",
    "def longest_substr(str1,k):\n",
    "    \n",
    "    char_map = {}\n",
    "    win_start,max_len, max_repeat_letter_count = 0,0,0\n",
    "    \n",
    "    for win_end in range(len(str1)):\n",
    "        right_char = str1[win_end]\n",
    "        if right_char not in char_map:\n",
    "            char_map[right_char] = 0\n",
    "        char_map[right_char] += 1\n",
    "        print(char_map[right_char])\n",
    "        max_repeat_letter_count = max(max_repeat_letter_count,char_map[right_char])\n",
    "        \n",
    "        if (win_end - win_start+1 - max_repeat_letter_count) > k:\n",
    "            left_char = str1[win_start]\n",
    "            char_map[left_char] -= 1\n",
    "            win_start += 1\n",
    "        max_len = max(max_len, win_end - win_start+1)\n",
    "    return max_len"
   ]
  },
  {
   "cell_type": "code",
   "execution_count": 7,
   "metadata": {},
   "outputs": [
    {
     "name": "stdout",
     "output_type": "stream",
     "text": [
      "1\n",
      "1\n",
      "2\n",
      "1\n",
      "2\n",
      "1\n",
      "2\n",
      "1\n",
      "1\n",
      "1\n"
     ]
    },
    {
     "data": {
      "text/plain": [
       "4"
      ]
     },
     "execution_count": 7,
     "metadata": {},
     "output_type": "execute_result"
    }
   ],
   "source": [
    "str1 = \"abbccaavbd\"\n",
    "k = 2\n",
    "longest_substr(str1,k)"
   ]
  },
  {
   "cell_type": "code",
   "execution_count": null,
   "metadata": {},
   "outputs": [],
   "source": []
  }
 ],
 "metadata": {
  "kernelspec": {
   "display_name": "Python 3",
   "language": "python",
   "name": "python3"
  },
  "language_info": {
   "codemirror_mode": {
    "name": "ipython",
    "version": 3
   },
   "file_extension": ".py",
   "mimetype": "text/x-python",
   "name": "python",
   "nbconvert_exporter": "python",
   "pygments_lexer": "ipython3",
   "version": "3.7.0"
  }
 },
 "nbformat": 4,
 "nbformat_minor": 2
}
