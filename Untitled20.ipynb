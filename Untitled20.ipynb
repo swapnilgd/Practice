{
 "cells": [
  {
   "cell_type": "code",
   "execution_count": 5,
   "metadata": {},
   "outputs": [],
   "source": [
    "def large_sum(num1,num2):\n",
    "    \n",
    "    num1 = num1[::-1]\n",
    "    num2 = num2[::-1]\n",
    "    \n",
    "    l1 = len(num1)\n",
    "    l2 = len(num2)\n",
    "    result = \"\"\n",
    "    my_sum = 0\n",
    "    carry = 0\n",
    "    \n",
    "    if l1 > l2:\n",
    "        temp = l1\n",
    "        l1 = l2\n",
    "        l2 = temp\n",
    "        \n",
    "    for i in range(l1):\n",
    "        my_sum = ((ord(num1[i]) - 48) + ((ord(num2[i]) - 48) + carry))\n",
    "        result += chr((my_sum % 10) + 48)\n",
    "        carry = int(my_sum)//10\n",
    "        \n",
    "    for i in range(l1,l2):\n",
    "        my_sum = ((ord(num2[i]) - 48) + carry)\n",
    "        result += chr((my_sum %10) + 48)\n",
    "        carry = int(my_sum)//10\n",
    "        \n",
    "    if carry:\n",
    "        result += chr(carry)+48\n",
    "    \n",
    "    result = result[::-1]\n",
    "    \n",
    "    return \"\".join(result)\n",
    "    \n",
    "    \n",
    "    "
   ]
  },
  {
   "cell_type": "code",
   "execution_count": 6,
   "metadata": {},
   "outputs": [
    {
     "data": {
      "text/plain": [
       "'235791246790794'"
      ]
     },
     "execution_count": 6,
     "metadata": {},
     "output_type": "execute_result"
    }
   ],
   "source": [
    "num1 = '12345567889923'\n",
    "num2 = '223445678900871'\n",
    "large_sum(num1,num2)"
   ]
  },
  {
   "cell_type": "code",
   "execution_count": null,
   "metadata": {},
   "outputs": [],
   "source": []
  }
 ],
 "metadata": {
  "kernelspec": {
   "display_name": "Python 3",
   "language": "python",
   "name": "python3"
  },
  "language_info": {
   "codemirror_mode": {
    "name": "ipython",
    "version": 3
   },
   "file_extension": ".py",
   "mimetype": "text/x-python",
   "name": "python",
   "nbconvert_exporter": "python",
   "pygments_lexer": "ipython3",
   "version": "3.7.0"
  }
 },
 "nbformat": 4,
 "nbformat_minor": 2
}
