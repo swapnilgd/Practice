{
 "cells": [
  {
   "cell_type": "code",
   "execution_count": 20,
   "metadata": {},
   "outputs": [],
   "source": [
    "class linkedlist2:\n",
    "    def  __init__(self, data):\n",
    "        self.data = data\n",
    "        self.next = None\n"
   ]
  },
  {
   "cell_type": "code",
   "execution_count": 25,
   "metadata": {},
   "outputs": [],
   "source": [
    "def split_ll2(root):\n",
    "    \n",
    "    #print function to print all the nodes\n",
    "    def print_ll(head):\n",
    "    \n",
    "        tmp = head\n",
    "        while(tmp):\n",
    "            print(tmp.data) \n",
    "            tmp = tmp.next\n",
    "        print(\"\\n\")\n",
    "    \n",
    "    #Code to find median\n",
    "    if not root or not root.next:\n",
    "        return None\n",
    "    slow = root\n",
    "    fast = root.next\n",
    "    while(fast and fast.next):\n",
    "        \n",
    "        slow = slow.next\n",
    "        fast = fast.next.next\n",
    "   \n",
    "    l2_head = slow.next\n",
    "    slow.next = None \n",
    "    \n",
    "    \n",
    "    \n",
    "    def rev_recur_2(root):\n",
    "        if not root.next:\n",
    "            return root\n",
    "\n",
    "        curr = rev_recur_2(root.next)\n",
    "        root.next.next = root\n",
    "        root.next = None\n",
    "        return curr\n",
    "        \n",
    "    print_ll(rev_recur_2(root))\n",
    "    print_ll(rev_recur_2(l2_head))\n",
    "    \n"
   ]
  },
  {
   "cell_type": "code",
   "execution_count": 26,
   "metadata": {},
   "outputs": [],
   "source": [
    "a = linkedlist2(10)\n",
    "b = linkedlist2(20)\n",
    "c = linkedlist2(30)\n",
    "d = linkedlist2(40)\n"
   ]
  },
  {
   "cell_type": "code",
   "execution_count": 27,
   "metadata": {},
   "outputs": [],
   "source": [
    "a.next = b\n",
    "b.next = c\n",
    "c.next = d\n"
   ]
  },
  {
   "cell_type": "code",
   "execution_count": 28,
   "metadata": {},
   "outputs": [
    {
     "name": "stdout",
     "output_type": "stream",
     "text": [
      "20\n",
      "10\n",
      "\n",
      "\n",
      "40\n",
      "30\n",
      "\n",
      "\n"
     ]
    }
   ],
   "source": [
    "split_ll2(a)"
   ]
  },
  {
   "cell_type": "code",
   "execution_count": null,
   "metadata": {},
   "outputs": [],
   "source": []
  },
  {
   "cell_type": "code",
   "execution_count": null,
   "metadata": {},
   "outputs": [],
   "source": []
  }
 ],
 "metadata": {
  "kernelspec": {
   "display_name": "Python 3",
   "language": "python",
   "name": "python3"
  },
  "language_info": {
   "codemirror_mode": {
    "name": "ipython",
    "version": 3
   },
   "file_extension": ".py",
   "mimetype": "text/x-python",
   "name": "python",
   "nbconvert_exporter": "python",
   "pygments_lexer": "ipython3",
   "version": "3.7.0"
  }
 },
 "nbformat": 4,
 "nbformat_minor": 2
}
