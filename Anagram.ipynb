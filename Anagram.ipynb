{
 "cells": [
  {
   "cell_type": "code",
   "execution_count": 10,
   "metadata": {},
   "outputs": [],
   "source": [
    "def Anagram(s1,s2):\n",
    "    \n",
    "    if len(s1) != len(s2):\n",
    "        return False\n",
    "    \n",
    "    out = {}\n",
    "    \n",
    "    for char in s1:\n",
    "        if char in out:\n",
    "            out[char] += 1\n",
    "        else:\n",
    "            out[char] = 1\n",
    "    \n",
    "    \n",
    "    for char in s2:\n",
    "        if char in out:\n",
    "            out[char] -= 1\n",
    "        else:\n",
    "            out[char]\n",
    "            \n",
    "    for k in out:\n",
    "        if out[k] != 0:\n",
    "            return False\n",
    "    return True\n"
   ]
  },
  {
   "cell_type": "code",
   "execution_count": 17,
   "metadata": {},
   "outputs": [
    {
     "data": {
      "text/plain": [
       "True"
      ]
     },
     "execution_count": 17,
     "metadata": {},
     "output_type": "execute_result"
    }
   ],
   "source": [
    "s1 = \"aanagrm\"\n",
    "s2 = \"nagaran\"\n",
    "Anagram(s1,s2)\n"
   ]
  },
  {
   "cell_type": "code",
   "execution_count": 18,
   "metadata": {},
   "outputs": [],
   "source": [
    "def Anagram2(s1,s2):\n",
    "    \n",
    "    if len(s1) != len(s2):\n",
    "        return False\n",
    "    \n",
    "    out = {}\n",
    "    \n",
    "    for char in s1:\n",
    "        if char in out:\n",
    "            out[char] += 1\n",
    "        else:\n",
    "            out[char] = 1\n",
    "    for char in s2:\n",
    "        if char in out:\n",
    "            out[char] -= 1\n",
    "        else:\n",
    "            out[char] = 1\n",
    "    \n",
    "    for k in out:\n",
    "        if out[k] != 0:\n",
    "            return False\n",
    "    return True"
   ]
  },
  {
   "cell_type": "code",
   "execution_count": 19,
   "metadata": {},
   "outputs": [
    {
     "data": {
      "text/plain": [
       "True"
      ]
     },
     "execution_count": 19,
     "metadata": {},
     "output_type": "execute_result"
    }
   ],
   "source": [
    "Anagram2(s1,s2)\n"
   ]
  },
  {
   "cell_type": "code",
   "execution_count": null,
   "metadata": {},
   "outputs": [],
   "source": []
  }
 ],
 "metadata": {
  "kernelspec": {
   "display_name": "Python 3",
   "language": "python",
   "name": "python3"
  },
  "language_info": {
   "codemirror_mode": {
    "name": "ipython",
    "version": 3
   },
   "file_extension": ".py",
   "mimetype": "text/x-python",
   "name": "python",
   "nbconvert_exporter": "python",
   "pygments_lexer": "ipython3",
   "version": "3.7.0"
  }
 },
 "nbformat": 4,
 "nbformat_minor": 2
}
