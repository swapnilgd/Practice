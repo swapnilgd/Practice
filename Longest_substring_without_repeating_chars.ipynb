{
 "cells": [
  {
   "cell_type": "code",
   "execution_count": 26,
   "metadata": {},
   "outputs": [],
   "source": [
    "def scantillrepeat(str1):\n",
    "    found = ''\n",
    "    for char in str1:\n",
    "        if not char in found:\n",
    "            found = found + char\n",
    "        else:\n",
    "            break\n",
    "    return found\n",
    "\n",
    "def findlongest(s1):\n",
    "    longestfound = ''\n",
    "    longestfoundlen = 0\n",
    "    for k in range(len(s1)):\n",
    "        candidate = scantillrepeat(s1[k:])\n",
    "        if len(candidate) > longestfoundlen:\n",
    "            longestfound = candidate\n",
    "            longestfoundlen = len(candidate)\n",
    "    return longestfound"
   ]
  },
  {
   "cell_type": "code",
   "execution_count": 27,
   "metadata": {},
   "outputs": [
    {
     "data": {
      "text/plain": [
       "'bcx'"
      ]
     },
     "execution_count": 27,
     "metadata": {},
     "output_type": "execute_result"
    }
   ],
   "source": [
    "s1 = 'abbcx'\n",
    "findlongest(s1)"
   ]
  },
  {
   "cell_type": "code",
   "execution_count": 28,
   "metadata": {},
   "outputs": [],
   "source": [
    "def helper(str1):\n",
    "    found = \"\"\n",
    "    for char in str1:\n",
    "        if char not in found:\n",
    "            found += char\n",
    "        else:\n",
    "            break\n",
    "    return found\n",
    "            \n",
    "def findlong(s1):\n",
    "    n = len(s1)\n",
    "    longestfound = \"\"\n",
    "    longestfoundlen = 0\n",
    "    for k in range(n):\n",
    "        candidate = helper((s1[k:]))\n",
    "        if len(candidate) > longestfoundlen:\n",
    "            longestfound = candidate\n",
    "            longestfoundlen = len(longestfound)\n",
    "    return longestfound"
   ]
  },
  {
   "cell_type": "code",
   "execution_count": 29,
   "metadata": {},
   "outputs": [
    {
     "data": {
      "text/plain": [
       "'bcx'"
      ]
     },
     "execution_count": 29,
     "metadata": {},
     "output_type": "execute_result"
    }
   ],
   "source": [
    "findlong(s1)"
   ]
  },
  {
   "cell_type": "code",
   "execution_count": 30,
   "metadata": {},
   "outputs": [],
   "source": [
    "def helper2(str1):\n",
    "    found = \"\"\n",
    "    for char in str1:\n",
    "        if char not in found:\n",
    "            found += char\n",
    "        else:\n",
    "            break\n",
    "    return found\n",
    "\n",
    "def findlong(s1):\n",
    "    n = len(s1)\n",
    "    longest = \"\"\n",
    "    longestlen = 0\n",
    "    for k in range(n):\n",
    "        candidate = helper2(s1[k:])\n",
    "        if len(candidate) > longestlen:\n",
    "            longest = candidate\n",
    "            longestlen = len(longest)\n",
    "    return longest"
   ]
  },
  {
   "cell_type": "code",
   "execution_count": null,
   "metadata": {},
   "outputs": [],
   "source": [
    "def helper3(str1):\n",
    "    found = \"\"\n",
    "    for char in str1:\n",
    "        if char not in found:\n",
    "            found += char\n",
    "        else:\n",
    "            break\n",
    "    return found\n",
    "\n",
    "def longest_sub_str(s1):\n",
    "    n = len(s1)\n",
    "    lonegst = \"\"\n",
    "    longest_len = 0\n",
    "    for k in range(n):\n",
    "        candidate = helper3(s1[k:])\n",
    "        if len(candidate) > longest_len:\n",
    "            longest = candidate\n",
    "            longest_len = len(longest)\n",
    "    return lonegst"
   ]
  }
 ],
 "metadata": {
  "kernelspec": {
   "display_name": "Python 3",
   "language": "python",
   "name": "python3"
  },
  "language_info": {
   "codemirror_mode": {
    "name": "ipython",
    "version": 3
   },
   "file_extension": ".py",
   "mimetype": "text/x-python",
   "name": "python",
   "nbconvert_exporter": "python",
   "pygments_lexer": "ipython3",
   "version": "3.7.0"
  }
 },
 "nbformat": 4,
 "nbformat_minor": 2
}
