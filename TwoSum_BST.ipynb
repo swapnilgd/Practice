{
 "cells": [
  {
   "cell_type": "code",
   "execution_count": 68,
   "metadata": {},
   "outputs": [],
   "source": [
    "class TreeNode(object):\n",
    "    \n",
    "    def __init__(self,rootObject):\n",
    "        self.val = rootObject\n",
    "        self.left = None\n",
    "        self.right = None"
   ]
  },
  {
   "cell_type": "code",
   "execution_count": 81,
   "metadata": {},
   "outputs": [],
   "source": [
    "def TwoSumBST(root, k):\n",
    "    result = False\n",
    "    if root:\n",
    "        q = [root]\n",
    "        a = set()\n",
    "        while q:\n",
    "            current_node = q.pop(0)\n",
    "            if k - current_node.val in a:\n",
    "                result = True\n",
    "            a.add(current_node.val)\n",
    "            if current_node.right:\n",
    "                q.append(current_node.right)\n",
    "            if current_node.left:\n",
    "                q.append(current_node.left)\n",
    "    return result"
   ]
  },
  {
   "cell_type": "code",
   "execution_count": 85,
   "metadata": {},
   "outputs": [],
   "source": [
    "t = TreeNode(5)\n",
    "t.left = TreeNode(3)\n",
    "t.left.left = TreeNode(2)\n",
    "t.left.right = TreeNode(4)\n",
    "t.right = TreeNode(6)\n",
    "t.right.right = TreeNode(7)\n",
    "k = 9"
   ]
  },
  {
   "cell_type": "code",
   "execution_count": 86,
   "metadata": {},
   "outputs": [
    {
     "data": {
      "text/plain": [
       "True"
      ]
     },
     "execution_count": 86,
     "metadata": {},
     "output_type": "execute_result"
    }
   ],
   "source": [
    "TwoSumBST(t, k)"
   ]
  },
  {
   "cell_type": "code",
   "execution_count": null,
   "metadata": {},
   "outputs": [],
   "source": []
  }
 ],
 "metadata": {
  "kernelspec": {
   "display_name": "Python 3",
   "language": "python",
   "name": "python3"
  },
  "language_info": {
   "codemirror_mode": {
    "name": "ipython",
    "version": 3
   },
   "file_extension": ".py",
   "mimetype": "text/x-python",
   "name": "python",
   "nbconvert_exporter": "python",
   "pygments_lexer": "ipython3",
   "version": "3.7.0"
  }
 },
 "nbformat": 4,
 "nbformat_minor": 2
}
