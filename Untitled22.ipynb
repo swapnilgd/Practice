{
 "cells": [
  {
   "cell_type": "code",
   "execution_count": 57,
   "metadata": {},
   "outputs": [],
   "source": [
    "def backspace(s1,s2):\n",
    "    m = len(s1)\n",
    "    n = len(s2)\n",
    "    out = \"\"\n",
    "    print(m)\n",
    "    for i in range(0,m):\n",
    "        if s1[i] != '#':\n",
    "            out += s1[i]\n",
    "        else:\n",
    "            out = out[:-1]\n",
    "    s1 = out\n",
    "    out = \"\"\n",
    "    print(s1)\n",
    "    for i in range(0,n):\n",
    "        if s2[i] != '#':\n",
    "            out += s2[i]\n",
    "        else:\n",
    "            out = out[:-1]\n",
    "    print(out)\n",
    "    return s1 == out"
   ]
  },
  {
   "cell_type": "code",
   "execution_count": 58,
   "metadata": {},
   "outputs": [
    {
     "name": "stdout",
     "output_type": "stream",
     "text": [
      "5\n",
      "acc\n",
      "acc\n"
     ]
    },
    {
     "data": {
      "text/plain": [
       "True"
      ]
     },
     "execution_count": 58,
     "metadata": {},
     "output_type": "execute_result"
    }
   ],
   "source": [
    "s1 = \"ab#cc\"\n",
    "s2 = \"abb##cc\"\n",
    "backspace(s1,s2)"
   ]
  },
  {
   "cell_type": "code",
   "execution_count": null,
   "metadata": {},
   "outputs": [],
   "source": []
  }
 ],
 "metadata": {
  "kernelspec": {
   "display_name": "Python 3",
   "language": "python",
   "name": "python3"
  },
  "language_info": {
   "codemirror_mode": {
    "name": "ipython",
    "version": 3
   },
   "file_extension": ".py",
   "mimetype": "text/x-python",
   "name": "python",
   "nbconvert_exporter": "python",
   "pygments_lexer": "ipython3",
   "version": "3.7.0"
  }
 },
 "nbformat": 4,
 "nbformat_minor": 2
}
