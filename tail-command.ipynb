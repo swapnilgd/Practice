{
 "cells": [
  {
   "cell_type": "code",
   "execution_count": 16,
   "metadata": {},
   "outputs": [],
   "source": [
    "def tail(fn):\n",
    "    f = open(fn)\n",
    "    while True:\n",
    "        l = f.readline()\n",
    "        if l:\n",
    "            yield l\n",
    "        else:\n",
    "            time.sleep(0.5)\n",
    "    f.close()"
   ]
  },
  {
   "cell_type": "code",
   "execution_count": null,
   "metadata": {},
   "outputs": [],
   "source": [
    "fn = '/tmp/ucs1508.txt'\n",
    "tail(fn)"
   ]
  },
  {
   "cell_type": "code",
   "execution_count": null,
   "metadata": {},
   "outputs": [],
   "source": [
    "\n",
    "######################\n",
    "\n",
    "Use this program and run in Visual studio code\n",
    "\n",
    "#####################\n",
    "\n",
    "\n",
    "#!/usr/bin/python\n",
    "\n",
    "import sys\n",
    "\n",
    "if len(sys.argv) !=3:\n",
    "    print('Usage: tail.py <file> <nlines>')\n",
    "    sys.exit(1)\n",
    "\n",
    "fname, nlines = sys.argv[1:]\n",
    "num_lines = int(nlines)\n",
    "\n",
    "with open(fname) as f:\n",
    "    content = f.read().splitlines()\n",
    "\n",
    "count = len(content)\n",
    "for i in range(count-num_lines,count):\n",
    "    print(content[i])"
   ]
  },
  {
   "cell_type": "code",
   "execution_count": null,
   "metadata": {},
   "outputs": [],
   "source": [
    "fn = '/tmp/ucs1508.txt'\n",
    "nl = 3\n",
    "tail2(fn,nl)"
   ]
  },
  {
   "cell_type": "code",
   "execution_count": null,
   "metadata": {},
   "outputs": [],
   "source": []
  }
 ],
 "metadata": {
  "kernelspec": {
   "display_name": "Python 3",
   "language": "python",
   "name": "python3"
  },
  "language_info": {
   "codemirror_mode": {
    "name": "ipython",
    "version": 3
   },
   "file_extension": ".py",
   "mimetype": "text/x-python",
   "name": "python",
   "nbconvert_exporter": "python",
   "pygments_lexer": "ipython3",
   "version": "3.7.0"
  }
 },
 "nbformat": 4,
 "nbformat_minor": 2
}
