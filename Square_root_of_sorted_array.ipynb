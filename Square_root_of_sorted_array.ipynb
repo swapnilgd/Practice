{
 "cells": [
  {
   "cell_type": "code",
   "execution_count": 1,
   "metadata": {},
   "outputs": [],
   "source": [
    "def square_sorted(arr):\n",
    "    \n",
    "    result = []\n",
    "    \n",
    "    for i in arr:\n",
    "        result.append(i*i)\n",
    "    return sorted(result)\n",
    "    "
   ]
  },
  {
   "cell_type": "code",
   "execution_count": 3,
   "metadata": {},
   "outputs": [
    {
     "data": {
      "text/plain": [
       "[16, 36, 81, 484]"
      ]
     },
     "execution_count": 3,
     "metadata": {},
     "output_type": "execute_result"
    }
   ],
   "source": [
    "arr = [-22,4,-6,9]\n",
    "square_sorted(arr)"
   ]
  },
  {
   "cell_type": "code",
   "execution_count": 7,
   "metadata": {},
   "outputs": [],
   "source": [
    "def sq_sorted(arr):\n",
    "    n = len(arr)\n",
    "    j = 0\n",
    "    i = 0\n",
    "    while j < n and arr[j] < 0:\n",
    "        j += 1\n",
    "    i = j - 1\n",
    "    \n",
    "    ans = []\n",
    "    \n",
    "    while 0 <= i and j < n:\n",
    "        if arr[i]**2 < arr[j]**2:\n",
    "            ans.append(arr[i]**2)\n",
    "            i -= 1\n",
    "        else:\n",
    "            ans.append(arr[j]**2)\n",
    "            j += 1\n",
    "            \n",
    "    while i >= 0:\n",
    "        ans.append(arr[i]**2)\n",
    "        i -= 1\n",
    "    while j < n:\n",
    "        ans.append(arr[j]**2)\n",
    "        j += 1\n",
    "    return ans\n",
    "\n",
    "            \n",
    "        "
   ]
  },
  {
   "cell_type": "code",
   "execution_count": 8,
   "metadata": {},
   "outputs": [
    {
     "data": {
      "text/plain": [
       "[16, 36, 81, 484]"
      ]
     },
     "execution_count": 8,
     "metadata": {},
     "output_type": "execute_result"
    }
   ],
   "source": [
    "arr = [-22,4,-6,9]\n",
    "sq_sorted(arr)"
   ]
  },
  {
   "cell_type": "code",
   "execution_count": null,
   "metadata": {},
   "outputs": [],
   "source": []
  }
 ],
 "metadata": {
  "kernelspec": {
   "display_name": "Python 3",
   "language": "python",
   "name": "python3"
  },
  "language_info": {
   "codemirror_mode": {
    "name": "ipython",
    "version": 3
   },
   "file_extension": ".py",
   "mimetype": "text/x-python",
   "name": "python",
   "nbconvert_exporter": "python",
   "pygments_lexer": "ipython3",
   "version": "3.7.0"
  }
 },
 "nbformat": 4,
 "nbformat_minor": 2
}
