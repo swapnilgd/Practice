{
 "cells": [
  {
   "cell_type": "code",
   "execution_count": null,
   "metadata": {},
   "outputs": [],
   "source": [
    "#nested list weight sum\n",
    "\n",
    "def depthSum(self, nestedList, depth=1):\n",
    "    \"\"\"\n",
    "    :type nestedList: List[NestedInteger]\n",
    "    :rtype: int\n",
    "    \"\"\"\n",
    "    total = 0\n",
    "    for i in nestedList:\n",
    "        if i.isInteger():\n",
    "            total += depth * i.getInteger()\n",
    "        else:\n",
    "            total +=  self.depthSum(i.getList(), depth + 1)\n",
    "\n",
    "    return total"
   ]
  }
 ],
 "metadata": {
  "kernelspec": {
   "display_name": "Python 3",
   "language": "python",
   "name": "python3"
  },
  "language_info": {
   "codemirror_mode": {
    "name": "ipython",
    "version": 3
   },
   "file_extension": ".py",
   "mimetype": "text/x-python",
   "name": "python",
   "nbconvert_exporter": "python",
   "pygments_lexer": "ipython3",
   "version": "3.7.0"
  }
 },
 "nbformat": 4,
 "nbformat_minor": 2
}
