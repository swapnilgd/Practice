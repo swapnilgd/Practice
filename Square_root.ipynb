{
 "cells": [
  {
   "cell_type": "code",
   "execution_count": 1,
   "metadata": {},
   "outputs": [],
   "source": [
    "#Find square root of number\n",
    "#Bianry Search\n",
    "\n",
    "def mySqrt(x):\n",
    "    if x <= 1:\n",
    "        return x\n",
    "    return sqrt(1,x,x)\n",
    "    \n",
    "def sqrt(low, high, x):\n",
    "    answer = -1\n",
    "    while low <= high:\n",
    "        mid = low + (high-low)//2\n",
    "        y = mid*mid\n",
    "        if y == x:\n",
    "            answer = mid\n",
    "            break\n",
    "        elif y > x:\n",
    "            high = mid - 1\n",
    "        else:\n",
    "            answer = mid\n",
    "            low = mid + 1\n",
    "    return answer"
   ]
  },
  {
   "cell_type": "code",
   "execution_count": null,
   "metadata": {},
   "outputs": [],
   "source": []
  }
 ],
 "metadata": {
  "kernelspec": {
   "display_name": "Python 3",
   "language": "python",
   "name": "python3"
  },
  "language_info": {
   "codemirror_mode": {
    "name": "ipython",
    "version": 3
   },
   "file_extension": ".py",
   "mimetype": "text/x-python",
   "name": "python",
   "nbconvert_exporter": "python",
   "pygments_lexer": "ipython3",
   "version": "3.7.0"
  }
 },
 "nbformat": 4,
 "nbformat_minor": 2
}
