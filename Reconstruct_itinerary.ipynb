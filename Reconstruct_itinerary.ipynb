{
 "cells": [
  {
   "cell_type": "code",
   "execution_count": 3,
   "metadata": {},
   "outputs": [],
   "source": [
    "import collections\n",
    "def itenrary(tickets):\n",
    "    \n",
    "    target = collections.defaultdict(list)\n",
    "    \n",
    "    for a,b in sorted(tickets)[::-1]:\n",
    "        target[a] += b,\n",
    "    route = []\n",
    "    \n",
    "    def visit(airport):\n",
    "        while target[airport]:\n",
    "            visit(target[airport].pop())\n",
    "        route.append(airport)\n",
    "    visit('JFK')\n",
    "    return route[::-1]"
   ]
  },
  {
   "cell_type": "code",
   "execution_count": 4,
   "metadata": {},
   "outputs": [
    {
     "data": {
      "text/plain": [
       "['JFK', 'MUC', 'LHR', 'SFO', 'SJC']"
      ]
     },
     "execution_count": 4,
     "metadata": {},
     "output_type": "execute_result"
    }
   ],
   "source": [
    "tickets = [[\"MUC\",\"LHR\"],[\"JFK\",\"MUC\"],[\"SFO\",\"SJC\"],[\"LHR\",\"SFO\"]]\n",
    "itenrary(tickets)"
   ]
  },
  {
   "cell_type": "code",
   "execution_count": 5,
   "metadata": {},
   "outputs": [],
   "source": [
    "import collections\n",
    "def Itinerary(tickets):\n",
    "    target = collections.defaultdict(list)\n",
    "    for a,b in sorted(tickets)[::-1]:\n",
    "        target[a] += b,\n",
    "    route = []\n",
    "    \n",
    "    def visit(airport):\n",
    "        while target[airport]:\n",
    "            visit(target[airport].pop())\n",
    "        route.append(airport)\n",
    "    visit('JFK')\n",
    "    return route[::-1]\n"
   ]
  },
  {
   "cell_type": "code",
   "execution_count": null,
   "metadata": {},
   "outputs": [],
   "source": [
    "def itinerary(tickets):\n",
    "    target = collections.defaultdict(list)\n",
    "    \n",
    "    for a,b in sorted(tickets)[::-1]:\n",
    "        target[a] += b,\n",
    "    route = []\n",
    "    \n",
    "    def visit(airport):\n",
    "        while target[airport]:\n",
    "            visit(target[airport].pop())\n",
    "        route.append(airport)\n",
    "    visit('JFK')\n",
    "    return route[::-1]"
   ]
  }
 ],
 "metadata": {
  "kernelspec": {
   "display_name": "Python 3",
   "language": "python",
   "name": "python3"
  },
  "language_info": {
   "codemirror_mode": {
    "name": "ipython",
    "version": 3
   },
   "file_extension": ".py",
   "mimetype": "text/x-python",
   "name": "python",
   "nbconvert_exporter": "python",
   "pygments_lexer": "ipython3",
   "version": "3.7.0"
  }
 },
 "nbformat": 4,
 "nbformat_minor": 2
}
