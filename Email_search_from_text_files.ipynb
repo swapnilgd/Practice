{
 "cells": [
  {
   "cell_type": "code",
   "execution_count": 1,
   "metadata": {},
   "outputs": [],
   "source": [
    "## Email\n",
    "\n",
    "#####  http://code.activestate.com/recipes/138889-extract-email-addresses-from-files/\n",
    "\n",
    "\n",
    "def grab_email(files = []):\n",
    "    # if passed a list of text files, will return a list of\n",
    "    # email addresses found in the files, matched according to\n",
    "    # basic address conventions. Note: supports most possible\n",
    "    # names, but not all valid ones.\n",
    "    \n",
    "    found = []\n",
    "    if files != None:\n",
    "        mailsrch = re.compile(r'[\\w]+[\\-]*@[\\w][\\w\\.]+[a-z]{2,3}')\n",
    "        \n",
    "        for file in files:            \n",
    "            for line in open(file,'r'):                \n",
    "                found.extend(mailsrch.findall(line))    \n",
    "\n",
    "    # remove duplicate elements\n",
    "    # borrowed from Tim Peters' algorithm on ASPN Cookbook\n",
    "    u = {}\n",
    "    for item in found:\n",
    "        u[item] = 1\n",
    "\n",
    "    # return list of unique email addresses\n",
    "    return u.keys()"
   ]
  },
  {
   "cell_type": "code",
   "execution_count": 2,
   "metadata": {},
   "outputs": [],
   "source": [
    "def find_email(files):\n",
    "    found = []\n",
    "    \n",
    "    if files != None:\n",
    "        mail_search = re.compile(r'[\\w]+[\\-]*[\\w]+\\@[\\w]+\\.[a-z]{2,3}')\n",
    "        \n",
    "        for file in files:\n",
    "            for line in file(open,'r'):\n",
    "                found.extend(mail_search.findall(line))\n",
    "    u = {}\n",
    "    \n",
    "    for item in found:\n",
    "        u[item] = 1\n",
    "    return u.keys()\n",
    "        "
   ]
  },
  {
   "cell_type": "code",
   "execution_count": null,
   "metadata": {},
   "outputs": [],
   "source": [
    "import re\n",
    "\n",
    "def search_email(files):\n",
    "    found = []\n",
    "    if files != None:\n",
    "        mail_find = re.compile(r'----regex-------here')\n",
    "        for file in files:\n",
    "            for line in file(open,'r'):\n",
    "                found.extend(mail_find.findall(line))\n",
    "    u = {}\n",
    "    for item in found:\n",
    "        u[item] = 1\n",
    "    return u.keys()"
   ]
  }
 ],
 "metadata": {
  "kernelspec": {
   "display_name": "Python 3",
   "language": "python",
   "name": "python3"
  },
  "language_info": {
   "codemirror_mode": {
    "name": "ipython",
    "version": 3
   },
   "file_extension": ".py",
   "mimetype": "text/x-python",
   "name": "python",
   "nbconvert_exporter": "python",
   "pygments_lexer": "ipython3",
   "version": "3.7.0"
  }
 },
 "nbformat": 4,
 "nbformat_minor": 2
}
