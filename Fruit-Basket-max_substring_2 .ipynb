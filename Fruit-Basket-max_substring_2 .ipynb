{
 "cells": [
  {
   "cell_type": "code",
   "execution_count": 1,
   "metadata": {},
   "outputs": [
    {
     "data": {
      "text/plain": [
       "'\\nclass Solution(object):\\n    def lengthOfLongestSubstringTwoDistinct(self, s):\\n        \"\"\"\\n        :type s: str\\n        :rtype: int\\n        \"\"\"\\n        left, longest, d = 0, 0, {}\\n        maximum_distinct = 2\\n        for index, char in list(enumerate(s)):\\n            d[char] = index\\n            if len(d.keys()) == maximum_distinct + 1:\\n                index_to_remove = min([d[char] for char in d.keys()])\\n                d.pop(s[index_to_remove], None)\\n                left = index_to_remove + 1\\n            longest = max(longest, index - left + 1)\\n        return longest\\n                \\n'"
      ]
     },
     "execution_count": 1,
     "metadata": {},
     "output_type": "execute_result"
    }
   ],
   "source": [
    "'''\n",
    "class Solution(object):\n",
    "    def lengthOfLongestSubstringTwoDistinct(self, s):\n",
    "        \"\"\"\n",
    "        :type s: str\n",
    "        :rtype: int\n",
    "        \"\"\"\n",
    "        left, longest, d = 0, 0, {}\n",
    "        maximum_distinct = 2\n",
    "        for index, char in list(enumerate(s)):\n",
    "            d[char] = index\n",
    "            if len(d.keys()) == maximum_distinct + 1:\n",
    "                index_to_remove = min([d[char] for char in d.keys()])\n",
    "                d.pop(s[index_to_remove], None)\n",
    "                left = index_to_remove + 1\n",
    "            longest = max(longest, index - left + 1)\n",
    "        return longest\n",
    "                \n",
    "'''"
   ]
  },
  {
   "cell_type": "code",
   "execution_count": 37,
   "metadata": {},
   "outputs": [],
   "source": [
    "def longest_substr(str1):\n",
    "    \n",
    "    max_distinct = 2\n",
    "    out = {}\n",
    "    longest = left = 0\n",
    "    \n",
    "    for index,char in list(enumerate(str1)):\n",
    "        out[char] = index\n",
    "        if len(out.keys()) == max_distinct + 1:\n",
    "            index_to_remove = min([out[char] for char in out.keys()])\n",
    "            out.pop(str1[index_to_remove])\n",
    "            left = index_to_remove + 1\n",
    "            \n",
    "        longest = max(longest,index - left + 1)\n",
    "    return longest\n",
    "        \n",
    "    \n",
    " "
   ]
  },
  {
   "cell_type": "code",
   "execution_count": 42,
   "metadata": {},
   "outputs": [
    {
     "data": {
      "text/plain": [
       "3"
      ]
     },
     "execution_count": 42,
     "metadata": {},
     "output_type": "execute_result"
    }
   ],
   "source": [
    "str1 = \"ecebae\"\n",
    "longest_substr(str1)"
   ]
  },
  {
   "cell_type": "code",
   "execution_count": 39,
   "metadata": {},
   "outputs": [],
   "source": [
    "def fruit_basket(tree,basket):\n",
    "    \n",
    "    out = {}\n",
    "    longest = left = 0\n",
    "    \n",
    "    for index,fruit in list(enumerate(tree)):\n",
    "        out[fruit] = index\n",
    "        if len(out.keys()) == basket + 1:\n",
    "            index_to_remove = min([out[fruit] for fruit in out.keys()])\n",
    "            out.pop(tree[index_to_remove])\n",
    "            left = index_to_remove + 1\n",
    "        longest = max(longest, index - left + 1)\n",
    "    return longest"
   ]
  },
  {
   "cell_type": "code",
   "execution_count": 40,
   "metadata": {},
   "outputs": [
    {
     "data": {
      "text/plain": [
       "4"
      ]
     },
     "execution_count": 40,
     "metadata": {},
     "output_type": "execute_result"
    }
   ],
   "source": [
    "tree = [1,2,3,2,3]\n",
    "basket = 2\n",
    "fruit_basket(tree,basket)"
   ]
  },
  {
   "cell_type": "code",
   "execution_count": null,
   "metadata": {},
   "outputs": [],
   "source": [
    "for index,fruit in list(enumerate(tree)):\n",
    "    out[fruit] = index\n",
    "    if len(out.keys()) == basket +1:\n",
    "        index_to_remove = min([out[fruit] for fruit in out.keys()])\n",
    "        out.pop(tree[index_to_remove])\n",
    "        left = index_to_remove + 1\n",
    "    longest = max(lon)"
   ]
  }
 ],
 "metadata": {
  "kernelspec": {
   "display_name": "Python 3",
   "language": "python",
   "name": "python3"
  },
  "language_info": {
   "codemirror_mode": {
    "name": "ipython",
    "version": 3
   },
   "file_extension": ".py",
   "mimetype": "text/x-python",
   "name": "python",
   "nbconvert_exporter": "python",
   "pygments_lexer": "ipython3",
   "version": "3.7.0"
  }
 },
 "nbformat": 4,
 "nbformat_minor": 2
}
