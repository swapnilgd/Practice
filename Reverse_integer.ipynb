{
 "cells": [
  {
   "cell_type": "code",
   "execution_count": 1,
   "metadata": {},
   "outputs": [],
   "source": [
    "def reverse_integer(x):\n",
    "    \n",
    "    s = str(x)\n",
    "    if s[0] == '-':\n",
    "        res = int('-' + s[1:][::-1])\n",
    "    else:\n",
    "        res = int(s[::-1])\n",
    "    \n",
    "    if -2**31 <= res <= 2**31:\n",
    "        return res\n",
    "    else:\n",
    "        return 0"
   ]
  },
  {
   "cell_type": "code",
   "execution_count": 4,
   "metadata": {},
   "outputs": [
    {
     "data": {
      "text/plain": [
       "12"
      ]
     },
     "execution_count": 4,
     "metadata": {},
     "output_type": "execute_result"
    }
   ],
   "source": [
    "x = 210\n",
    "reverse_integer(x)"
   ]
  },
  {
   "cell_type": "code",
   "execution_count": null,
   "metadata": {},
   "outputs": [],
   "source": [
    "def reverse_i(x):\n",
    "    s = str(x)\n",
    "    \n",
    "    if s[0] == '-':\n",
    "        res = int('-' + s[1:][::-1])\n",
    "    else:\n",
    "        res = int(s[::-1])\n",
    "    \n",
    "    if -2**31 <= res <= 2**31:\n",
    "        return res\n",
    "    else:\n",
    "        return 0"
   ]
  }
 ],
 "metadata": {
  "kernelspec": {
   "display_name": "Python 3",
   "language": "python",
   "name": "python3"
  },
  "language_info": {
   "codemirror_mode": {
    "name": "ipython",
    "version": 3
   },
   "file_extension": ".py",
   "mimetype": "text/x-python",
   "name": "python",
   "nbconvert_exporter": "python",
   "pygments_lexer": "ipython3",
   "version": "3.7.0"
  }
 },
 "nbformat": 4,
 "nbformat_minor": 2
}
