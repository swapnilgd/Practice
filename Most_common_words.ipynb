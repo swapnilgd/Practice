{
 "cells": [
  {
   "cell_type": "code",
   "execution_count": 12,
   "metadata": {},
   "outputs": [],
   "source": [
    "# Find most common words from paragraph\n",
    "import collections\n",
    "\n",
    "def most_frequent(data_set):\n",
    "    split_it = data_set.split()\n",
    "    \n",
    "    Counter = collections.Counter(split_it)\n",
    "    \n",
    "    most_occur = Counter.most_common(4)\n",
    "    print(most_occur)\n",
    "    "
   ]
  },
  {
   "cell_type": "code",
   "execution_count": 13,
   "metadata": {},
   "outputs": [
    {
     "name": "stdout",
     "output_type": "stream",
     "text": [
      "[('well', 3), ('to', 2), ('Welcome', 1), ('the', 1)]\n"
     ]
    }
   ],
   "source": [
    "data_set = \"Welcome to the world of Geeks This portal has been created to provide well written well thought and well explained solutions for selected question\"\n",
    "most_frequent(data_set)"
   ]
  },
  {
   "cell_type": "code",
   "execution_count": null,
   "metadata": {},
   "outputs": [],
   "source": []
  }
 ],
 "metadata": {
  "kernelspec": {
   "display_name": "Python 3",
   "language": "python",
   "name": "python3"
  },
  "language_info": {
   "codemirror_mode": {
    "name": "ipython",
    "version": 3
   },
   "file_extension": ".py",
   "mimetype": "text/x-python",
   "name": "python",
   "nbconvert_exporter": "python",
   "pygments_lexer": "ipython3",
   "version": "3.7.0"
  }
 },
 "nbformat": 4,
 "nbformat_minor": 2
}
