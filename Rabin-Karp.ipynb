{
 "cells": [
  {
   "cell_type": "code",
   "execution_count": 9,
   "metadata": {},
   "outputs": [],
   "source": [
    "def rabin_karp(needle, haystack):    \n",
    "\n",
    "    key = sum(map(ord, needle))\n",
    "    \n",
    "    n = len(needle)\n",
    "\n",
    "    current_hash = 0\n",
    "\n",
    "    # start position for current array\n",
    "    j   = -n\n",
    "\n",
    "    h = list(map(ord, haystack))\n",
    "    print(h)\n",
    "\n",
    "    for i in range(len(haystack)):\n",
    "        \n",
    "        current_hash += h[i]\n",
    "        \n",
    "        # correct hash if we're in the positive region\n",
    "        # remove first char from the hash \n",
    "        if j >= 0:\n",
    "            current_hash -= h[j]\n",
    "\n",
    "        # update end-of-hash position\n",
    "        j += 1\n",
    "\n",
    "        # compare hash of substring, needle\n",
    "        if current_hash == key:\n",
    "            if haystack[j:i+1] == needle:\n",
    "                return j\n",
    "\n",
    "    return -1"
   ]
  },
  {
   "cell_type": "code",
   "execution_count": 8,
   "metadata": {},
   "outputs": [
    {
     "name": "stdout",
     "output_type": "stream",
     "text": [
      "[97, 98, 101, 100, 97, 98, 99]\n"
     ]
    },
    {
     "data": {
      "text/plain": [
       "4"
      ]
     },
     "execution_count": 8,
     "metadata": {},
     "output_type": "execute_result"
    }
   ],
   "source": [
    "haystack = 'abedabc'\n",
    "needle = 'abc'\n",
    "rabin_karp(needle,haystack)"
   ]
  },
  {
   "cell_type": "code",
   "execution_count": null,
   "metadata": {},
   "outputs": [],
   "source": []
  }
 ],
 "metadata": {
  "kernelspec": {
   "display_name": "Python 3",
   "language": "python",
   "name": "python3"
  },
  "language_info": {
   "codemirror_mode": {
    "name": "ipython",
    "version": 3
   },
   "file_extension": ".py",
   "mimetype": "text/x-python",
   "name": "python",
   "nbconvert_exporter": "python",
   "pygments_lexer": "ipython3",
   "version": "3.7.0"
  }
 },
 "nbformat": 4,
 "nbformat_minor": 2
}
