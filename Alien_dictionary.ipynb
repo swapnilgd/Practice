{
 "cells": [
  {
   "cell_type": "code",
   "execution_count": 2,
   "metadata": {},
   "outputs": [],
   "source": [
    "def alien_dictionary(words,order):\n",
    "    order_index = {c: i  for i,c in enumerate(order)}\n",
    "    \n",
    "    for i in range(len(words)-1):\n",
    "        word1 = words[i]\n",
    "        word2 = words[i+1]\n",
    "        \n",
    "        for k in range(min(len(word1), len(word2))):\n",
    "            if word1[k] != word2[k]:\n",
    "                if order_index[word1[k]] > order_index[word2[k]]:\n",
    "                    return False\n",
    "                break\n",
    "        else:\n",
    "            if len(word1) > len(word2):\n",
    "                return False\n",
    "    return True\n",
    "        "
   ]
  },
  {
   "cell_type": "code",
   "execution_count": 3,
   "metadata": {},
   "outputs": [
    {
     "data": {
      "text/plain": [
       "True"
      ]
     },
     "execution_count": 3,
     "metadata": {},
     "output_type": "execute_result"
    }
   ],
   "source": [
    "words = [\"hello\",\"leetcode\"]\n",
    "order = \"hlabcdefgijkmnopqrstuvwxyz\"\n",
    "alien_dictionary(words,order)"
   ]
  },
  {
   "cell_type": "code",
   "execution_count": 11,
   "metadata": {},
   "outputs": [],
   "source": [
    "def A_D(words,order):\n",
    "    order_in = {c: i for i,c in enumerate(order)}\n",
    "    \n",
    "    for i in range(len(words)-1):\n",
    "        word1 = words[i]\n",
    "        word2 = words[i+1]\n",
    "        \n",
    "        for k in range(min(len(word1),len(word2))):\n",
    "            if word1[k] != word2[k]:\n",
    "                if order_in[word1[k]] > order_in[word2[k]]:\n",
    "                    return False\n",
    "                break\n",
    "        else:\n",
    "            if len(word1) > len(word2):\n",
    "                return False\n",
    "    return True"
   ]
  },
  {
   "cell_type": "code",
   "execution_count": 1,
   "metadata": {},
   "outputs": [],
   "source": [
    "def alien_d(words,order):\n",
    "    order_ind = {c: i for i,c in enumerate(order)}\n",
    "    \n",
    "    for i in range(len(words)-1):\n",
    "        word1 = words[i]\n",
    "        word2 = words[i+1]\n",
    "        \n",
    "        for k in range(min(len(word1),len(word2))):\n",
    "            if word1[k] != word2[k]:\n",
    "                if order_ind[word1[k]] > order_ind[word2[k]]:\n",
    "                    return False\n",
    "                break\n",
    "                \n",
    "        else:\n",
    "            \n",
    "            if len(word1) > len(word2):\n",
    "                return False\n",
    "    return True"
   ]
  }
 ],
 "metadata": {
  "kernelspec": {
   "display_name": "Python 3",
   "language": "python",
   "name": "python3"
  },
  "language_info": {
   "codemirror_mode": {
    "name": "ipython",
    "version": 3
   },
   "file_extension": ".py",
   "mimetype": "text/x-python",
   "name": "python",
   "nbconvert_exporter": "python",
   "pygments_lexer": "ipython3",
   "version": "3.7.0"
  }
 },
 "nbformat": 4,
 "nbformat_minor": 2
}
