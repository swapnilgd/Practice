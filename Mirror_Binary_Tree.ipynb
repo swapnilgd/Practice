{
 "cells": [
  {
   "cell_type": "code",
   "execution_count": 1,
   "metadata": {},
   "outputs": [],
   "source": [
    "# Mirror of binary tree\n",
    "\n",
    "def isSymmetric(self, root):\n",
    "    def isSym(L,R):\n",
    "        if L and R and L.val == R.val: \n",
    "            return isSym(L.left, R.right) and isSym(L.right, R.left)\n",
    "        return L == R\n",
    "    return not root or isSym(root.left, root.right)"
   ]
  },
  {
   "cell_type": "code",
   "execution_count": 2,
   "metadata": {},
   "outputs": [],
   "source": [
    "def isSymmetric(self, root):\n",
    "    def isSym(L,R):\n",
    "        if L and R and L.val == R.val:\n",
    "            return isSym(L.left,R.right) and isSym(L.right,R.left)\n",
    "        return L == R\n",
    "    return not root or isSym(root.left, root.right)"
   ]
  },
  {
   "cell_type": "code",
   "execution_count": null,
   "metadata": {},
   "outputs": [],
   "source": [
    "def isSymmetric(self, root):\n",
    "    def isSym(L,R):\n",
    "        if L and R and L.val == R.val:\n",
    "            return isSym(L.left,R.right) and isSym(L.right,R.left)\n",
    "        return L == R\n",
    "    return not root or isSym(root.left, root.right)"
   ]
  }
 ],
 "metadata": {
  "kernelspec": {
   "display_name": "Python 3",
   "language": "python",
   "name": "python3"
  },
  "language_info": {
   "codemirror_mode": {
    "name": "ipython",
    "version": 3
   },
   "file_extension": ".py",
   "mimetype": "text/x-python",
   "name": "python",
   "nbconvert_exporter": "python",
   "pygments_lexer": "ipython3",
   "version": "3.7.0"
  }
 },
 "nbformat": 4,
 "nbformat_minor": 2
}
