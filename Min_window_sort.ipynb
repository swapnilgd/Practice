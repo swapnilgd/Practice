{
 "cells": [
  {
   "cell_type": "code",
   "execution_count": 5,
   "metadata": {},
   "outputs": [],
   "source": [
    "#Minimum window sort\n",
    "\n",
    "def min_window_sort(arr):\n",
    "    low, high = 0, len(arr)-1\n",
    "    \n",
    "    while low <= len(arr)-1 and arr[low] <= arr[low + 1]:\n",
    "        low += 1\n",
    "        \n",
    "    if low == len(arr)-1:\n",
    "        return 0\n",
    "    \n",
    "    \n",
    "    while high > 0 and arr[high] >= arr[high - 1]:\n",
    "        high -= 1\n",
    "        \n",
    "    arr_max = max(arr[low:high+1])\n",
    "    arr_min = min(arr[low:high+1])\n",
    "    \n",
    "    while low > 0 and arr[low -1] > arr_min:\n",
    "        low -= 1\n",
    "        \n",
    "    while high < len(arr)-1 and arr[high +1] < arr_max:\n",
    "        high += 1\n",
    "        \n",
    "    \n",
    "    return high - low + 1\n",
    "\n"
   ]
  },
  {
   "cell_type": "code",
   "execution_count": 4,
   "metadata": {},
   "outputs": [
    {
     "data": {
      "text/plain": [
       "6"
      ]
     },
     "execution_count": 4,
     "metadata": {},
     "output_type": "execute_result"
    }
   ],
   "source": [
    "arr = [1,2,5,6,3,7,10,9,12]\n",
    "min_window_sort(arr)"
   ]
  },
  {
   "cell_type": "code",
   "execution_count": null,
   "metadata": {},
   "outputs": [],
   "source": []
  }
 ],
 "metadata": {
  "kernelspec": {
   "display_name": "Python 3",
   "language": "python",
   "name": "python3"
  },
  "language_info": {
   "codemirror_mode": {
    "name": "ipython",
    "version": 3
   },
   "file_extension": ".py",
   "mimetype": "text/x-python",
   "name": "python",
   "nbconvert_exporter": "python",
   "pygments_lexer": "ipython3",
   "version": "3.7.0"
  }
 },
 "nbformat": 4,
 "nbformat_minor": 2
}
