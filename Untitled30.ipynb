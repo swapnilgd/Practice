{
 "cells": [
  {
   "cell_type": "code",
   "execution_count": 10,
   "metadata": {},
   "outputs": [],
   "source": [
    "def longest_palindrome(s1):\n",
    "    res = \"\"\n",
    "    for i in range(len(s1)):\n",
    "        temp = helper(s1,i,i)\n",
    "        if len(temp) > len(res):\n",
    "            res = temp\n",
    "        temp = helper(s1,i,i+1)\n",
    "        if len(temp) > len(res):\n",
    "            res = temp\n",
    "        \n",
    "    return res\n",
    "        \n",
    "\n",
    "def helper(s1,l,r):\n",
    "    while l >= 0 and r < len(s1) and s1[l] == s1[r]:\n",
    "        l -= 1\n",
    "        r += 1\n",
    "    return s1[l+1:r]"
   ]
  },
  {
   "cell_type": "code",
   "execution_count": null,
   "metadata": {},
   "outputs": [],
   "source": []
  },
  {
   "cell_type": "code",
   "execution_count": 18,
   "metadata": {},
   "outputs": [
    {
     "data": {
      "text/plain": [
       "'abbbbbba'"
      ]
     },
     "execution_count": 18,
     "metadata": {},
     "output_type": "execute_result"
    }
   ],
   "source": [
    "s1 = \"baababbbbbbad\"\n",
    "longest_palindrome(s1)"
   ]
  },
  {
   "cell_type": "code",
   "execution_count": 19,
   "metadata": {},
   "outputs": [],
   "source": [
    "def long_palin(s1):\n",
    "    \n",
    "    res = \"\"\n",
    "    \n",
    "    for i in range(len(s1)):\n",
    "        temp = helper(s1,i,i)\n",
    "        if len(temp) > len(res):\n",
    "            res = temp\n",
    "        \n",
    "        temp = helper(s1,i,i+1)\n",
    "        if len(temp) > len(res):\n",
    "            res = temp\n",
    "    return res\n",
    "\n",
    "def helper(s1,l,r):\n",
    "    while l >= 0 and r < len(s1) and s1[l] == s1[r]:\n",
    "        l -= 1\n",
    "        r += 1\n",
    "    return s1[l+1:r]"
   ]
  },
  {
   "cell_type": "code",
   "execution_count": 20,
   "metadata": {},
   "outputs": [
    {
     "data": {
      "text/plain": [
       "'abbbbbba'"
      ]
     },
     "execution_count": 20,
     "metadata": {},
     "output_type": "execute_result"
    }
   ],
   "source": [
    "long_palin(s1)"
   ]
  },
  {
   "cell_type": "code",
   "execution_count": 21,
   "metadata": {},
   "outputs": [],
   "source": [
    "def long_p(s1):\n",
    "    \n",
    "    res = \"\"\n",
    "    \n",
    "    for i in range(len(s1)):\n",
    "        temp = helper(s1,i,i)\n",
    "        if len(temp) > len(res):\n",
    "            res = temp\n",
    "        \n",
    "        temp = helper(s1,i,i+1)\n",
    "        if len(temp) > len(res):\n",
    "            res = temp\n",
    "    return res\n",
    "\n",
    "def helper(s1,l,r):\n",
    "    while l >= 0 and r < len(s1) and s1[l] == s1[r]:\n",
    "        l -= 1\n",
    "        r += 1\n",
    "    return s1[l+1:r]"
   ]
  },
  {
   "cell_type": "code",
   "execution_count": 41,
   "metadata": {},
   "outputs": [],
   "source": [
    "def coins(coin,amount):\n",
    "    \n",
    "    table = [amount+1] * (amount+1)\n",
    "    table[0] = 0\n",
    "    print(table)\n",
    "    \n",
    "    for i in range(1,amount+1):\n",
    "        for c in coin:\n",
    "            if i >= c:\n",
    "                table[i] = min(table[i], table[i-c] + 1)\n",
    "                print(\"table[i]\",table[i])\n",
    "    if table[amount] > amount:\n",
    "        return -1\n",
    "    else:\n",
    "        return table[amount]"
   ]
  },
  {
   "cell_type": "code",
   "execution_count": 42,
   "metadata": {},
   "outputs": [
    {
     "name": "stdout",
     "output_type": "stream",
     "text": [
      "[0, 12, 12, 12, 12, 12, 12, 12, 12, 12, 12, 12]\n",
      "table[i] 1\n",
      "table[i] 2\n",
      "table[i] 1\n",
      "table[i] 2\n",
      "table[i] 2\n",
      "table[i] 3\n",
      "table[i] 2\n",
      "table[i] 3\n",
      "table[i] 3\n",
      "table[i] 1\n",
      "table[i] 2\n",
      "table[i] 2\n",
      "table[i] 2\n",
      "table[i] 3\n",
      "table[i] 2\n",
      "table[i] 2\n",
      "table[i] 3\n",
      "table[i] 3\n",
      "table[i] 3\n",
      "table[i] 4\n",
      "table[i] 3\n",
      "table[i] 3\n",
      "table[i] 4\n",
      "table[i] 4\n",
      "table[i] 2\n",
      "table[i] 3\n",
      "table[i] 3\n",
      "table[i] 3\n"
     ]
    },
    {
     "data": {
      "text/plain": [
       "3"
      ]
     },
     "execution_count": 42,
     "metadata": {},
     "output_type": "execute_result"
    }
   ],
   "source": [
    "coin = [1,2,5]\n",
    "amount = 11\n",
    "coins(coin,amount)"
   ]
  },
  {
   "cell_type": "code",
   "execution_count": null,
   "metadata": {},
   "outputs": [],
   "source": [
    "def min_coins(coins,amount):\n",
    "    \n",
    "    table = [amount + 1] * (amount+1)\n",
    "    table[0] = 0\n",
    "    \n",
    "    for i in range(1,amount+1):\n",
    "        for c in coins:\n",
    "            if i >= c:\n",
    "                table[i] = min(table[i],table[i-c]+1)\n",
    "    if table[amount] > amount:\n",
    "        return -1\n",
    "    else:\n",
    "        return table[amount]"
   ]
  },
  {
   "cell_type": "code",
   "execution_count": null,
   "metadata": {},
   "outputs": [],
   "source": []
  }
 ],
 "metadata": {
  "kernelspec": {
   "display_name": "Python 3",
   "language": "python",
   "name": "python3"
  },
  "language_info": {
   "codemirror_mode": {
    "name": "ipython",
    "version": 3
   },
   "file_extension": ".py",
   "mimetype": "text/x-python",
   "name": "python",
   "nbconvert_exporter": "python",
   "pygments_lexer": "ipython3",
   "version": "3.7.0"
  }
 },
 "nbformat": 4,
 "nbformat_minor": 2
}
