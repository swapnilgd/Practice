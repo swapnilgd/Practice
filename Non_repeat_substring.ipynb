{
 "cells": [
  {
   "cell_type": "code",
   "execution_count": 1,
   "metadata": {},
   "outputs": [],
   "source": [
    "#Longest substring without repeating chars # using sliding window\n",
    "\n",
    "def non_repeat_substring(str1):\n",
    "    winStart = 0\n",
    "    max_length = 0\n",
    "    out = {}\n",
    "\n",
    "    for winEnd in range(len(str1)):\n",
    "        right_char = str1[winEnd]\n",
    "        \n",
    "        if right_char in out:\n",
    "            winStart = max(winStart,out[right_char] + 1)\n",
    "        out[str1[winEnd]] = winEnd\n",
    "        \n",
    "            \n",
    "        max_length = max(max_length, winEnd - winStart + 1)\n",
    "    return max_length"
   ]
  },
  {
   "cell_type": "code",
   "execution_count": 4,
   "metadata": {},
   "outputs": [
    {
     "data": {
      "text/plain": [
       "8"
      ]
     },
     "execution_count": 4,
     "metadata": {},
     "output_type": "execute_result"
    }
   ],
   "source": [
    "str1 = \"cbadebwcyz\"\n",
    "non_repeat_substring(str1)"
   ]
  },
  {
   "cell_type": "code",
   "execution_count": null,
   "metadata": {},
   "outputs": [],
   "source": []
  }
 ],
 "metadata": {
  "kernelspec": {
   "display_name": "Python 3",
   "language": "python",
   "name": "python3"
  },
  "language_info": {
   "codemirror_mode": {
    "name": "ipython",
    "version": 3
   },
   "file_extension": ".py",
   "mimetype": "text/x-python",
   "name": "python",
   "nbconvert_exporter": "python",
   "pygments_lexer": "ipython3",
   "version": "3.7.0"
  }
 },
 "nbformat": 4,
 "nbformat_minor": 2
}
