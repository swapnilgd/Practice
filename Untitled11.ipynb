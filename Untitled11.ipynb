{
 "cells": [
  {
   "cell_type": "code",
   "execution_count": 49,
   "metadata": {},
   "outputs": [],
   "source": [
    "#Longest Substring Without Repeating Characters\n",
    "#\"abcabcbb\"\n",
    "\n",
    "\n",
    "def longest_subs(str1):\n",
    "    \n",
    "    right = left = longest = 0\n",
    "    out = set()\n",
    "    n = len(str1)\n",
    "    str2 = []\n",
    "    while left < n and right < n:\n",
    "        if str1[right] not in out:\n",
    "            out.add(str1[right])\n",
    "            str2.append(str1[right]) \n",
    "            right += 1\n",
    "            \n",
    "            longest = max(longest,right-left)\n",
    "        else:\n",
    "            out.remove(str1[left])\n",
    "            left += 1\n",
    "    print(str2)\n",
    "    return longest\n",
    "    \n"
   ]
  },
  {
   "cell_type": "code",
   "execution_count": 50,
   "metadata": {},
   "outputs": [
    {
     "name": "stdout",
     "output_type": "stream",
     "text": [
      "['a', 'b', 'c', 'a', 'd', 'a', 'e', 'e', 'a', 'b', 'c', 'b', 'b']\n"
     ]
    },
    {
     "data": {
      "text/plain": [
       "4"
      ]
     },
     "execution_count": 50,
     "metadata": {},
     "output_type": "execute_result"
    }
   ],
   "source": [
    "str1 = \"abcadaeeabcbb\"\n",
    "longest_subs(str1)"
   ]
  },
  {
   "cell_type": "code",
   "execution_count": 43,
   "metadata": {},
   "outputs": [],
   "source": [
    "def longest_sub(s1):\n",
    "    \n",
    "    right = left = longest = 0\n",
    "    out = set()\n",
    "    n = len(s1)\n",
    "        \n",
    "    while left < n and right < n:\n",
    "        if s1[right] not in out:\n",
    "            out.add(s1[right])\n",
    "            right += 1\n",
    "            longest = max(longest, right - left)\n",
    "        else:\n",
    "            out.remove(s1[left])\n",
    "            left += 1\n",
    "    return longest\n",
    "            "
   ]
  },
  {
   "cell_type": "code",
   "execution_count": 44,
   "metadata": {},
   "outputs": [
    {
     "data": {
      "text/plain": [
       "4"
      ]
     },
     "execution_count": 44,
     "metadata": {},
     "output_type": "execute_result"
    }
   ],
   "source": [
    "s1 = \"abcadaeeabcbb\"\n",
    "longest_sub(s1)"
   ]
  },
  {
   "cell_type": "code",
   "execution_count": null,
   "metadata": {},
   "outputs": [],
   "source": []
  }
 ],
 "metadata": {
  "kernelspec": {
   "display_name": "Python 3",
   "language": "python",
   "name": "python3"
  },
  "language_info": {
   "codemirror_mode": {
    "name": "ipython",
    "version": 3
   },
   "file_extension": ".py",
   "mimetype": "text/x-python",
   "name": "python",
   "nbconvert_exporter": "python",
   "pygments_lexer": "ipython3",
   "version": "3.7.0"
  }
 },
 "nbformat": 4,
 "nbformat_minor": 2
}
