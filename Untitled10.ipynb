{
 "cells": [
  {
   "cell_type": "code",
   "execution_count": 32,
   "metadata": {},
   "outputs": [],
   "source": [
    "def LicenseKey(str1,K):\n",
    "    \n",
    "    if K < 1 or K > len(str1):\n",
    "        return str1\n",
    "    \n",
    "    str1 = str1.upper().replace(\"-\",\"\")\n",
    "    result =\"\"\n",
    "    len_str1 = len(str1)\n",
    "    \n",
    "    \n",
    "    if len_str1%K == 0:\n",
    "        s1 = K\n",
    "    else:\n",
    "        s1 = len_str1%K\n",
    "    result = str1[:s1]\n",
    "    while s1 < len_str1:\n",
    "        result += \"-\"+str1[s1:s1+K]\n",
    "        s1 += K\n",
    "    return result"
   ]
  },
  {
   "cell_type": "code",
   "execution_count": 34,
   "metadata": {},
   "outputs": [
    {
     "data": {
      "text/plain": [
       "''"
      ]
     },
     "execution_count": 34,
     "metadata": {},
     "output_type": "execute_result"
    }
   ],
   "source": [
    "str1 =\"-----\" \n",
    "K = 2\n",
    "LicenseKey(str1,K)"
   ]
  },
  {
   "cell_type": "code",
   "execution_count": null,
   "metadata": {},
   "outputs": [],
   "source": []
  }
 ],
 "metadata": {
  "kernelspec": {
   "display_name": "Python 3",
   "language": "python",
   "name": "python3"
  },
  "language_info": {
   "codemirror_mode": {
    "name": "ipython",
    "version": 3
   },
   "file_extension": ".py",
   "mimetype": "text/x-python",
   "name": "python",
   "nbconvert_exporter": "python",
   "pygments_lexer": "ipython3",
   "version": "3.7.0"
  }
 },
 "nbformat": 4,
 "nbformat_minor": 2
}
