{
 "cells": [
  {
   "cell_type": "code",
   "execution_count": null,
   "metadata": {},
   "outputs": [],
   "source": [
    "def MeetingRooms(intervals):\n",
    "    \n",
    "    if not intervals:\n",
    "        return []\n",
    "    \n",
    "    intervals.sort(key = lambda x: x.start)\n",
    "    end_points = collections.deque(sorted(interval.end for interval in intervals))\n",
    "    \n",
    "    res = 1\n",
    "    pop_count = 0\n",
    "    \n",
    "    for i in range(1,len(intervals)):\n",
    "         while nd_points and end_points[0] <= intervals[i].start:\n",
    "            pop_count += 1\n",
    "        res = max(res, i-pop_count+1)\n",
    "    return res\n",
    "    "
   ]
  },
  {
   "cell_type": "code",
   "execution_count": null,
   "metadata": {},
   "outputs": [],
   "source": [
    "intervals = [[0,30],[5,10],[15,20]]\n",
    "MeetingRooms(intervals)"
   ]
  },
  {
   "cell_type": "code",
   "execution_count": 1,
   "metadata": {},
   "outputs": [
    {
     "ename": "SyntaxError",
     "evalue": "unexpected EOF while parsing (<ipython-input-1-8e8559f370c7>, line 12)",
     "output_type": "error",
     "traceback": [
      "\u001b[0;36m  File \u001b[0;32m\"<ipython-input-1-8e8559f370c7>\"\u001b[0;36m, line \u001b[0;32m12\u001b[0m\n\u001b[0;31m    \u001b[0m\n\u001b[0m    ^\u001b[0m\n\u001b[0;31mSyntaxError\u001b[0m\u001b[0;31m:\u001b[0m unexpected EOF while parsing\n"
     ]
    }
   ],
   "source": [
    "def MeetingRooms2(intervals):\n",
    "    \n",
    "    if not intervals:\n",
    "        return []\n",
    "    \n",
    "    intervals.sort(key = lambda x: x.start)\n",
    "    end_points = collections.deque(sorted(interval.end for interval in intervals))\n",
    "    \n",
    "    \n",
    "    res = 1\n",
    "    pop_count = 0\n",
    "    \n",
    "    for i in range(1,len(intervals)):\n",
    "        while end_points and end_points[0] < intervals[i].start:\n",
    "            pop_count += 1\n",
    "        res = max(res,i-pop_count+1)\n",
    "\n",
    "    return res"
   ]
  },
  {
   "cell_type": "code",
   "execution_count": null,
   "metadata": {},
   "outputs": [],
   "source": []
  }
 ],
 "metadata": {
  "kernelspec": {
   "display_name": "Python 3",
   "language": "python",
   "name": "python3"
  },
  "language_info": {
   "codemirror_mode": {
    "name": "ipython",
    "version": 3
   },
   "file_extension": ".py",
   "mimetype": "text/x-python",
   "name": "python",
   "nbconvert_exporter": "python",
   "pygments_lexer": "ipython3",
   "version": "3.7.0"
  }
 },
 "nbformat": 4,
 "nbformat_minor": 2
}
