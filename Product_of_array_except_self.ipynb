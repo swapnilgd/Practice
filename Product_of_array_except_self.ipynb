{
 "cells": [
  {
   "cell_type": "code",
   "execution_count": 3,
   "metadata": {},
   "outputs": [],
   "source": [
    "#Product of an array except self\n",
    "\n",
    "def product(nums):\n",
    "    n = len(nums)\n",
    "    res = [1]*n\n",
    "    \n",
    "    left = 1\n",
    "    right = 1\n",
    "    \n",
    "    for i in range(n):\n",
    "        res[i] *= left\n",
    "        left *= nums[i]\n",
    "        res[n-1] *= right\n",
    "        right *= nums[n-1]\n",
    "        n -= 1\n",
    "    return res"
   ]
  },
  {
   "cell_type": "code",
   "execution_count": 8,
   "metadata": {},
   "outputs": [
    {
     "data": {
      "text/plain": [
       "[24, 144, 72, 48, 36]"
      ]
     },
     "execution_count": 8,
     "metadata": {},
     "output_type": "execute_result"
    }
   ],
   "source": [
    "nums = [6,1,2,3,4]\n",
    "product(nums)"
   ]
  },
  {
   "cell_type": "code",
   "execution_count": 9,
   "metadata": {},
   "outputs": [],
   "source": [
    "def product_array(nums):\n",
    "    n = len(nums)\n",
    "    res = [1]*n\n",
    "    \n",
    "    left = right = 1\n",
    "    for i in range(n):\n",
    "        res[i] *= left\n",
    "        left *= nums[i]\n",
    "        res[n-1] *= right\n",
    "        right *= nums[n-1]\n",
    "        n -= 1\n",
    "    return res"
   ]
  },
  {
   "cell_type": "code",
   "execution_count": 10,
   "metadata": {},
   "outputs": [
    {
     "data": {
      "text/plain": [
       "[24, 144, 72, 48, 36]"
      ]
     },
     "execution_count": 10,
     "metadata": {},
     "output_type": "execute_result"
    }
   ],
   "source": [
    "product_array(nums)"
   ]
  },
  {
   "cell_type": "code",
   "execution_count": null,
   "metadata": {},
   "outputs": [],
   "source": []
  }
 ],
 "metadata": {
  "kernelspec": {
   "display_name": "Python 3",
   "language": "python",
   "name": "python3"
  },
  "language_info": {
   "codemirror_mode": {
    "name": "ipython",
    "version": 3
   },
   "file_extension": ".py",
   "mimetype": "text/x-python",
   "name": "python",
   "nbconvert_exporter": "python",
   "pygments_lexer": "ipython3",
   "version": "3.7.0"
  }
 },
 "nbformat": 4,
 "nbformat_minor": 2
}
