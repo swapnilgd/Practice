{
 "cells": [
  {
   "cell_type": "code",
   "execution_count": 1,
   "metadata": {},
   "outputs": [],
   "source": [
    "#SubArray sum equals K\n",
    "#Given an array of integers and an integer k, \n",
    "#you need to find the total number of continuous subarrays whose sum equals to k.\n",
    "\n",
    "def sub_array_sum(arr,k):\n",
    "    \n",
    "    out = {}\n",
    "    out[0] = 1\n",
    "    temp = result = 0\n",
    "    \n",
    "    for num in arr:\n",
    "        temp += num\n",
    "        if temp - k in out:\n",
    "            result += out[temp-k]\n",
    "        if temp in out:\n",
    "            out[temp] += 1\n",
    "        else:\n",
    "            out[temp] = 1\n",
    "    return result\n",
    "    "
   ]
  },
  {
   "cell_type": "code",
   "execution_count": 4,
   "metadata": {},
   "outputs": [
    {
     "data": {
      "text/plain": [
       "2"
      ]
     },
     "execution_count": 4,
     "metadata": {},
     "output_type": "execute_result"
    }
   ],
   "source": [
    "arr = [1,1,1]\n",
    "k = 2\n",
    "sub_array_sum(arr,k)"
   ]
  },
  {
   "cell_type": "code",
   "execution_count": null,
   "metadata": {},
   "outputs": [],
   "source": []
  }
 ],
 "metadata": {
  "kernelspec": {
   "display_name": "Python 3",
   "language": "python",
   "name": "python3"
  },
  "language_info": {
   "codemirror_mode": {
    "name": "ipython",
    "version": 3
   },
   "file_extension": ".py",
   "mimetype": "text/x-python",
   "name": "python",
   "nbconvert_exporter": "python",
   "pygments_lexer": "ipython3",
   "version": "3.7.0"
  }
 },
 "nbformat": 4,
 "nbformat_minor": 2
}
