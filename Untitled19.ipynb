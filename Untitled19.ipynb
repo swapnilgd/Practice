{
 "cells": [
  {
   "cell_type": "code",
   "execution_count": 10,
   "metadata": {},
   "outputs": [],
   "source": [
    "def str_reverse_inplace(s1):\n",
    "    length = len(s1)\n",
    "    \n",
    "    for i in range(0,length//2):\n",
    "        s1[i],s1[length-i-1] = s1[length-i-1],s1[i]\n",
    "    print(s1)"
   ]
  },
  {
   "cell_type": "code",
   "execution_count": 11,
   "metadata": {},
   "outputs": [
    {
     "name": "stdout",
     "output_type": "stream",
     "text": [
      "['l', 'i', 'n', 'p', 'a', 'w', 'S']\n"
     ]
    }
   ],
   "source": [
    "s1 = [\"S\",\"w\",\"a\",\"p\",\"n\",\"i\",\"l\"]\n",
    "str_reverse_inplace(s1)"
   ]
  },
  {
   "cell_type": "code",
   "execution_count": 12,
   "metadata": {},
   "outputs": [],
   "source": [
    "def str_reverse(s2):\n",
    "    out = \"\"\n",
    "    for i in range(len(s2)-1,-1,-1):\n",
    "        out += s2[i]\n",
    "    print(out)"
   ]
  },
  {
   "cell_type": "code",
   "execution_count": 13,
   "metadata": {},
   "outputs": [
    {
     "name": "stdout",
     "output_type": "stream",
     "text": [
      "htraaS\n"
     ]
    }
   ],
   "source": [
    "s2 = \"Saarth\"\n",
    "str_reverse(s2)"
   ]
  },
  {
   "cell_type": "code",
   "execution_count": 29,
   "metadata": {},
   "outputs": [],
   "source": [
    "def str_recursive(s2):\n",
    "    if len(s2) == 0:\n",
    "        return s2\n",
    "    else:\n",
    "        return str_recursive(s2[1:]) + s2[0]"
   ]
  },
  {
   "cell_type": "code",
   "execution_count": 30,
   "metadata": {},
   "outputs": [
    {
     "data": {
      "text/plain": [
       "'ayis'"
      ]
     },
     "execution_count": 30,
     "metadata": {},
     "output_type": "execute_result"
    }
   ],
   "source": [
    "s2 =\"siya\"\n",
    "str_recursive(s2)"
   ]
  },
  {
   "cell_type": "code",
   "execution_count": 31,
   "metadata": {},
   "outputs": [],
   "source": [
    "def palindrome(s3):\n",
    "    out = \"\"\n",
    "    for i in range(len(s3)-1,-1,-1):\n",
    "        out += s3[i]\n",
    "    return s3 == out"
   ]
  },
  {
   "cell_type": "code",
   "execution_count": 34,
   "metadata": {},
   "outputs": [
    {
     "data": {
      "text/plain": [
       "True"
      ]
     },
     "execution_count": 34,
     "metadata": {},
     "output_type": "execute_result"
    }
   ],
   "source": [
    "s3 = \"kanak\"\n",
    "palindrome(s3)"
   ]
  },
  {
   "cell_type": "code",
   "execution_count": 41,
   "metadata": {},
   "outputs": [],
   "source": [
    "def palindrome_perm(s4):\n",
    "    \n",
    "    d = {}\n",
    "    even = odd = 0\n",
    "    \n",
    "    for char in s4:\n",
    "        if char in d:\n",
    "            d[char] += 1\n",
    "        else:\n",
    "            d[char] = 1\n",
    "    \n",
    "    for v in d.values():\n",
    "        if v%2 == 0:\n",
    "            even += 1\n",
    "        else:\n",
    "            odd += 1\n",
    "    \n",
    "    if odd > 1:\n",
    "        return False\n",
    "    else:\n",
    "        return True"
   ]
  },
  {
   "cell_type": "code",
   "execution_count": 42,
   "metadata": {},
   "outputs": [
    {
     "data": {
      "text/plain": [
       "False"
      ]
     },
     "execution_count": 42,
     "metadata": {},
     "output_type": "execute_result"
    }
   ],
   "source": [
    "s4 = \"aacddcfg\"\n",
    "palindrome_perm(s4)"
   ]
  },
  {
   "cell_type": "code",
   "execution_count": 61,
   "metadata": {},
   "outputs": [],
   "source": [
    "def str_rotate(s1):\n",
    "    n = len(s1)-1\n",
    "    out = []\n",
    "    out.append(s1)\n",
    "    for i in range(0,n):\n",
    "        s1 = s1[n]+s1[:n]\n",
    "        out.append(s1)\n",
    "    return out"
   ]
  },
  {
   "cell_type": "code",
   "execution_count": 63,
   "metadata": {},
   "outputs": [
    {
     "data": {
      "text/plain": [
       "['catdog', 'gcatdo', 'ogcatd', 'dogcat', 'tdogca', 'atdogc']"
      ]
     },
     "execution_count": 63,
     "metadata": {},
     "output_type": "execute_result"
    }
   ],
   "source": [
    "s1 = \"catdog\"\n",
    "str_rotate(s1)"
   ]
  },
  {
   "cell_type": "code",
   "execution_count": 69,
   "metadata": {},
   "outputs": [],
   "source": [
    "def one_edit(s1,s2):\n",
    "    m = len(s1)\n",
    "    n = len(s2)\n",
    "    i = j = count = 0\n",
    "    \n",
    "    if abs(m-n) > 1:\n",
    "        return False\n",
    "    \n",
    "    while i < m and j < n:\n",
    "        if s1[i] != s2[j]:\n",
    "            count += 1\n",
    "            \n",
    "            if count > 1:\n",
    "                return False\n",
    "            \n",
    "            if m == n:\n",
    "                i += 1\n",
    "                j += 1\n",
    "            \n",
    "            elif m > n:\n",
    "                i += 1\n",
    "            else:\n",
    "                j += 1\n",
    "            \n",
    "        else:\n",
    "            i += 1\n",
    "            j += 1\n",
    "    \n",
    "    if i < m and j < n:\n",
    "        count += 1\n",
    "    return count == 1"
   ]
  },
  {
   "cell_type": "code",
   "execution_count": 71,
   "metadata": {},
   "outputs": [
    {
     "data": {
      "text/plain": [
       "False"
      ]
     },
     "execution_count": 71,
     "metadata": {},
     "output_type": "execute_result"
    }
   ],
   "source": [
    "s1 = \"cat\"\n",
    "s2 = \"dap\"\n",
    "one_edit(s1,s2)"
   ]
  },
  {
   "cell_type": "code",
   "execution_count": null,
   "metadata": {},
   "outputs": [],
   "source": []
  }
 ],
 "metadata": {
  "kernelspec": {
   "display_name": "Python 3",
   "language": "python",
   "name": "python3"
  },
  "language_info": {
   "codemirror_mode": {
    "name": "ipython",
    "version": 3
   },
   "file_extension": ".py",
   "mimetype": "text/x-python",
   "name": "python",
   "nbconvert_exporter": "python",
   "pygments_lexer": "ipython3",
   "version": "3.7.0"
  }
 },
 "nbformat": 4,
 "nbformat_minor": 2
}
